{
 "cells": [
  {
   "cell_type": "markdown",
   "metadata": {},
   "source": [
    "# Satirising Superpowers "
   ]
  },
  {
   "cell_type": "markdown",
   "metadata": {},
   "source": [
    "![marvel_vs_dc](../assets/mvdc_banner.jpg)"
   ]
  },
  {
   "cell_type": "markdown",
   "metadata": {},
   "source": [
    "## Problem Statement\n",
    "\n",
    "This project endeavours to investigate the phenomenon of satirising superpowers in two subreddits (r/shittysuperpowers vs r/godtiersuperpowers), and to uncover what they reveal about the modern human psyche. These subreddits differ by how lousy (r/shittysuperpowers) or overpowered (r/godtiersuperpowers) the described superpower is. Shitty superpowers have unintended consequences whereas god-tier superpowers are likely to be consequence-free, even if trivial or seemingly meaningless for humour's sake.\n",
    "\n",
    "Through exploration of the subreddits in tandem, we should expect to discover our day-to-day struggles and concerns, problems that are sometimes larger than each of us and often outside our control. It is because these problems are out of our hands that we fantasise and/or mock superpowers that can deal with them effectively and efficiently, no matter how trivial or laughable. By contrasting between key word features from the two subreddits, we can gain an insight into the sentiment of futility or hopefulness behind an identified problem.\n",
    "\n",
    "Thus, our hypothesis comes in two folds. The first, that both subreddits address in common certain root problems that the described superpowers wishes to tackle. The second, that r/shittysuperpowers (because of its implied consequences that comes with its superpowers) tackle themes/problems that are perceived as generally futile and too big to solve, whereas r/godtiersuperpowers (because of the implied lack of consequences of its superpowers) tackle themes/problems that are perceived more hopefully with an optimism for an eventual positive outcome.\n",
    "\n",
    "Collapsed below are the rulesets for both subreddits in question.\n",
    "<br>\n",
    "<br>\n",
    "<details><summary>Rules for r/shittysuperpowers</summary>\n",
    "\n",
    "||rule|<center>r/shittysuperpowers*<center>|\n",
    "|:--:|:--|:--|\n",
    "|01|Only shitty superpowers.|For some reason this has been a problem before. Dont post videos of people riding in shopping carts. or anything that isnt a superpower.|\n",
    "|02|Control.|Power must have some form of agency. It can't just be things happening.|\n",
    "|03|Start it off.|Please begin all posts with some form of introduction. \"You can,\" \"The ability to,\" etc|\n",
    "|04|No caveats.|No posting powers that rely on a single bad thing that completely ruins the power. Ex: You can fly, but only at night.|\n",
    "|05|No reposts.|Obviously your superpowers have to be unique and new. Don't say anything that has been said before.|\n",
    "|06|No image posts.|Only text posts are allowed from here on out. If you have a visual diagram of any kind to give, feel free to give it in the comments. All image posts will be removed.|\n",
    "|07|Low effort vulgarity.|Topics such as sex, genitals, and bodily functions will be tolerated provided they are clever and adhere to the other rules. Low effort posts that only exist to be vulgar will be removed.|\n",
    "|08|No curses.|It's your super power, not something external happening to you. Most of these start off \"every time you X, Y happens\" or \"whenever X, Y\"|\n",
    "|09|No karma or award farming.|This basically means that posts referencing awards, karma, or cake days are not allowed.|\n",
    "\n",
    "<p style=\"text-align:right;\"><sup>*Source: https://www.reddit.com/r/shittysuperpowers/</sup></p>\n",
    "</details>\n",
    "\n",
    "<details><summary>Rules for r/godtiersuperpowers</summary>\n",
    "\n",
    "||rule|<center>r/godtiersuperpowers*<center>|\n",
    "|:--:|:--|:--|\n",
    "|01|Maintain sub spirit.|Things that aren't actually overpowered, but are funny so we pretend they are overpowered was the start of this sub, let's keep that here.<br>Additionally, creative powers, like finding a way the above not-very-good power could actually be god tier, are at the heart of the sub.<br>Also take note: Unless a post has an award on it, no matter how many upvotes, I will delete it if it breaks the rules.\n",
    "|02|Avoid overdone powers.|Read \"Overdone Power List\" to know in full, but avoid powers that have been done a million times.|\n",
    "|03|No reposts.|Mostly you can just read the \"Avoid overdone powers\" rule, but yeah, don't repost things.|\n",
    "|04|No venting powers.|Things like \"you don't get [treated badly] by [person] like jeez brenda\"|\n",
    "|05|Overdone Power List.|Includes:<ul><li>Most forms of teleportation, especially \"fast-travel\" type powers.</li><li>\"You literally are god/you are omnipotent\" haha guys get it its funny because the sub is godteirsuperpowr! and power literaly make you god! funy!</li><li>Quicksaves. Do you really think that hasn't been done before?</li><li>Activates with finger guns/snapping: It's GODTIERsuperpowers, it's been done a million times before. Just have it at will.</li><li>\"You get all the powers on this sub\"</li><li>Upvotes on cakeday</li><li>59 second noodles</li><li>Kobe/Yeet for accuracy/power of throws</li></ul>|\n",
    "    \n",
    "<p style=\"text-align:right;\"><sup>*Source: https://www.reddit.com/r/godtiersuperpowers/</sup></p>\n",
    "</details>\n",
    "\n",
    "You may visit r/shittysuperpowers [here](https://www.reddit.com/r/shittysuperpowers/) and r/godtiersuperpowers [here](https://www.reddit.com/r/godtiersuperpowers/)."
   ]
  },
  {
   "cell_type": "markdown",
   "metadata": {},
   "source": [
    "## Executive Summary\n",
    "\n",
    "The codes in this project are split across three notebooks. A total of 4 models were built iteratively to improve upon the classifier. There are different strategies to improve the model employed at each step of the way, and you should expect to toggle frequently between the Data notebook and the Model notebook. Each model is clearly numbered and its features are cleaned/engineered in the Data notebook before exporting for modelling in the Model notebook. The feature `is_shitty` is assigned as our target variable, with 1 indicating r/shittysuperpowers and 0 indicatiing r/godtiersuperpowers.\n",
    "\n",
    "In this Code notebook, we will be performing all modelling and metrics evaluation. The process is largely the same with each models. Merged dataset imported would have to be split into training and unseen test set. Cross-validation methods are employed to evaluate the type of vectorizer (either `CountVectorizer` or `TfidfVectorizer`) and classifier (a custom function was written to test cross-validate `LogisticRegression`, `MultinomialNB`, and `KNeighborsClassifier` classifiers) to use. Once vectorizer and classifier is selected, hyper parameters are tuned using a combination of `Pipeline` and `GridSearchCV`. The final model is then trained again using the best hyper parameters and on the full training set without need for cross-validation anymore.\n",
    "\n",
    "After final model has been built, we then score the model according to a few metrics. Since it would be equally bad to misclassify for r/shittysuperpowers as it would be to misclassify r/godtiersuperpowers, our main focus is on improving our accuracy score as well as minimising the gap in scores between training accuracy and test accuracy to improve generalisation of model. Attached below is a table recording the scores of our models. It begins with a baseline accuracy of 50.4% measured from the proportion of r/shittysuperpowers class in our training set.\n",
    "\n",
    "#### Tracking Model Performance:\n",
    "\n",
    "|Model No.|Training Accuracy|Test Accuracy|Score Gap|Recall|Specificity|ROC-AUC|\n",
    "|---|---|---|---|---|---|---|\n",
    "|None|-|0.504|-|-|-|-|\n",
    "|01|0.744|0.634|0.110|0.699|0.583|0.677|\n",
    "|02|0.729|0.659|0.070|0.645|0.670|0.709|\n",
    "|03|0.708|0.674|0.033|0.692|0.661|0.720|\n",
    "|04_1|0.708|0.674|0.034|-|-|-|\n",
    "|04_2|0.738|0.812|-0.075|-|-|-|\n",
    "|04|-|0.694|-|0.692|0.696|0.750|\n",
    "\n",
    "As an NLP project, Models 01 through 03 were trained solely on word features. Model 01 was our baseline model trained on post titles largely untouched except for the preliminary censoring of all NSFW words. Model 02 was trained on post titles that have been lemmatized and stemmed respectively. Model 03 was trained on post titles that have all references to money (including numerals) substituted with a word feature, and its word features subsequently weighted according to the amount of upvotes the respective post has. Model 04 is a hybrid model that attempts to improve our classification accuracy by aggregating the `predict_proba` of a similar model to Model 03, and a `LogisticRegression` model for selected non-NLP features.\n",
    "\n",
    "Through the iterative process of modelling, our accuracy score as well as score gap and `ROC-AUC` improved each step of the way. Though there is improvement, the change is slight. Model 04 was trained on non-NLP features as well because it became apparent that there is a plateau in terms of model's performance that we are reaching when trained solely on word features."
   ]
  },
  {
   "cell_type": "markdown",
   "metadata": {},
   "source": [
    "## Contents:\n",
    "\n",
    "- [Model 01: TfidfVectorizer + MultinomialNB](#Model-01:-TfidfVectorizer-+-MultinomialNB)\n",
    "- [Model 02: CountVectorizer + MultinomialNB](#Model-02:-CountVectorizer-+-MultinomialNB)\n",
    "- [Model 03](#Model-03)\n",
    "- [Model 04](#Model-04)\n",
    "- [Conclusion](#Conclusion)\n",
    "\n",
    "\n",
    "#### Data Dictionary\n",
    "This data dictionary only include features that are relevant to our analysis and modelling process\n",
    "\n",
    "|Feature|Format|Type|Description|\n",
    "|---|---|---|---|\n",
    "|**subreddit**|*str*|Nominal|Subreddit of each post, and our target variable.|\n",
    "|**is_shitty**|*integer*|Discrete|Dummy variable of the \"subreddit\" feature, and our target variable.|\n",
    "|**ups**|*integer*|Discrete|Number of upvotes for each post.|\n",
    "|**upvote_ratio**|*integer*|Discrete|Ratio of upvotes to total votes for each post.|\n",
    "|**total_awards_received**|*integer*|Discrete|Total number of awards post received|\n",
    "|**num_comments**|*integer*|Discrete|Total number of comments post attracted.|\n",
    "|**over_18**|*bool*|Discrete|True if post is tagged as NSFW; False otherwise.|\n",
    "|**is_over_18**|*integer*|Discrete|1 if post is tagged NSFW; 0 otherwise.|\n",
    "|**num_comments**|*integer*|Discrete|Total number of comments post attracted.|\n",
    "|**created**|*float*|Continuous|Unix time when post was created.|\n",
    "|**pacific_st_created**|*Timestamp*|Continuous|Unix time of posts' creation converted to pandas Timestamp object.|\n",
    "|**time_of_day**|*str*|Nominal|Split posts by the time of day (4 parts to a day) posts were created.|\n",
    "|**title**|*str*|Nominal|Title of each post.|\n",
    "|**title_censored**|*str*|Nominal|Title of each post after removing NSFW words.|\n",
    "|**title_tokens**|*list*|Nominal|List of strings after tokenising each post title to keep some special characters and drop all others with `RegexpTokenizer`.|\n",
    "|**title_tokens_str**|*str*|Nominal|Concatenated string of list of string from \"title_tokens\"|\n",
    "|**title_tokens_lemm**|*str*|Nominal|Title of each post after regex tokenising and lemmatising with `WordNetLemmatizer`.|\n",
    "|**title_tokens_stem**|*str*|Nominal|Title of each post after regex tokenising and stemming with `PorterStemmer` and subsequently substituting all references to money with a single word feature.|\n",
    "|**title_stem_weight**|*str*|Nominal|Weighted title of each post by multiplying title and joining them for as many times as there are upvotes.|\n"
   ]
  },
  {
   "cell_type": "markdown",
   "metadata": {},
   "source": [
    "#### Python Libraries"
   ]
  },
  {
   "cell_type": "code",
   "execution_count": 1,
   "metadata": {},
   "outputs": [],
   "source": [
    "import numpy as np\n",
    "import pandas as pd\n",
    "import scipy.sparse as sp\n",
    "\n",
    "import os\n",
    "from wordcloud import WordCloud, STOPWORDS\n",
    "from PIL import Image\n",
    "\n",
    "from nltk.stem import WordNetLemmatizer\n",
    "from nltk.stem.porter import PorterStemmer\n",
    "from nltk.tokenize import RegexpTokenizer\n",
    "\n",
    "from sklearn.pipeline import Pipeline\n",
    "from sklearn.feature_extraction.text import CountVectorizer, TfidfVectorizer\n",
    "from sklearn.naive_bayes import BernoulliNB, MultinomialNB, GaussianNB\n",
    "from sklearn.linear_model import LogisticRegression\n",
    "from sklearn.neighbors import KNeighborsClassifier\n",
    "from sklearn.model_selection import cross_val_score, train_test_split, GridSearchCV\n",
    "from sklearn.preprocessing import StandardScaler\n",
    "from sklearn.metrics import mean_absolute_error, confusion_matrix, roc_auc_score\n",
    "\n",
    "import matplotlib\n",
    "import matplotlib.pyplot as plt\n",
    "import seaborn as sns\n",
    "plt.style.use('fivethirtyeight')\n",
    "\n",
    "%config InlineBackend.figure_format = 'retina'\n",
    "%matplotlib inline"
   ]
  },
  {
   "cell_type": "markdown",
   "metadata": {},
   "source": [
    "## Model 01: TfidfVectorizer + MultinomialNB\n",
    "[Back to Top!](#Contents:)"
   ]
  },
  {
   "cell_type": "markdown",
   "metadata": {},
   "source": [
    "#### Import DataFrame"
   ]
  },
  {
   "cell_type": "code",
   "execution_count": 2,
   "metadata": {},
   "outputs": [
    {
     "data": {
      "text/plain": [
       "(1957, 110)"
      ]
     },
     "execution_count": 2,
     "metadata": {},
     "output_type": "execute_result"
    }
   ],
   "source": [
    "sp_merged = pd.read_csv(\"../datasets/merged_sp_top.csv\")\n",
    "sp_merged.shape"
   ]
  },
  {
   "cell_type": "code",
   "execution_count": 3,
   "metadata": {},
   "outputs": [
    {
     "data": {
      "text/html": [
       "<div>\n",
       "<style scoped>\n",
       "    .dataframe tbody tr th:only-of-type {\n",
       "        vertical-align: middle;\n",
       "    }\n",
       "\n",
       "    .dataframe tbody tr th {\n",
       "        vertical-align: top;\n",
       "    }\n",
       "\n",
       "    .dataframe thead th {\n",
       "        text-align: right;\n",
       "    }\n",
       "</style>\n",
       "<table border=\"1\" class=\"dataframe\">\n",
       "  <thead>\n",
       "    <tr style=\"text-align: right;\">\n",
       "      <th></th>\n",
       "      <th>approved_at_utc</th>\n",
       "      <th>subreddit</th>\n",
       "      <th>selftext</th>\n",
       "      <th>author_fullname</th>\n",
       "      <th>saved</th>\n",
       "      <th>mod_reason_title</th>\n",
       "      <th>gilded</th>\n",
       "      <th>clicked</th>\n",
       "      <th>title</th>\n",
       "      <th>link_flair_richtext</th>\n",
       "      <th>...</th>\n",
       "      <th>num_crossposts</th>\n",
       "      <th>media</th>\n",
       "      <th>is_video</th>\n",
       "      <th>link_flair_template_id</th>\n",
       "      <th>author_cakeday</th>\n",
       "      <th>crosspost_parent_list</th>\n",
       "      <th>crosspost_parent</th>\n",
       "      <th>is_shitty</th>\n",
       "      <th>title_censored</th>\n",
       "      <th>pacific_st_created</th>\n",
       "    </tr>\n",
       "  </thead>\n",
       "  <tbody>\n",
       "    <tr>\n",
       "      <th>0</th>\n",
       "      <td>NaN</td>\n",
       "      <td>shittysuperpowers</td>\n",
       "      <td>you can't turn back</td>\n",
       "      <td>t2_76n67</td>\n",
       "      <td>False</td>\n",
       "      <td>NaN</td>\n",
       "      <td>0</td>\n",
       "      <td>False</td>\n",
       "      <td>you can turn into a goose, once</td>\n",
       "      <td>[]</td>\n",
       "      <td>...</td>\n",
       "      <td>0</td>\n",
       "      <td>NaN</td>\n",
       "      <td>False</td>\n",
       "      <td>NaN</td>\n",
       "      <td>NaN</td>\n",
       "      <td>NaN</td>\n",
       "      <td>NaN</td>\n",
       "      <td>1</td>\n",
       "      <td>you can turn into a goose, once</td>\n",
       "      <td>2018-05-07 18:43:50</td>\n",
       "    </tr>\n",
       "    <tr>\n",
       "      <th>1</th>\n",
       "      <td>NaN</td>\n",
       "      <td>shittysuperpowers</td>\n",
       "      <td>NaN</td>\n",
       "      <td>t2_66d4bkr</td>\n",
       "      <td>False</td>\n",
       "      <td>NaN</td>\n",
       "      <td>0</td>\n",
       "      <td>False</td>\n",
       "      <td>You can punch with half the strength of someon...</td>\n",
       "      <td>[]</td>\n",
       "      <td>...</td>\n",
       "      <td>0</td>\n",
       "      <td>NaN</td>\n",
       "      <td>False</td>\n",
       "      <td>NaN</td>\n",
       "      <td>NaN</td>\n",
       "      <td>NaN</td>\n",
       "      <td>NaN</td>\n",
       "      <td>1</td>\n",
       "      <td>you can punch with half the strength of someon...</td>\n",
       "      <td>2018-05-07 21:42:12</td>\n",
       "    </tr>\n",
       "    <tr>\n",
       "      <th>2</th>\n",
       "      <td>NaN</td>\n",
       "      <td>shittysuperpowers</td>\n",
       "      <td>NaN</td>\n",
       "      <td>t2_20p7w7s</td>\n",
       "      <td>False</td>\n",
       "      <td>NaN</td>\n",
       "      <td>1</td>\n",
       "      <td>False</td>\n",
       "      <td>You can unpee.</td>\n",
       "      <td>[]</td>\n",
       "      <td>...</td>\n",
       "      <td>0</td>\n",
       "      <td>NaN</td>\n",
       "      <td>False</td>\n",
       "      <td>NaN</td>\n",
       "      <td>True</td>\n",
       "      <td>NaN</td>\n",
       "      <td>NaN</td>\n",
       "      <td>1</td>\n",
       "      <td>you can unpee.</td>\n",
       "      <td>2018-06-17 17:35:10</td>\n",
       "    </tr>\n",
       "  </tbody>\n",
       "</table>\n",
       "<p>3 rows × 110 columns</p>\n",
       "</div>"
      ],
      "text/plain": [
       "   approved_at_utc          subreddit             selftext author_fullname  \\\n",
       "0              NaN  shittysuperpowers  you can't turn back        t2_76n67   \n",
       "1              NaN  shittysuperpowers                  NaN      t2_66d4bkr   \n",
       "2              NaN  shittysuperpowers                  NaN      t2_20p7w7s   \n",
       "\n",
       "   saved  mod_reason_title  gilded  clicked  \\\n",
       "0  False               NaN       0    False   \n",
       "1  False               NaN       0    False   \n",
       "2  False               NaN       1    False   \n",
       "\n",
       "                                               title link_flair_richtext  ...  \\\n",
       "0                    you can turn into a goose, once                  []  ...   \n",
       "1  You can punch with half the strength of someon...                  []  ...   \n",
       "2                                     You can unpee.                  []  ...   \n",
       "\n",
       "  num_crossposts  media  is_video  link_flair_template_id  author_cakeday  \\\n",
       "0              0    NaN     False                     NaN             NaN   \n",
       "1              0    NaN     False                     NaN             NaN   \n",
       "2              0    NaN     False                     NaN            True   \n",
       "\n",
       "   crosspost_parent_list  crosspost_parent is_shitty  \\\n",
       "0                    NaN               NaN         1   \n",
       "1                    NaN               NaN         1   \n",
       "2                    NaN               NaN         1   \n",
       "\n",
       "                                      title_censored   pacific_st_created  \n",
       "0                    you can turn into a goose, once  2018-05-07 18:43:50  \n",
       "1  you can punch with half the strength of someon...  2018-05-07 21:42:12  \n",
       "2                                     you can unpee.  2018-06-17 17:35:10  \n",
       "\n",
       "[3 rows x 110 columns]"
      ]
     },
     "execution_count": 3,
     "metadata": {},
     "output_type": "execute_result"
    }
   ],
   "source": [
    "sp_merged.head(3)"
   ]
  },
  {
   "cell_type": "markdown",
   "metadata": {},
   "source": [
    "#### Split into Training and Unseen Test set"
   ]
  },
  {
   "cell_type": "code",
   "execution_count": 4,
   "metadata": {},
   "outputs": [
    {
     "data": {
      "text/plain": [
       "1957"
      ]
     },
     "execution_count": 4,
     "metadata": {},
     "output_type": "execute_result"
    }
   ],
   "source": [
    "len(sp_merged)"
   ]
  },
  {
   "cell_type": "code",
   "execution_count": 5,
   "metadata": {},
   "outputs": [],
   "source": [
    "# let's set 80% as training set and 20% as unseen test set\n",
    "\n",
    "# since we are predicting for newer posts and df has already been ordered by time\n",
    "# let's split for training set and unseen test set by older 80% and newer 20%"
   ]
  },
  {
   "cell_type": "code",
   "execution_count": 6,
   "metadata": {},
   "outputs": [
    {
     "name": "stdout",
     "output_type": "stream",
     "text": [
      "Training set shape: (1566, 110)\n",
      "Unseen test set shape: (391, 110)\n"
     ]
    }
   ],
   "source": [
    "# sp_merged already sorted by \"created\" date\n",
    "sp_merged_train = sp_merged.iloc[:round(0.8*len(sp_merged))] # first 80% of data (older posts)\n",
    "print(\"Training set shape:\", sp_merged_train.shape)\n",
    "sp_merged_unseen = sp_merged.iloc[round(0.8*len(sp_merged)):] # last 20% of data (newer posts)\n",
    "print(\"Unseen test set shape:\", sp_merged_unseen.shape)"
   ]
  },
  {
   "cell_type": "markdown",
   "metadata": {},
   "source": [
    "#### Planning Baseline Model with Cross-Validation"
   ]
  },
  {
   "cell_type": "code",
   "execution_count": 7,
   "metadata": {},
   "outputs": [
    {
     "data": {
      "text/plain": [
       "shittysuperpowers     0.503831\n",
       "godtiersuperpowers    0.496169\n",
       "Name: subreddit, dtype: float64"
      ]
     },
     "execution_count": 7,
     "metadata": {},
     "output_type": "execute_result"
    }
   ],
   "source": [
    "# baseline accuracy of 50.4% in predicting for r/shittysuperpowers\n",
    "sp_merged_train[\"subreddit\"].value_counts(normalize=True) # classes are evenly balanced"
   ]
  },
  {
   "cell_type": "code",
   "execution_count": 8,
   "metadata": {},
   "outputs": [],
   "source": [
    "features = [\"title_censored\"]\n",
    "X = sp_merged_train[features]\n",
    "y = sp_merged_train[\"is_shitty\"]"
   ]
  },
  {
   "cell_type": "code",
   "execution_count": 9,
   "metadata": {
    "scrolled": true
   },
   "outputs": [
    {
     "data": {
      "text/html": [
       "<div>\n",
       "<style scoped>\n",
       "    .dataframe tbody tr th:only-of-type {\n",
       "        vertical-align: middle;\n",
       "    }\n",
       "\n",
       "    .dataframe tbody tr th {\n",
       "        vertical-align: top;\n",
       "    }\n",
       "\n",
       "    .dataframe thead th {\n",
       "        text-align: right;\n",
       "    }\n",
       "</style>\n",
       "<table border=\"1\" class=\"dataframe\">\n",
       "  <thead>\n",
       "    <tr style=\"text-align: right;\">\n",
       "      <th></th>\n",
       "      <th>title_censored</th>\n",
       "    </tr>\n",
       "  </thead>\n",
       "  <tbody>\n",
       "    <tr>\n",
       "      <th>0</th>\n",
       "      <td>you can turn into a goose, once</td>\n",
       "    </tr>\n",
       "    <tr>\n",
       "      <th>1</th>\n",
       "      <td>you can punch with half the strength of someon...</td>\n",
       "    </tr>\n",
       "    <tr>\n",
       "      <th>2</th>\n",
       "      <td>you can unpee.</td>\n",
       "    </tr>\n",
       "  </tbody>\n",
       "</table>\n",
       "</div>"
      ],
      "text/plain": [
       "                                      title_censored\n",
       "0                    you can turn into a goose, once\n",
       "1  you can punch with half the strength of someon...\n",
       "2                                     you can unpee."
      ]
     },
     "execution_count": 9,
     "metadata": {},
     "output_type": "execute_result"
    }
   ],
   "source": [
    "X.head(3)"
   ]
  },
  {
   "cell_type": "code",
   "execution_count": 10,
   "metadata": {},
   "outputs": [
    {
     "data": {
      "text/plain": [
       "0    1\n",
       "1    1\n",
       "2    1\n",
       "Name: is_shitty, dtype: int64"
      ]
     },
     "execution_count": 10,
     "metadata": {},
     "output_type": "execute_result"
    }
   ],
   "source": [
    "y.head(3)"
   ]
  },
  {
   "cell_type": "code",
   "execution_count": 11,
   "metadata": {},
   "outputs": [],
   "source": [
    "# train-test split on training set\n",
    "X_train, X_test, y_train, y_test = train_test_split(X, y, random_state=42)"
   ]
  },
  {
   "cell_type": "code",
   "execution_count": 12,
   "metadata": {},
   "outputs": [],
   "source": [
    "# vectorize with both CountVectorizer and TfidfVectorizer"
   ]
  },
  {
   "cell_type": "code",
   "execution_count": 13,
   "metadata": {},
   "outputs": [
    {
     "name": "stdout",
     "output_type": "stream",
     "text": [
      "Shape of training sparse matrix: (1174, 2959)\n",
      "Shape of test sparse matrix: (392, 2959)\n"
     ]
    }
   ],
   "source": [
    "# CountVectorizer\n",
    "cvec = CountVectorizer(stop_words=\"english\", max_features=None)\n",
    "X_train_cvec = cvec.fit_transform(X_train[\"title_censored\"])\n",
    "print(\"Shape of training sparse matrix:\", X_train_cvec.shape)\n",
    "X_test_cvec = cvec.transform(X_test[\"title_censored\"])\n",
    "print(\"Shape of test sparse matrix:\", X_test_cvec.shape)"
   ]
  },
  {
   "cell_type": "code",
   "execution_count": 14,
   "metadata": {},
   "outputs": [
    {
     "name": "stdout",
     "output_type": "stream",
     "text": [
      "Shape of training sparse matrix: (1174, 2959)\n",
      "Shape of test sparse matrix: (392, 2959)\n"
     ]
    }
   ],
   "source": [
    "# TfidfVectorizer\n",
    "tvec = TfidfVectorizer(stop_words=\"english\", max_features=None)\n",
    "X_train_tvec = tvec.fit_transform(X_train[\"title_censored\"])\n",
    "print(\"Shape of training sparse matrix:\", X_train_tvec.shape)\n",
    "X_test_tvec = tvec.transform(X_test[\"title_censored\"])\n",
    "print(\"Shape of test sparse matrix:\", X_test_tvec.shape)"
   ]
  },
  {
   "cell_type": "code",
   "execution_count": 15,
   "metadata": {},
   "outputs": [],
   "source": [
    "# after vectorising, there are 2959 word features for both cvec and tvec"
   ]
  },
  {
   "cell_type": "code",
   "execution_count": 16,
   "metadata": {},
   "outputs": [
    {
     "data": {
      "text/plain": [
       "censoredbleeep    166\n",
       "time              137\n",
       "make               71\n",
       "say                61\n",
       "like               60\n",
       "                 ... \n",
       "oblivion            1\n",
       "obscure             1\n",
       "obtain              1\n",
       "occasionally        1\n",
       "00                  1\n",
       "Length: 2959, dtype: int64"
      ]
     },
     "execution_count": 16,
     "metadata": {},
     "output_type": "execute_result"
    }
   ],
   "source": [
    "# sneak peek at cvec count\n",
    "pd.DataFrame(X_train_cvec.todense(), columns=cvec.get_feature_names()).sum().sort_values(ascending=False)"
   ]
  },
  {
   "cell_type": "code",
   "execution_count": 17,
   "metadata": {},
   "outputs": [
    {
     "data": {
      "text/plain": [
       "censoredbleeep    36.798327\n",
       "time              26.276240\n",
       "make              18.048082\n",
       "like              14.593706\n",
       "say               13.591770\n",
       "                    ...    \n",
       "refuse             0.150726\n",
       "consider           0.150726\n",
       "inherently         0.150726\n",
       "limited            0.150726\n",
       "duplicate          0.131600\n",
       "Length: 2959, dtype: float64"
      ]
     },
     "execution_count": 17,
     "metadata": {},
     "output_type": "execute_result"
    }
   ],
   "source": [
    "# sneak peek at tvec count\n",
    "pd.DataFrame(X_train_tvec.todense(), columns=tvec.get_feature_names()).sum().sort_values(ascending=False)"
   ]
  },
  {
   "cell_type": "code",
   "execution_count": 18,
   "metadata": {},
   "outputs": [],
   "source": [
    "# model baseline with both LogisticRegression and MultinomialNB for both types of vectors\n",
    "### since matrix does not consist only of 0s and 1s, we do not use BernoulliNB\n",
    "### since we do not know if matrix follows a normal distribution, we do not use GaussianNB"
   ]
  },
  {
   "cell_type": "code",
   "execution_count": 19,
   "metadata": {},
   "outputs": [],
   "source": [
    "lr = LogisticRegression() # instantiate log reg\n",
    "mnb = MultinomialNB() # instantiate multinomial naive-bayes"
   ]
  },
  {
   "cell_type": "code",
   "execution_count": 20,
   "metadata": {},
   "outputs": [
    {
     "data": {
      "text/plain": [
       "0.6158232917740476"
      ]
     },
     "execution_count": 20,
     "metadata": {},
     "output_type": "execute_result"
    }
   ],
   "source": [
    "# scoring LogisticRegression on CountVectorizer\n",
    "cross_val_score(estimator=lr, X=X_train_cvec, y=y_train, cv=4).mean()"
   ]
  },
  {
   "cell_type": "code",
   "execution_count": 21,
   "metadata": {},
   "outputs": [
    {
     "data": {
      "text/plain": [
       "0.6269096375751666"
      ]
     },
     "execution_count": 21,
     "metadata": {},
     "output_type": "execute_result"
    }
   ],
   "source": [
    "# scoring LogisticRegression on TfidfVectorizer\n",
    "cross_val_score(estimator=lr, X=X_train_tvec, y=y_train, cv=4).mean()"
   ]
  },
  {
   "cell_type": "code",
   "execution_count": 22,
   "metadata": {},
   "outputs": [
    {
     "data": {
      "text/plain": [
       "0.6260854171019944"
      ]
     },
     "execution_count": 22,
     "metadata": {},
     "output_type": "execute_result"
    }
   ],
   "source": [
    "# scoring MultinomialNB on CountVectorizer\n",
    "cross_val_score(estimator=mnb, X=X_train_cvec, y=y_train, cv=4).mean()"
   ]
  },
  {
   "cell_type": "code",
   "execution_count": 23,
   "metadata": {},
   "outputs": [
    {
     "data": {
      "text/plain": [
       "0.6311816535487915"
      ]
     },
     "execution_count": 23,
     "metadata": {},
     "output_type": "execute_result"
    }
   ],
   "source": [
    "# scoring MultinomialNB on TfidfVectorizer\n",
    "cross_val_score(estimator=mnb, X=X_train_tvec, y=y_train, cv=4).mean()"
   ]
  },
  {
   "cell_type": "markdown",
   "metadata": {},
   "source": [
    "#### Tuning Hyper-Parameters"
   ]
  },
  {
   "cell_type": "code",
   "execution_count": 24,
   "metadata": {},
   "outputs": [],
   "source": [
    "# from above cross_val_score, fitting MultinomialNB onto a TfidfVectorizer matrix performed the best\n",
    "# let's build our baseline model using TfidfVectorizer and MultinomialNB"
   ]
  },
  {
   "cell_type": "code",
   "execution_count": 25,
   "metadata": {},
   "outputs": [],
   "source": [
    "# build pipeline of steps in tuples\n",
    "pipe = Pipeline([\n",
    "    ('tvec', TfidfVectorizer(stop_words=\"english\")), # instantiate CountVectorizer and remove stop_words\n",
    "    ('mnb', MultinomialNB()) # instantiate LogisticRegression and set enet penalties\n",
    "])"
   ]
  },
  {
   "cell_type": "code",
   "execution_count": 26,
   "metadata": {},
   "outputs": [],
   "source": [
    "# set hyper params to tune\n",
    "pipe_params = {\n",
    "    'tvec__max_features': [500, 1000, 2000], # only top occuring 500/1000/2000 word features are selected\n",
    "    'tvec__min_df': [2, 3], # word must occur in at least 2/3 posts from the corpus\n",
    "    'tvec__max_df': [.9, .95], # ignore words that occur in > 90/95% of the documents from the corpus\n",
    "    'tvec__ngram_range': [(1,1), (1,2), (1,3)], # tokenise group of 1/2/3 words\n",
    "    'mnb__alpha': np.linspace(1, 20, 10) # vary alpha penalties\n",
    "}"
   ]
  },
  {
   "cell_type": "code",
   "execution_count": 27,
   "metadata": {},
   "outputs": [
    {
     "name": "stdout",
     "output_type": "stream",
     "text": [
      "0.6260360799609946\n",
      "Wall time: 1min 39s\n"
     ]
    },
    {
     "data": {
      "text/plain": [
       "{'mnb__alpha': 9.444444444444445,\n",
       " 'tvec__max_df': 0.9,\n",
       " 'tvec__max_features': 1000,\n",
       " 'tvec__min_df': 2,\n",
       " 'tvec__ngram_range': (1, 1)}"
      ]
     },
     "execution_count": 27,
     "metadata": {},
     "output_type": "execute_result"
    }
   ],
   "source": [
    "%%time\n",
    "# use grid search to find canvas hyper params for best model\n",
    "gs = GridSearchCV(pipe, param_grid=pipe_params, cv=4)\n",
    "gs.fit(X_train[\"title_censored\"], y_train) # ensure to pass in list/Series since we are vectorising the posts in the pipeline\n",
    "print(gs.best_score_)\n",
    "gs.best_params_"
   ]
  },
  {
   "cell_type": "code",
   "execution_count": 28,
   "metadata": {},
   "outputs": [
    {
     "data": {
      "text/plain": [
       "0.7981260647359455"
      ]
     },
     "execution_count": 28,
     "metadata": {},
     "output_type": "execute_result"
    }
   ],
   "source": [
    "gs.best_estimator_.score(X_train[\"title_censored\"], y_train)"
   ]
  },
  {
   "cell_type": "code",
   "execution_count": 29,
   "metadata": {},
   "outputs": [
    {
     "data": {
      "text/plain": [
       "0.5969387755102041"
      ]
     },
     "execution_count": 29,
     "metadata": {},
     "output_type": "execute_result"
    }
   ],
   "source": [
    "gs.best_estimator_.score(X_test[\"title_censored\"], y_test)"
   ]
  },
  {
   "cell_type": "code",
   "execution_count": 30,
   "metadata": {},
   "outputs": [],
   "source": [
    "# using best hyper params, score again on training and test set\n",
    "# there is an approximate 20% drop in accuracy from training data to test set\n",
    "# suggesting a strong overfit to training data\n",
    "\n",
    "# while max_features optimised for accuracy on tvec training set is given to be 1000 from the range provided\n",
    "### we should overwrite the grid search and set a lower max_features to reduce the overfit on training data"
   ]
  },
  {
   "cell_type": "markdown",
   "metadata": {},
   "source": [
    "#### Baseline Model with 1000 features"
   ]
  },
  {
   "cell_type": "code",
   "execution_count": 31,
   "metadata": {},
   "outputs": [],
   "source": [
    "# let's build our model with suggested hyper params"
   ]
  },
  {
   "cell_type": "code",
   "execution_count": 32,
   "metadata": {},
   "outputs": [],
   "source": [
    "# instantiate TfidfVectorizer using hyper params as considered above\n",
    "tvec = TfidfVectorizer(stop_words=\"english\",\n",
    "                       max_df=0.9,\n",
    "                       min_df=2,\n",
    "                       max_features=1000, # limit selected features to 1000\n",
    "                       ngram_range=(1,1))"
   ]
  },
  {
   "cell_type": "code",
   "execution_count": 33,
   "metadata": {},
   "outputs": [],
   "source": [
    "# vectorise posts in training and test sets\n",
    "X_train_tvec = tvec.fit_transform(X_train[\"title_censored\"])\n",
    "X_test_tvec = tvec.transform(X_test[\"title_censored\"])"
   ]
  },
  {
   "cell_type": "code",
   "execution_count": 34,
   "metadata": {},
   "outputs": [],
   "source": [
    "# instantiate MultinomialNB with alpha at optimum\n",
    "mnd = MultinomialNB(alpha=9.44)"
   ]
  },
  {
   "cell_type": "code",
   "execution_count": 35,
   "metadata": {},
   "outputs": [
    {
     "name": "stdout",
     "output_type": "stream",
     "text": [
      "Model scored on training set: 0.798\n",
      "Model scored on test set: 0.597\n",
      "There is a score gap between training and test sets of 0.201\n"
     ]
    }
   ],
   "source": [
    "# fit and transform\n",
    "mnd.fit(X_train_tvec, y_train)\n",
    "\n",
    "# score model\n",
    "train_score = mnd.score(X_train_tvec, y_train)\n",
    "test_score = mnd.score(X_test_tvec, y_test)\n",
    "print(\"Model scored on training set:\", round(train_score, 3))\n",
    "print(\"Model scored on test set:\", round(test_score, 3))\n",
    "print(\"There is a score gap between training and test sets of\", round((train_score-test_score), 3))"
   ]
  },
  {
   "cell_type": "code",
   "execution_count": 36,
   "metadata": {},
   "outputs": [],
   "source": [
    "# model is overfitting to training data\n",
    "# there is a substantial gap between training and test scores of 20.1%"
   ]
  },
  {
   "cell_type": "markdown",
   "metadata": {},
   "source": [
    "#### Baseline Model with 500 features"
   ]
  },
  {
   "cell_type": "code",
   "execution_count": 37,
   "metadata": {},
   "outputs": [],
   "source": [
    "# let's rebuild our model with re-considered hyper params"
   ]
  },
  {
   "cell_type": "code",
   "execution_count": 38,
   "metadata": {},
   "outputs": [],
   "source": [
    "# instantiate TfidfVectorizer using hyper params as considered above\n",
    "tvec = TfidfVectorizer(stop_words=\"english\",\n",
    "                       max_df=0.9,\n",
    "                       min_df=2,\n",
    "                       max_features=500, # limit selected features to 500\n",
    "                       ngram_range=(1,1))"
   ]
  },
  {
   "cell_type": "code",
   "execution_count": 39,
   "metadata": {},
   "outputs": [],
   "source": [
    "# vectorise posts in training and test sets\n",
    "X_train_tvec = tvec.fit_transform(X_train[\"title_censored\"])\n",
    "X_test_tvec = tvec.transform(X_test[\"title_censored\"])"
   ]
  },
  {
   "cell_type": "code",
   "execution_count": 40,
   "metadata": {},
   "outputs": [],
   "source": [
    "# instantiate MultinomialNB with alpha at optimum\n",
    "mnd = MultinomialNB(alpha=9.44)"
   ]
  },
  {
   "cell_type": "code",
   "execution_count": 41,
   "metadata": {},
   "outputs": [
    {
     "name": "stdout",
     "output_type": "stream",
     "text": [
      "Model scored on training set: 0.749\n",
      "Model scored on test set: 0.592\n",
      "There is a score gap between training and test sets of 0.157\n"
     ]
    }
   ],
   "source": [
    "# fit and transform\n",
    "mnd.fit(X_train_tvec, y_train)\n",
    "\n",
    "# score model\n",
    "train_score = mnd.score(X_train_tvec, y_train)\n",
    "test_score = mnd.score(X_test_tvec, y_test)\n",
    "print(\"Model scored on training set:\", round(train_score, 3))\n",
    "print(\"Model scored on test set:\", round(test_score, 3))\n",
    "print(\"There is a score gap between training and test sets of\", round((train_score-test_score), 3))"
   ]
  },
  {
   "cell_type": "code",
   "execution_count": 42,
   "metadata": {},
   "outputs": [],
   "source": [
    "# model is overfitting to training data still\n",
    "# but the gap in scores has narrowed from 20.4% to 15.7% with a reduction in the number of word features\n",
    "# there is marginal improvement in generalisation of model"
   ]
  },
  {
   "cell_type": "markdown",
   "metadata": {},
   "source": [
    "#### Model 01: Final Baseline Model"
   ]
  },
  {
   "cell_type": "code",
   "execution_count": 43,
   "metadata": {
    "scrolled": true
   },
   "outputs": [
    {
     "data": {
      "text/html": [
       "<div>\n",
       "<style scoped>\n",
       "    .dataframe tbody tr th:only-of-type {\n",
       "        vertical-align: middle;\n",
       "    }\n",
       "\n",
       "    .dataframe tbody tr th {\n",
       "        vertical-align: top;\n",
       "    }\n",
       "\n",
       "    .dataframe thead th {\n",
       "        text-align: right;\n",
       "    }\n",
       "</style>\n",
       "<table border=\"1\" class=\"dataframe\">\n",
       "  <thead>\n",
       "    <tr style=\"text-align: right;\">\n",
       "      <th></th>\n",
       "      <th>approved_at_utc</th>\n",
       "      <th>subreddit</th>\n",
       "      <th>selftext</th>\n",
       "      <th>author_fullname</th>\n",
       "      <th>saved</th>\n",
       "      <th>mod_reason_title</th>\n",
       "      <th>gilded</th>\n",
       "      <th>clicked</th>\n",
       "      <th>title</th>\n",
       "      <th>link_flair_richtext</th>\n",
       "      <th>...</th>\n",
       "      <th>num_crossposts</th>\n",
       "      <th>media</th>\n",
       "      <th>is_video</th>\n",
       "      <th>link_flair_template_id</th>\n",
       "      <th>author_cakeday</th>\n",
       "      <th>crosspost_parent_list</th>\n",
       "      <th>crosspost_parent</th>\n",
       "      <th>is_shitty</th>\n",
       "      <th>title_censored</th>\n",
       "      <th>pacific_st_created</th>\n",
       "    </tr>\n",
       "  </thead>\n",
       "  <tbody>\n",
       "    <tr>\n",
       "      <th>0</th>\n",
       "      <td>NaN</td>\n",
       "      <td>shittysuperpowers</td>\n",
       "      <td>you can't turn back</td>\n",
       "      <td>t2_76n67</td>\n",
       "      <td>False</td>\n",
       "      <td>NaN</td>\n",
       "      <td>0</td>\n",
       "      <td>False</td>\n",
       "      <td>you can turn into a goose, once</td>\n",
       "      <td>[]</td>\n",
       "      <td>...</td>\n",
       "      <td>0</td>\n",
       "      <td>NaN</td>\n",
       "      <td>False</td>\n",
       "      <td>NaN</td>\n",
       "      <td>NaN</td>\n",
       "      <td>NaN</td>\n",
       "      <td>NaN</td>\n",
       "      <td>1</td>\n",
       "      <td>you can turn into a goose, once</td>\n",
       "      <td>2018-05-07 18:43:50</td>\n",
       "    </tr>\n",
       "    <tr>\n",
       "      <th>1</th>\n",
       "      <td>NaN</td>\n",
       "      <td>shittysuperpowers</td>\n",
       "      <td>NaN</td>\n",
       "      <td>t2_66d4bkr</td>\n",
       "      <td>False</td>\n",
       "      <td>NaN</td>\n",
       "      <td>0</td>\n",
       "      <td>False</td>\n",
       "      <td>You can punch with half the strength of someon...</td>\n",
       "      <td>[]</td>\n",
       "      <td>...</td>\n",
       "      <td>0</td>\n",
       "      <td>NaN</td>\n",
       "      <td>False</td>\n",
       "      <td>NaN</td>\n",
       "      <td>NaN</td>\n",
       "      <td>NaN</td>\n",
       "      <td>NaN</td>\n",
       "      <td>1</td>\n",
       "      <td>you can punch with half the strength of someon...</td>\n",
       "      <td>2018-05-07 21:42:12</td>\n",
       "    </tr>\n",
       "    <tr>\n",
       "      <th>2</th>\n",
       "      <td>NaN</td>\n",
       "      <td>shittysuperpowers</td>\n",
       "      <td>NaN</td>\n",
       "      <td>t2_20p7w7s</td>\n",
       "      <td>False</td>\n",
       "      <td>NaN</td>\n",
       "      <td>1</td>\n",
       "      <td>False</td>\n",
       "      <td>You can unpee.</td>\n",
       "      <td>[]</td>\n",
       "      <td>...</td>\n",
       "      <td>0</td>\n",
       "      <td>NaN</td>\n",
       "      <td>False</td>\n",
       "      <td>NaN</td>\n",
       "      <td>True</td>\n",
       "      <td>NaN</td>\n",
       "      <td>NaN</td>\n",
       "      <td>1</td>\n",
       "      <td>you can unpee.</td>\n",
       "      <td>2018-06-17 17:35:10</td>\n",
       "    </tr>\n",
       "  </tbody>\n",
       "</table>\n",
       "<p>3 rows × 110 columns</p>\n",
       "</div>"
      ],
      "text/plain": [
       "   approved_at_utc          subreddit             selftext author_fullname  \\\n",
       "0              NaN  shittysuperpowers  you can't turn back        t2_76n67   \n",
       "1              NaN  shittysuperpowers                  NaN      t2_66d4bkr   \n",
       "2              NaN  shittysuperpowers                  NaN      t2_20p7w7s   \n",
       "\n",
       "   saved  mod_reason_title  gilded  clicked  \\\n",
       "0  False               NaN       0    False   \n",
       "1  False               NaN       0    False   \n",
       "2  False               NaN       1    False   \n",
       "\n",
       "                                               title link_flair_richtext  ...  \\\n",
       "0                    you can turn into a goose, once                  []  ...   \n",
       "1  You can punch with half the strength of someon...                  []  ...   \n",
       "2                                     You can unpee.                  []  ...   \n",
       "\n",
       "  num_crossposts  media  is_video  link_flair_template_id  author_cakeday  \\\n",
       "0              0    NaN     False                     NaN             NaN   \n",
       "1              0    NaN     False                     NaN             NaN   \n",
       "2              0    NaN     False                     NaN            True   \n",
       "\n",
       "   crosspost_parent_list  crosspost_parent is_shitty  \\\n",
       "0                    NaN               NaN         1   \n",
       "1                    NaN               NaN         1   \n",
       "2                    NaN               NaN         1   \n",
       "\n",
       "                                      title_censored   pacific_st_created  \n",
       "0                    you can turn into a goose, once  2018-05-07 18:43:50  \n",
       "1  you can punch with half the strength of someon...  2018-05-07 21:42:12  \n",
       "2                                     you can unpee.  2018-06-17 17:35:10  \n",
       "\n",
       "[3 rows x 110 columns]"
      ]
     },
     "execution_count": 43,
     "metadata": {},
     "output_type": "execute_result"
    }
   ],
   "source": [
    "sp_merged_train.head(3) # recall training set"
   ]
  },
  {
   "cell_type": "code",
   "execution_count": 44,
   "metadata": {},
   "outputs": [
    {
     "data": {
      "text/plain": [
       "(1566, 110)"
      ]
     },
     "execution_count": 44,
     "metadata": {},
     "output_type": "execute_result"
    }
   ],
   "source": [
    "sp_merged_train.shape"
   ]
  },
  {
   "cell_type": "code",
   "execution_count": 45,
   "metadata": {},
   "outputs": [
    {
     "data": {
      "text/html": [
       "<div>\n",
       "<style scoped>\n",
       "    .dataframe tbody tr th:only-of-type {\n",
       "        vertical-align: middle;\n",
       "    }\n",
       "\n",
       "    .dataframe tbody tr th {\n",
       "        vertical-align: top;\n",
       "    }\n",
       "\n",
       "    .dataframe thead th {\n",
       "        text-align: right;\n",
       "    }\n",
       "</style>\n",
       "<table border=\"1\" class=\"dataframe\">\n",
       "  <thead>\n",
       "    <tr style=\"text-align: right;\">\n",
       "      <th></th>\n",
       "      <th>approved_at_utc</th>\n",
       "      <th>subreddit</th>\n",
       "      <th>selftext</th>\n",
       "      <th>author_fullname</th>\n",
       "      <th>saved</th>\n",
       "      <th>mod_reason_title</th>\n",
       "      <th>gilded</th>\n",
       "      <th>clicked</th>\n",
       "      <th>title</th>\n",
       "      <th>link_flair_richtext</th>\n",
       "      <th>...</th>\n",
       "      <th>num_crossposts</th>\n",
       "      <th>media</th>\n",
       "      <th>is_video</th>\n",
       "      <th>link_flair_template_id</th>\n",
       "      <th>author_cakeday</th>\n",
       "      <th>crosspost_parent_list</th>\n",
       "      <th>crosspost_parent</th>\n",
       "      <th>is_shitty</th>\n",
       "      <th>title_censored</th>\n",
       "      <th>pacific_st_created</th>\n",
       "    </tr>\n",
       "  </thead>\n",
       "  <tbody>\n",
       "    <tr>\n",
       "      <th>1566</th>\n",
       "      <td>NaN</td>\n",
       "      <td>shittysuperpowers</td>\n",
       "      <td>NaN</td>\n",
       "      <td>t2_4ve89obc</td>\n",
       "      <td>False</td>\n",
       "      <td>NaN</td>\n",
       "      <td>0</td>\n",
       "      <td>False</td>\n",
       "      <td>Your blinks are perfectly in sync with whoever...</td>\n",
       "      <td>[]</td>\n",
       "      <td>...</td>\n",
       "      <td>0</td>\n",
       "      <td>NaN</td>\n",
       "      <td>False</td>\n",
       "      <td>NaN</td>\n",
       "      <td>NaN</td>\n",
       "      <td>NaN</td>\n",
       "      <td>NaN</td>\n",
       "      <td>1</td>\n",
       "      <td>your blinks are perfectly in sync with whoever...</td>\n",
       "      <td>2020-05-11 01:23:59</td>\n",
       "    </tr>\n",
       "    <tr>\n",
       "      <th>1567</th>\n",
       "      <td>NaN</td>\n",
       "      <td>godtiersuperpowers</td>\n",
       "      <td>An example would be falling asleep during scho...</td>\n",
       "      <td>t2_5nabfprf</td>\n",
       "      <td>False</td>\n",
       "      <td>NaN</td>\n",
       "      <td>0</td>\n",
       "      <td>False</td>\n",
       "      <td>You can fall asleep anytime you want but your ...</td>\n",
       "      <td>[]</td>\n",
       "      <td>...</td>\n",
       "      <td>0</td>\n",
       "      <td>NaN</td>\n",
       "      <td>False</td>\n",
       "      <td>NaN</td>\n",
       "      <td>NaN</td>\n",
       "      <td>NaN</td>\n",
       "      <td>NaN</td>\n",
       "      <td>0</td>\n",
       "      <td>you can fall asleep anytime you want but your ...</td>\n",
       "      <td>2020-05-11 15:17:58</td>\n",
       "    </tr>\n",
       "    <tr>\n",
       "      <th>1568</th>\n",
       "      <td>NaN</td>\n",
       "      <td>godtiersuperpowers</td>\n",
       "      <td>NaN</td>\n",
       "      <td>t2_w5vgsq</td>\n",
       "      <td>False</td>\n",
       "      <td>NaN</td>\n",
       "      <td>0</td>\n",
       "      <td>False</td>\n",
       "      <td>You get a second try at life with all your mem...</td>\n",
       "      <td>[]</td>\n",
       "      <td>...</td>\n",
       "      <td>1</td>\n",
       "      <td>NaN</td>\n",
       "      <td>False</td>\n",
       "      <td>NaN</td>\n",
       "      <td>NaN</td>\n",
       "      <td>NaN</td>\n",
       "      <td>NaN</td>\n",
       "      <td>0</td>\n",
       "      <td>you get a second try at life with all your mem...</td>\n",
       "      <td>2020-05-12 04:45:51</td>\n",
       "    </tr>\n",
       "  </tbody>\n",
       "</table>\n",
       "<p>3 rows × 110 columns</p>\n",
       "</div>"
      ],
      "text/plain": [
       "      approved_at_utc           subreddit  \\\n",
       "1566              NaN   shittysuperpowers   \n",
       "1567              NaN  godtiersuperpowers   \n",
       "1568              NaN  godtiersuperpowers   \n",
       "\n",
       "                                               selftext author_fullname  \\\n",
       "1566                                                NaN     t2_4ve89obc   \n",
       "1567  An example would be falling asleep during scho...     t2_5nabfprf   \n",
       "1568                                                NaN       t2_w5vgsq   \n",
       "\n",
       "      saved  mod_reason_title  gilded  clicked  \\\n",
       "1566  False               NaN       0    False   \n",
       "1567  False               NaN       0    False   \n",
       "1568  False               NaN       0    False   \n",
       "\n",
       "                                                  title link_flair_richtext  \\\n",
       "1566  Your blinks are perfectly in sync with whoever...                  []   \n",
       "1567  You can fall asleep anytime you want but your ...                  []   \n",
       "1568  You get a second try at life with all your mem...                  []   \n",
       "\n",
       "      ... num_crossposts  media  is_video  link_flair_template_id  \\\n",
       "1566  ...              0    NaN     False                     NaN   \n",
       "1567  ...              0    NaN     False                     NaN   \n",
       "1568  ...              1    NaN     False                     NaN   \n",
       "\n",
       "      author_cakeday  crosspost_parent_list  crosspost_parent is_shitty  \\\n",
       "1566             NaN                    NaN               NaN         1   \n",
       "1567             NaN                    NaN               NaN         0   \n",
       "1568             NaN                    NaN               NaN         0   \n",
       "\n",
       "                                         title_censored   pacific_st_created  \n",
       "1566  your blinks are perfectly in sync with whoever...  2020-05-11 01:23:59  \n",
       "1567  you can fall asleep anytime you want but your ...  2020-05-11 15:17:58  \n",
       "1568  you get a second try at life with all your mem...  2020-05-12 04:45:51  \n",
       "\n",
       "[3 rows x 110 columns]"
      ]
     },
     "execution_count": 45,
     "metadata": {},
     "output_type": "execute_result"
    }
   ],
   "source": [
    "sp_merged_unseen.head(3) # recall unseen test set"
   ]
  },
  {
   "cell_type": "code",
   "execution_count": 46,
   "metadata": {},
   "outputs": [
    {
     "data": {
      "text/plain": [
       "(391, 110)"
      ]
     },
     "execution_count": 46,
     "metadata": {},
     "output_type": "execute_result"
    }
   ],
   "source": [
    "sp_merged_unseen.shape"
   ]
  },
  {
   "cell_type": "code",
   "execution_count": 47,
   "metadata": {},
   "outputs": [],
   "source": [
    "# split training and test sets into X features and y target\n",
    "features = [\"title_censored\"]\n",
    "X_train = sp_merged_train[features]\n",
    "y_train = sp_merged_train[\"is_shitty\"]\n",
    "X_test = sp_merged_unseen[features]\n",
    "y_test = sp_merged_unseen[\"is_shitty\"]"
   ]
  },
  {
   "cell_type": "code",
   "execution_count": 48,
   "metadata": {},
   "outputs": [],
   "source": [
    "# instantiate TfidfVectorizer using decided upon hyper params\n",
    "tvec = TfidfVectorizer(stop_words=\"english\",\n",
    "                       max_df=0.9,\n",
    "                       min_df=2,\n",
    "                       max_features=500, # limit selected features to 500\n",
    "                       ngram_range=(1,1))"
   ]
  },
  {
   "cell_type": "code",
   "execution_count": 49,
   "metadata": {},
   "outputs": [],
   "source": [
    "# vectorise posts in training and test sets\n",
    "X_train_tvec = tvec.fit_transform(X_train[\"title_censored\"])\n",
    "X_test_tvec = tvec.transform(X_test[\"title_censored\"])"
   ]
  },
  {
   "cell_type": "code",
   "execution_count": 50,
   "metadata": {},
   "outputs": [],
   "source": [
    "# instantiate MultinomialNB with alpha at optimum\n",
    "mnb = MultinomialNB(alpha=9.44)"
   ]
  },
  {
   "cell_type": "code",
   "execution_count": 51,
   "metadata": {},
   "outputs": [
    {
     "name": "stdout",
     "output_type": "stream",
     "text": [
      "Model scored on training set: 0.744\n",
      "Model scored on test set: 0.634\n",
      "There is a score gap between training and test sets of 0.11\n"
     ]
    }
   ],
   "source": [
    "# fit and transform\n",
    "mnb.fit(X_train_tvec, y_train)\n",
    "\n",
    "# score model\n",
    "train_score = mnb.score(X_train_tvec, y_train)\n",
    "test_score = mnb.score(X_test_tvec, y_test)\n",
    "print(\"Model scored on training set:\", round(train_score, 3))\n",
    "print(\"Model scored on test set:\", round(test_score, 3))\n",
    "print(\"There is a score gap between training and test sets of\", round((train_score-test_score), 3))"
   ]
  },
  {
   "cell_type": "code",
   "execution_count": 52,
   "metadata": {},
   "outputs": [],
   "source": [
    "# baseline model overfitting to training data\n",
    "# accuracy gap of about 11%"
   ]
  },
  {
   "cell_type": "code",
   "execution_count": 53,
   "metadata": {},
   "outputs": [],
   "source": [
    "predictions = mnb.predict(X_test_tvec)"
   ]
  },
  {
   "cell_type": "code",
   "execution_count": 54,
   "metadata": {},
   "outputs": [
    {
     "data": {
      "text/plain": [
       "array([[127,  91],\n",
       "       [ 52, 121]], dtype=int64)"
      ]
     },
     "execution_count": 54,
     "metadata": {},
     "output_type": "execute_result"
    }
   ],
   "source": [
    "confusion_matrix(y_test, predictions)"
   ]
  },
  {
   "cell_type": "markdown",
   "metadata": {},
   "source": [
    "|*Confusion Matrix*|Predicted Negatives|Predicted Positives*|\n",
    "|---|---|---|\n",
    "|**Actual Negatives**|127|91|\n",
    "|**Actual Positives**|52|121|\n",
    "\n",
    "<p style=\"text-align:right;\"><sup>*Predict for <i>r/shittysuperpowers</i></sup></p>"
   ]
  },
  {
   "cell_type": "code",
   "execution_count": 55,
   "metadata": {},
   "outputs": [],
   "source": [
    "tn, fp, fn, tp = confusion_matrix(y_test, predictions).ravel()"
   ]
  },
  {
   "cell_type": "code",
   "execution_count": 56,
   "metadata": {},
   "outputs": [
    {
     "name": "stdout",
     "output_type": "stream",
     "text": [
      "True Negatives: 127\n",
      "False Positives: 91\n",
      "False Negatives: 52\n",
      "True Positives: 121\n"
     ]
    }
   ],
   "source": [
    "print(\"True Negatives: %s\" % tn)\n",
    "print(\"False Positives: %s\" % fp)\n",
    "print(\"False Negatives: %s\" % fn)\n",
    "print(\"True Positives: %s\" % tp)"
   ]
  },
  {
   "cell_type": "code",
   "execution_count": 57,
   "metadata": {},
   "outputs": [],
   "source": [
    "# there is a higher incidence of false positives\n",
    "# meaning model is classifying more posts as r/shittysuperpowers when they are not"
   ]
  },
  {
   "cell_type": "code",
   "execution_count": 58,
   "metadata": {},
   "outputs": [
    {
     "name": "stdout",
     "output_type": "stream",
     "text": [
      "Accuracy: 0.634\n",
      "Recall: 0.699\n",
      "Specificity: 0.583\n"
     ]
    }
   ],
   "source": [
    "recall = tp / (tp + fn) # ratio of predicted positives to all positives\n",
    "specificity = tn / (tn + fp) # ratio of predicted negatives to all negatives\n",
    "accuracy = (tp + tn) / (tp + fp + tn + fn) # ratio of correct predictions to total predictions\n",
    "print(\"Accuracy:\", round(accuracy, 3))\n",
    "print(\"Recall:\", round(recall, 3))\n",
    "print(\"Specificity:\", round(specificity, 3))"
   ]
  },
  {
   "cell_type": "code",
   "execution_count": 59,
   "metadata": {},
   "outputs": [],
   "source": [
    "# baseline model has a better recall than specificity\n",
    "### this means that our baseline model predicts more accurately for r/shittysuperpowers (positives) than for its negative\n",
    "### in this project, it is better to predict for r/shittysuperpowers than for those that are not\n",
    "### as such, we would priorities recall over specificity\n",
    "### it is acceptable that recall performs better than specificity"
   ]
  },
  {
   "cell_type": "code",
   "execution_count": 60,
   "metadata": {},
   "outputs": [
    {
     "data": {
      "text/plain": [
       "(391, 2)"
      ]
     },
     "execution_count": 60,
     "metadata": {},
     "output_type": "execute_result"
    }
   ],
   "source": [
    "# extract prediction probabilities and append to df with test results\n",
    "nlp_proba = mnb.predict_proba(X_test_tvec)[:, 1]\n",
    "df_results = pd.DataFrame(zip(y_test, nlp_proba), columns=[\"y_test\", \"nlp_proba\"])\n",
    "df_results.shape"
   ]
  },
  {
   "cell_type": "code",
   "execution_count": 61,
   "metadata": {},
   "outputs": [],
   "source": [
    "# towards plotting ROC-AUC graph\n",
    "\n",
    "# def function to calculate sensitivity. (True positive rate.)\n",
    "def TPR(df, true_col, pred_prob_col, threshold):\n",
    "    true_positive = df[(df[true_col] == 1) & (df[pred_prob_col] >= threshold)].shape[0]\n",
    "    false_negative = df[(df[true_col] == 1) & (df[pred_prob_col] < threshold)].shape[0]\n",
    "    return true_positive / (true_positive + false_negative)\n",
    "    \n",
    "\n",
    "# def function to calculate 1 - specificity. (False positive rate.)\n",
    "def FPR(df, true_col, pred_prob_col, threshold):\n",
    "    true_negative = df[(df[true_col] == 0) & (df[pred_prob_col] <= threshold)].shape[0]\n",
    "    false_positive = df[(df[true_col] == 0) & (df[pred_prob_col] > threshold)].shape[0]\n",
    "    return 1 - (true_negative / (true_negative + false_positive))"
   ]
  },
  {
   "cell_type": "code",
   "execution_count": 62,
   "metadata": {},
   "outputs": [
    {
     "data": {
      "image/png": "[encoded data removed]",
      "text/plain": [
       "<Figure size 864x576 with 1 Axes>"
      ]
     },
     "metadata": {
      "image/png": {
       "height": 497,
       "width": 798
      },
      "needs_background": "light"
     },
     "output_type": "display_data"
    }
   ],
   "source": [
    "# Create figure.\n",
    "plt.figure(figsize = (12,8))\n",
    "\n",
    "# Create threshold values. (Dashed red line in image.)\n",
    "thresholds = np.linspace(0, 1, 200)\n",
    "    \n",
    "# Calculate sensitivity & 1-specificity for each threshold between 0 and 1.\n",
    "tpr_values = [TPR(df_results, 'y_test', 'nlp_proba', prob) for prob in thresholds]\n",
    "fpr_values = [FPR(df_results, 'y_test', 'nlp_proba', prob) for prob in thresholds]\n",
    "\n",
    "# Plot ROC curve.\n",
    "plt.plot(fpr_values, # False Positive Rate on X-axis\n",
    "         tpr_values, # True Positive Rate on Y-axis\n",
    "         label='ROC Curve')\n",
    "\n",
    "# Plot baseline. (Perfect overlap between the two populations.)\n",
    "plt.plot(np.linspace(0, 1, 200),\n",
    "         np.linspace(0, 1, 200),\n",
    "         label='baseline',\n",
    "         linestyle='--')\n",
    "\n",
    "# Label axes.\n",
    "plt.title(f\"ROC Curve with AUC = {round(roc_auc_score(df_results['y_test'], df_results['nlp_proba']),3)}\", fontsize=20)\n",
    "plt.ylabel('Sensitivity', fontsize=10)\n",
    "plt.xlabel('1 - Specificity', fontsize=10)\n",
    "\n",
    "# Create legend.\n",
    "plt.legend(fontsize=16)\n",
    "\n",
    "# Save figure\n",
    "plt.savefig(\"../output/roc_auc_01.png\", transparent=True) # save out figure\n",
    "plt.show()"
   ]
  },
  {
   "cell_type": "code",
   "execution_count": 63,
   "metadata": {},
   "outputs": [
    {
     "data": {
      "text/plain": [
       "0.6766983083205176"
      ]
     },
     "execution_count": 63,
     "metadata": {},
     "output_type": "execute_result"
    }
   ],
   "source": [
    "roc_auc_score(y_test, nlp_proba)"
   ]
  },
  {
   "cell_type": "code",
   "execution_count": 64,
   "metadata": {},
   "outputs": [],
   "source": [
    "# we may have reach the limit of the current model\n",
    "# ROC-AUC is a poor 0.677\n",
    "# Model 01 performed 13% better than the baseline count of 50.4% r/shittysuperpowers post\n",
    "# we should go back to the dataset to improve upon the quality of the features selected\n",
    "# where it concerns word features, we can consider lemmatising or stemming when we tokenise"
   ]
  },
  {
   "cell_type": "markdown",
   "metadata": {},
   "source": [
    "## Model 02: CountVectorizer + MultinomialNB\n",
    "[Back to Top!](#Contents:)"
   ]
  },
  {
   "cell_type": "markdown",
   "metadata": {},
   "source": [
    "#### Import Cleaned DataFrame"
   ]
  },
  {
   "cell_type": "code",
   "execution_count": 65,
   "metadata": {},
   "outputs": [
    {
     "data": {
      "text/plain": [
       "(1956, 114)"
      ]
     },
     "execution_count": 65,
     "metadata": {},
     "output_type": "execute_result"
    }
   ],
   "source": [
    "sp_merged_clean = pd.read_csv(\"../datasets/merged_sp_top_cleaned.csv\")\n",
    "sp_merged_clean.shape"
   ]
  },
  {
   "cell_type": "code",
   "execution_count": 66,
   "metadata": {},
   "outputs": [
    {
     "data": {
      "text/html": [
       "<div>\n",
       "<style scoped>\n",
       "    .dataframe tbody tr th:only-of-type {\n",
       "        vertical-align: middle;\n",
       "    }\n",
       "\n",
       "    .dataframe tbody tr th {\n",
       "        vertical-align: top;\n",
       "    }\n",
       "\n",
       "    .dataframe thead th {\n",
       "        text-align: right;\n",
       "    }\n",
       "</style>\n",
       "<table border=\"1\" class=\"dataframe\">\n",
       "  <thead>\n",
       "    <tr style=\"text-align: right;\">\n",
       "      <th></th>\n",
       "      <th>approved_at_utc</th>\n",
       "      <th>subreddit</th>\n",
       "      <th>selftext</th>\n",
       "      <th>author_fullname</th>\n",
       "      <th>saved</th>\n",
       "      <th>mod_reason_title</th>\n",
       "      <th>gilded</th>\n",
       "      <th>clicked</th>\n",
       "      <th>title</th>\n",
       "      <th>link_flair_richtext</th>\n",
       "      <th>...</th>\n",
       "      <th>author_cakeday</th>\n",
       "      <th>crosspost_parent_list</th>\n",
       "      <th>crosspost_parent</th>\n",
       "      <th>is_shitty</th>\n",
       "      <th>title_censored</th>\n",
       "      <th>pacific_st_created</th>\n",
       "      <th>title_tokens</th>\n",
       "      <th>title_tokens_str</th>\n",
       "      <th>title_tokens_lemm</th>\n",
       "      <th>title_tokens_stem</th>\n",
       "    </tr>\n",
       "  </thead>\n",
       "  <tbody>\n",
       "    <tr>\n",
       "      <th>0</th>\n",
       "      <td>NaN</td>\n",
       "      <td>shittysuperpowers</td>\n",
       "      <td>you can't turn back</td>\n",
       "      <td>t2_76n67</td>\n",
       "      <td>False</td>\n",
       "      <td>NaN</td>\n",
       "      <td>0</td>\n",
       "      <td>False</td>\n",
       "      <td>you can turn into a goose, once</td>\n",
       "      <td>[]</td>\n",
       "      <td>...</td>\n",
       "      <td>NaN</td>\n",
       "      <td>NaN</td>\n",
       "      <td>NaN</td>\n",
       "      <td>1</td>\n",
       "      <td>you can turn into a goose, once</td>\n",
       "      <td>2018-05-07 18:43:50</td>\n",
       "      <td>['you', 'can', 'turn', 'into', 'a', 'goose', '...</td>\n",
       "      <td>you can turn into a goose once</td>\n",
       "      <td>you can turn into a goose once</td>\n",
       "      <td>you can turn into a goos onc</td>\n",
       "    </tr>\n",
       "    <tr>\n",
       "      <th>1</th>\n",
       "      <td>NaN</td>\n",
       "      <td>shittysuperpowers</td>\n",
       "      <td>NaN</td>\n",
       "      <td>t2_66d4bkr</td>\n",
       "      <td>False</td>\n",
       "      <td>NaN</td>\n",
       "      <td>0</td>\n",
       "      <td>False</td>\n",
       "      <td>You can punch with half the strength of someon...</td>\n",
       "      <td>[]</td>\n",
       "      <td>...</td>\n",
       "      <td>NaN</td>\n",
       "      <td>NaN</td>\n",
       "      <td>NaN</td>\n",
       "      <td>1</td>\n",
       "      <td>you can punch with half the strength of someon...</td>\n",
       "      <td>2018-05-07 21:42:12</td>\n",
       "      <td>['you', 'can', 'punch', 'with', 'half', 'the',...</td>\n",
       "      <td>you can punch with half the strength of someon...</td>\n",
       "      <td>you can punch with half the strength of someon...</td>\n",
       "      <td>you can punch with half the strength of someon...</td>\n",
       "    </tr>\n",
       "    <tr>\n",
       "      <th>2</th>\n",
       "      <td>NaN</td>\n",
       "      <td>shittysuperpowers</td>\n",
       "      <td>NaN</td>\n",
       "      <td>t2_20p7w7s</td>\n",
       "      <td>False</td>\n",
       "      <td>NaN</td>\n",
       "      <td>1</td>\n",
       "      <td>False</td>\n",
       "      <td>You can unpee.</td>\n",
       "      <td>[]</td>\n",
       "      <td>...</td>\n",
       "      <td>True</td>\n",
       "      <td>NaN</td>\n",
       "      <td>NaN</td>\n",
       "      <td>1</td>\n",
       "      <td>you can unpee.</td>\n",
       "      <td>2018-06-17 17:35:10</td>\n",
       "      <td>['you', 'can', 'unpee']</td>\n",
       "      <td>you can unpee</td>\n",
       "      <td>you can unpee</td>\n",
       "      <td>you can unpe</td>\n",
       "    </tr>\n",
       "  </tbody>\n",
       "</table>\n",
       "<p>3 rows × 114 columns</p>\n",
       "</div>"
      ],
      "text/plain": [
       "   approved_at_utc          subreddit             selftext author_fullname  \\\n",
       "0              NaN  shittysuperpowers  you can't turn back        t2_76n67   \n",
       "1              NaN  shittysuperpowers                  NaN      t2_66d4bkr   \n",
       "2              NaN  shittysuperpowers                  NaN      t2_20p7w7s   \n",
       "\n",
       "   saved  mod_reason_title  gilded  clicked  \\\n",
       "0  False               NaN       0    False   \n",
       "1  False               NaN       0    False   \n",
       "2  False               NaN       1    False   \n",
       "\n",
       "                                               title link_flair_richtext  ...  \\\n",
       "0                    you can turn into a goose, once                  []  ...   \n",
       "1  You can punch with half the strength of someon...                  []  ...   \n",
       "2                                     You can unpee.                  []  ...   \n",
       "\n",
       "  author_cakeday  crosspost_parent_list  crosspost_parent  is_shitty  \\\n",
       "0            NaN                    NaN               NaN          1   \n",
       "1            NaN                    NaN               NaN          1   \n",
       "2           True                    NaN               NaN          1   \n",
       "\n",
       "                                      title_censored   pacific_st_created  \\\n",
       "0                    you can turn into a goose, once  2018-05-07 18:43:50   \n",
       "1  you can punch with half the strength of someon...  2018-05-07 21:42:12   \n",
       "2                                     you can unpee.  2018-06-17 17:35:10   \n",
       "\n",
       "                                        title_tokens  \\\n",
       "0  ['you', 'can', 'turn', 'into', 'a', 'goose', '...   \n",
       "1  ['you', 'can', 'punch', 'with', 'half', 'the',...   \n",
       "2                            ['you', 'can', 'unpee']   \n",
       "\n",
       "                                    title_tokens_str  \\\n",
       "0                     you can turn into a goose once   \n",
       "1  you can punch with half the strength of someon...   \n",
       "2                                      you can unpee   \n",
       "\n",
       "                                   title_tokens_lemm  \\\n",
       "0                     you can turn into a goose once   \n",
       "1  you can punch with half the strength of someon...   \n",
       "2                                      you can unpee   \n",
       "\n",
       "                                   title_tokens_stem  \n",
       "0                       you can turn into a goos onc  \n",
       "1  you can punch with half the strength of someon...  \n",
       "2                                       you can unpe  \n",
       "\n",
       "[3 rows x 114 columns]"
      ]
     },
     "execution_count": 66,
     "metadata": {},
     "output_type": "execute_result"
    }
   ],
   "source": [
    "sp_merged_clean.head(3)"
   ]
  },
  {
   "cell_type": "code",
   "execution_count": 67,
   "metadata": {},
   "outputs": [],
   "source": [
    "# let's run cross-validation scores on all 3 types of tokens - cleaned, lemmatized, and stemmed\n",
    "# we will run cross-validation with both vectorizers (CountVectorizer and TfidfVectorizer)\n",
    "# and three algos (LogisticRegression, KNeighborsClassifier, and MultinomialNB)"
   ]
  },
  {
   "cell_type": "markdown",
   "metadata": {},
   "source": [
    "#### Split into Training and Unseen Test set"
   ]
  },
  {
   "cell_type": "code",
   "execution_count": 68,
   "metadata": {},
   "outputs": [
    {
     "data": {
      "text/plain": [
       "1956"
      ]
     },
     "execution_count": 68,
     "metadata": {},
     "output_type": "execute_result"
    }
   ],
   "source": [
    "len(sp_merged_clean)"
   ]
  },
  {
   "cell_type": "code",
   "execution_count": 69,
   "metadata": {},
   "outputs": [],
   "source": [
    "# let's set 80% as training set and 20% as test set\n",
    "\n",
    "# since we are predicting for newer posts and df has already been ordered by time\n",
    "# let's split test set by older 80% and newer 20%"
   ]
  },
  {
   "cell_type": "code",
   "execution_count": 70,
   "metadata": {},
   "outputs": [
    {
     "name": "stdout",
     "output_type": "stream",
     "text": [
      "Training set shape: (1566, 114)\n",
      "Unseen test set shape: (390, 114)\n"
     ]
    }
   ],
   "source": [
    "# sp_merged already sorted by \"created\" date\n",
    "sp_merged_train = sp_merged_clean.iloc[:round(0.8*len(sp_merged))] # first 80% of data (older posts)\n",
    "print(\"Training set shape:\", sp_merged_train.shape)\n",
    "sp_merged_unseen = sp_merged_clean.iloc[round(0.8*len(sp_merged)):] # last 20% of data (newer posts)\n",
    "print(\"Unseen test set shape:\", sp_merged_unseen.shape)"
   ]
  },
  {
   "cell_type": "code",
   "execution_count": 71,
   "metadata": {},
   "outputs": [],
   "source": [
    "# let's build models for posts that have been tokenised, lemmatized, and stemmed"
   ]
  },
  {
   "cell_type": "markdown",
   "metadata": {},
   "source": [
    "#### Cross-Validate Models for Tokenised Posts"
   ]
  },
  {
   "cell_type": "code",
   "execution_count": 72,
   "metadata": {},
   "outputs": [],
   "source": [
    "def cross_val_classifiers(X, y, cv): # def function to cross-validate performance of 3 classifiers\n",
    "    \n",
    "    # instantiate algos\n",
    "    lr = LogisticRegression()\n",
    "    mnb = MultinomialNB()\n",
    "    knn = KNeighborsClassifier()\n",
    "    \n",
    "    # eval cv scores for lr and mnb\n",
    "    lr_cv = cross_val_score(lr, X, y, cv=cv).mean()\n",
    "    mnb_cv = cross_val_score(mnb, X, y, cv=cv).mean()\n",
    "    \n",
    "    # scale X and y for knn\n",
    "    ss = StandardScaler(with_mean=False)\n",
    "    X_ss = ss.fit_transform(X)\n",
    "    # eval cv score for knn\n",
    "    knn_cv = cross_val_score(knn, X_ss, y, cv=cv).mean()\n",
    "    \n",
    "    # print results\n",
    "    print(\"CV score for Logistic Regression:\", round(lr_cv, 3))\n",
    "    print(\"CV score for k-Nearest Neighbours:\", round(knn_cv, 3))\n",
    "    print(\"CV score for Multinomial NB:\", round(mnb_cv, 3))"
   ]
  },
  {
   "cell_type": "code",
   "execution_count": 73,
   "metadata": {},
   "outputs": [],
   "source": [
    "features = [\"title_tokens_str\"]\n",
    "X = sp_merged_train[features]\n",
    "y = sp_merged_train[\"is_shitty\"]"
   ]
  },
  {
   "cell_type": "code",
   "execution_count": 74,
   "metadata": {},
   "outputs": [
    {
     "data": {
      "text/plain": [
       "(1566, 3591)"
      ]
     },
     "execution_count": 74,
     "metadata": {},
     "output_type": "execute_result"
    }
   ],
   "source": [
    "# CountVectorizer\n",
    "cvec = CountVectorizer(stop_words=\"english\", max_features=None)\n",
    "X_cvec = cvec.fit_transform(X[\"title_tokens_str\"])\n",
    "X_cvec.shape"
   ]
  },
  {
   "cell_type": "code",
   "execution_count": 75,
   "metadata": {},
   "outputs": [
    {
     "name": "stdout",
     "output_type": "stream",
     "text": [
      "CV score for Logistic Regression: 0.609\n",
      "CV score for k-Nearest Neighbours: 0.503\n",
      "CV score for Multinomial NB: 0.626\n"
     ]
    }
   ],
   "source": [
    "# verify that cv classifiers works with count-vectorized X\n",
    "cross_val_classifiers(X=X_cvec, y=y, cv=4)"
   ]
  },
  {
   "cell_type": "code",
   "execution_count": 76,
   "metadata": {},
   "outputs": [],
   "source": [
    "def split_vect_score(df, features, target, vectorizer, cv): # def function to train-test split and vectorize\n",
    "    \n",
    "    # set X features and y target\n",
    "    X = df[features]\n",
    "    y = df[target]\n",
    "    \n",
    "    # vectorize\n",
    "    vec = vectorizer # vectorizer params should be instantiated in arguments\n",
    "    X_vec = vec.fit_transform(X)\n",
    "    \n",
    "    # cross-validate classifiers\n",
    "    cross_val_classifiers(X_vec, y, cv) # return scores"
   ]
  },
  {
   "cell_type": "code",
   "execution_count": 77,
   "metadata": {},
   "outputs": [
    {
     "name": "stdout",
     "output_type": "stream",
     "text": [
      "CV score for Logistic Regression: 0.609\n",
      "CV score for k-Nearest Neighbours: 0.503\n",
      "CV score for Multinomial NB: 0.626\n"
     ]
    }
   ],
   "source": [
    "# set up arguments and classify with CountVectorizer\n",
    "df = sp_merged_train\n",
    "features = \"title_tokens_str\"\n",
    "target = \"is_shitty\"\n",
    "vectorizer = CountVectorizer(stop_words=\"english\", max_features=None)\n",
    "\n",
    "split_vect_score(df=df, features=features, target=target, vectorizer=vectorizer, cv=4)"
   ]
  },
  {
   "cell_type": "code",
   "execution_count": 78,
   "metadata": {},
   "outputs": [],
   "source": [
    "# best score for CountVectorizer is achieved with MultinomialNB at 0.626"
   ]
  },
  {
   "cell_type": "code",
   "execution_count": 79,
   "metadata": {},
   "outputs": [
    {
     "name": "stdout",
     "output_type": "stream",
     "text": [
      "CV score for Logistic Regression: 0.609\n",
      "CV score for k-Nearest Neighbours: 0.488\n",
      "CV score for Multinomial NB: 0.617\n"
     ]
    }
   ],
   "source": [
    "# set up arguments and classify with TfidfVectorizer\n",
    "df = sp_merged_train\n",
    "features = \"title_tokens_str\"\n",
    "target = \"is_shitty\"\n",
    "vectorizer = TfidfVectorizer(stop_words=\"english\", max_features=None)\n",
    "\n",
    "split_vect_score(df=df, features=features, target=target, vectorizer=vectorizer, cv=4)"
   ]
  },
  {
   "cell_type": "code",
   "execution_count": 80,
   "metadata": {},
   "outputs": [],
   "source": [
    "# best score for TfidfVectorizer is achieved with Multinomial NB at 0.617"
   ]
  },
  {
   "cell_type": "markdown",
   "metadata": {},
   "source": [
    "#### Cross-Validate Models for Lemmatized Posts"
   ]
  },
  {
   "cell_type": "code",
   "execution_count": 81,
   "metadata": {},
   "outputs": [
    {
     "name": "stdout",
     "output_type": "stream",
     "text": [
      "CV score for Logistic Regression: 0.606\n",
      "CV score for k-Nearest Neighbours: 0.506\n",
      "CV score for Multinomial NB: 0.63\n"
     ]
    }
   ],
   "source": [
    "# set up arguments and classify with CountVectorizer\n",
    "df = sp_merged_train\n",
    "features = \"title_tokens_lemm\"\n",
    "target = \"is_shitty\"\n",
    "vectorizer = CountVectorizer(stop_words=\"english\", max_features=None)\n",
    "\n",
    "split_vect_score(df=df, features=features, target=target, vectorizer=vectorizer, cv=4)"
   ]
  },
  {
   "cell_type": "code",
   "execution_count": 82,
   "metadata": {},
   "outputs": [],
   "source": [
    "# best score for CountVectorizer is achieved with MultinomialNB at 0.630"
   ]
  },
  {
   "cell_type": "code",
   "execution_count": 83,
   "metadata": {},
   "outputs": [
    {
     "name": "stdout",
     "output_type": "stream",
     "text": [
      "CV score for Logistic Regression: 0.619\n",
      "CV score for k-Nearest Neighbours: 0.5\n",
      "CV score for Multinomial NB: 0.631\n"
     ]
    }
   ],
   "source": [
    "# set up arguments and classify with TfidfVectorizer\n",
    "df = sp_merged_train\n",
    "features = \"title_tokens_lemm\"\n",
    "target = \"is_shitty\"\n",
    "vectorizer = TfidfVectorizer(stop_words=\"english\", max_features=None)\n",
    "\n",
    "split_vect_score(df=df, features=features, target=target, vectorizer=vectorizer, cv=4)"
   ]
  },
  {
   "cell_type": "code",
   "execution_count": 84,
   "metadata": {},
   "outputs": [],
   "source": [
    "# best score for TfidfVectorizer is achieved with Multinomial NB at 0.631"
   ]
  },
  {
   "cell_type": "markdown",
   "metadata": {},
   "source": [
    "#### Cross-Validate Models for Stemmed Posts"
   ]
  },
  {
   "cell_type": "code",
   "execution_count": 85,
   "metadata": {},
   "outputs": [
    {
     "name": "stdout",
     "output_type": "stream",
     "text": [
      "CV score for Logistic Regression: 0.623\n",
      "CV score for k-Nearest Neighbours: 0.527\n",
      "CV score for Multinomial NB: 0.637\n"
     ]
    }
   ],
   "source": [
    "# set up arguments and classify with CountVectorizer\n",
    "df = sp_merged_train\n",
    "features = \"title_tokens_stem\"\n",
    "target = \"is_shitty\"\n",
    "vectorizer = CountVectorizer(stop_words=\"english\", max_features=None)\n",
    "\n",
    "split_vect_score(df=df, features=features, target=target, vectorizer=vectorizer, cv=4)"
   ]
  },
  {
   "cell_type": "code",
   "execution_count": 86,
   "metadata": {},
   "outputs": [],
   "source": [
    "# best score for CountVectorizer is achieved with MultinomialNB at 0.637"
   ]
  },
  {
   "cell_type": "code",
   "execution_count": 87,
   "metadata": {},
   "outputs": [
    {
     "name": "stdout",
     "output_type": "stream",
     "text": [
      "CV score for Logistic Regression: 0.626\n",
      "CV score for k-Nearest Neighbours: 0.517\n",
      "CV score for Multinomial NB: 0.635\n"
     ]
    }
   ],
   "source": [
    "# set up arguments and classify with TfidfVectorizer\n",
    "df = sp_merged_train\n",
    "features = \"title_tokens_stem\"\n",
    "target = \"is_shitty\"\n",
    "vectorizer = TfidfVectorizer(stop_words=\"english\", max_features=None)\n",
    "\n",
    "split_vect_score(df=df, features=features, target=target, vectorizer=vectorizer, cv=4)"
   ]
  },
  {
   "cell_type": "code",
   "execution_count": 88,
   "metadata": {},
   "outputs": [],
   "source": [
    "# best score for TfidfVectorizer is achieved with Multinomial NB at 0.635"
   ]
  },
  {
   "cell_type": "markdown",
   "metadata": {},
   "source": [
    "#### Tuning Hyper-Parameters"
   ]
  },
  {
   "cell_type": "code",
   "execution_count": 89,
   "metadata": {},
   "outputs": [],
   "source": [
    "# from above cross_val_score\n",
    "### modelling with stemmed word tokens in post and,\n",
    "### fitting MultinomialNB onto a CountVectorizer matrix performed the best\n",
    "\n",
    "# let's build our baseline model using CountVectorizer and MultinomialNB"
   ]
  },
  {
   "cell_type": "code",
   "execution_count": 90,
   "metadata": {},
   "outputs": [],
   "source": [
    "features = \"title_tokens_stem\"\n",
    "X = sp_merged_train[features]\n",
    "y = sp_merged_train[\"is_shitty\"]"
   ]
  },
  {
   "cell_type": "code",
   "execution_count": 91,
   "metadata": {},
   "outputs": [],
   "source": [
    "# train-test split on training set\n",
    "X_train, X_test, y_train, y_test = train_test_split(X, y, random_state=42)"
   ]
  },
  {
   "cell_type": "code",
   "execution_count": 92,
   "metadata": {},
   "outputs": [],
   "source": [
    "# build pipeline of steps in tuples\n",
    "pipe = Pipeline([\n",
    "    ('cvec', CountVectorizer(stop_words=\"english\")), # instantiate CountVectorizer and remove stop_words\n",
    "    ('mnb', MultinomialNB()) # instantiate LogisticRegression and set enet penalties\n",
    "])"
   ]
  },
  {
   "cell_type": "code",
   "execution_count": 93,
   "metadata": {},
   "outputs": [],
   "source": [
    "# set hyper params to tune\n",
    "pipe_params = {\n",
    "    'cvec__max_features': [500, 1000, 2000], # only top occuring 500/1000/2000 word features are selected\n",
    "    'cvec__min_df': [2, 3], # word must occur in at least 2/3 posts from the corpus\n",
    "    'cvec__max_df': [.9, .95], # ignore words that occur in > 90/95% of the documents from the corpus\n",
    "    'cvec__ngram_range': [(1,1), (1,2), (1,3)], # tokenise group of 1/2/3 words\n",
    "    'mnb__alpha': np.linspace(1, 20, 10) # vary alpha penalties\n",
    "}"
   ]
  },
  {
   "cell_type": "code",
   "execution_count": 94,
   "metadata": {},
   "outputs": [
    {
     "name": "stdout",
     "output_type": "stream",
     "text": [
      "0.6498746256181653\n",
      "Wall time: 1min 35s\n"
     ]
    },
    {
     "data": {
      "text/plain": [
       "{'cvec__max_df': 0.9,\n",
       " 'cvec__max_features': 1000,\n",
       " 'cvec__min_df': 2,\n",
       " 'cvec__ngram_range': (1, 2),\n",
       " 'mnb__alpha': 17.88888888888889}"
      ]
     },
     "execution_count": 94,
     "metadata": {},
     "output_type": "execute_result"
    }
   ],
   "source": [
    "%%time\n",
    "# use grid search to find canvas hyper params for best model\n",
    "gs = GridSearchCV(pipe, param_grid=pipe_params, cv=4)\n",
    "gs.fit(X_train, y_train) # ensure to pass in list/Series since posts vectorized in pipeline\n",
    "print(gs.best_score_)\n",
    "gs.best_params_"
   ]
  },
  {
   "cell_type": "code",
   "execution_count": 95,
   "metadata": {},
   "outputs": [
    {
     "data": {
      "text/plain": [
       "0.772572402044293"
      ]
     },
     "execution_count": 95,
     "metadata": {},
     "output_type": "execute_result"
    }
   ],
   "source": [
    "gs.best_estimator_.score(X_train, y_train)"
   ]
  },
  {
   "cell_type": "code",
   "execution_count": 96,
   "metadata": {},
   "outputs": [
    {
     "data": {
      "text/plain": [
       "0.6224489795918368"
      ]
     },
     "execution_count": 96,
     "metadata": {},
     "output_type": "execute_result"
    }
   ],
   "source": [
    "gs.best_estimator_.score(X_test, y_test)"
   ]
  },
  {
   "cell_type": "code",
   "execution_count": 97,
   "metadata": {},
   "outputs": [],
   "source": [
    "# using best hyper params, score again on training and test set\n",
    "# there is an approximate 15% drop in accuracy from training data to test set\n",
    "# suggesting a strong overfit to training data\n",
    "\n",
    "# while max_features optimised for accuracy on tvec training set is given to be 1000 from the range provided\n",
    "### we should overwrite the grid search and set a lower max_features to reduce the overfit on training data"
   ]
  },
  {
   "cell_type": "markdown",
   "metadata": {},
   "source": [
    "#### Model with 1000 features"
   ]
  },
  {
   "cell_type": "code",
   "execution_count": 98,
   "metadata": {},
   "outputs": [],
   "source": [
    "# let's build our model with suggested hyper params to test generalisations"
   ]
  },
  {
   "cell_type": "code",
   "execution_count": 99,
   "metadata": {},
   "outputs": [],
   "source": [
    "# instantiate CountVectorizer using hyper params as considered above\n",
    "cvec = CountVectorizer(stop_words=\"english\",\n",
    "                       max_df=0.9,\n",
    "                       min_df=2,\n",
    "                       max_features=1000, # limit selected features to 1000\n",
    "                       ngram_range=(1,2))"
   ]
  },
  {
   "cell_type": "code",
   "execution_count": 100,
   "metadata": {},
   "outputs": [],
   "source": [
    "# vectorise posts in training and test sets\n",
    "X_train_cvec = cvec.fit_transform(X_train)\n",
    "X_test_cvec = cvec.transform(X_test)"
   ]
  },
  {
   "cell_type": "code",
   "execution_count": 101,
   "metadata": {},
   "outputs": [],
   "source": [
    "# instantiate MultinomialNB with alpha at optimum\n",
    "mnd = MultinomialNB(alpha=17.78)"
   ]
  },
  {
   "cell_type": "code",
   "execution_count": 102,
   "metadata": {},
   "outputs": [
    {
     "name": "stdout",
     "output_type": "stream",
     "text": [
      "Model scored on training set: 0.773\n",
      "Model scored on test set: 0.622\n",
      "There is a score gap between training and test sets of 0.15\n"
     ]
    }
   ],
   "source": [
    "# fit and transform\n",
    "mnd.fit(X_train_cvec, y_train)\n",
    "\n",
    "# score model\n",
    "train_score = mnd.score(X_train_cvec, y_train)\n",
    "test_score = mnd.score(X_test_cvec, y_test)\n",
    "print(\"Model scored on training set:\", round(train_score, 3))\n",
    "print(\"Model scored on test set:\", round(test_score, 3))\n",
    "print(\"There is a score gap between training and test sets of\", round((train_score-test_score), 3))"
   ]
  },
  {
   "cell_type": "code",
   "execution_count": 103,
   "metadata": {},
   "outputs": [],
   "source": [
    "# model is overfitting to training data\n",
    "# there is a a gap between training and test scores of 15.0%"
   ]
  },
  {
   "cell_type": "markdown",
   "metadata": {},
   "source": [
    "#### Model with 500 features"
   ]
  },
  {
   "cell_type": "code",
   "execution_count": 104,
   "metadata": {},
   "outputs": [],
   "source": [
    "# let's rebuild our model with re-considered hyper params"
   ]
  },
  {
   "cell_type": "code",
   "execution_count": 105,
   "metadata": {},
   "outputs": [],
   "source": [
    "# instantiate CountVectorizer using hyper params as considered above\n",
    "cvec = CountVectorizer(stop_words=\"english\",\n",
    "                       max_df=0.9,\n",
    "                       min_df=2,\n",
    "                       max_features=500, # limit selected features to 500\n",
    "                       ngram_range=(1,2))"
   ]
  },
  {
   "cell_type": "code",
   "execution_count": 106,
   "metadata": {},
   "outputs": [],
   "source": [
    "# vectorise posts in training and test sets\n",
    "X_train_cvec = cvec.fit_transform(X_train)\n",
    "X_test_cvec = cvec.transform(X_test)"
   ]
  },
  {
   "cell_type": "code",
   "execution_count": 107,
   "metadata": {},
   "outputs": [],
   "source": [
    "# instantiate MultinomialNB with alpha at optimum\n",
    "mnd = MultinomialNB(alpha=17.78)"
   ]
  },
  {
   "cell_type": "code",
   "execution_count": 108,
   "metadata": {},
   "outputs": [
    {
     "name": "stdout",
     "output_type": "stream",
     "text": [
      "Model scored on training set: 0.747\n",
      "Model scored on test set: 0.63\n",
      "There is a score gap between training and test sets of 0.117\n"
     ]
    }
   ],
   "source": [
    "# fit and transform\n",
    "mnd.fit(X_train_cvec, y_train)\n",
    "\n",
    "# score model\n",
    "train_score = mnd.score(X_train_cvec, y_train)\n",
    "test_score = mnd.score(X_test_cvec, y_test)\n",
    "print(\"Model scored on training set:\", round(train_score, 3))\n",
    "print(\"Model scored on test set:\", round(test_score, 3))\n",
    "print(\"There is a score gap between training and test sets of\", round((train_score-test_score), 3))"
   ]
  },
  {
   "cell_type": "code",
   "execution_count": 109,
   "metadata": {},
   "outputs": [],
   "source": [
    "# model is overfitting to training data still\n",
    "# but the gap in scores has narrowed from 15.0% to 11.7% following the reduction in the number of word features\n",
    "# there is marginal improvement in generalisation of model"
   ]
  },
  {
   "cell_type": "markdown",
   "metadata": {},
   "source": [
    "#### Model 02: Stemmed Posts + CountVectorizer + MultinomialNB"
   ]
  },
  {
   "cell_type": "code",
   "execution_count": 110,
   "metadata": {
    "scrolled": true
   },
   "outputs": [
    {
     "data": {
      "text/html": [
       "<div>\n",
       "<style scoped>\n",
       "    .dataframe tbody tr th:only-of-type {\n",
       "        vertical-align: middle;\n",
       "    }\n",
       "\n",
       "    .dataframe tbody tr th {\n",
       "        vertical-align: top;\n",
       "    }\n",
       "\n",
       "    .dataframe thead th {\n",
       "        text-align: right;\n",
       "    }\n",
       "</style>\n",
       "<table border=\"1\" class=\"dataframe\">\n",
       "  <thead>\n",
       "    <tr style=\"text-align: right;\">\n",
       "      <th></th>\n",
       "      <th>approved_at_utc</th>\n",
       "      <th>subreddit</th>\n",
       "      <th>selftext</th>\n",
       "      <th>author_fullname</th>\n",
       "      <th>saved</th>\n",
       "      <th>mod_reason_title</th>\n",
       "      <th>gilded</th>\n",
       "      <th>clicked</th>\n",
       "      <th>title</th>\n",
       "      <th>link_flair_richtext</th>\n",
       "      <th>...</th>\n",
       "      <th>author_cakeday</th>\n",
       "      <th>crosspost_parent_list</th>\n",
       "      <th>crosspost_parent</th>\n",
       "      <th>is_shitty</th>\n",
       "      <th>title_censored</th>\n",
       "      <th>pacific_st_created</th>\n",
       "      <th>title_tokens</th>\n",
       "      <th>title_tokens_str</th>\n",
       "      <th>title_tokens_lemm</th>\n",
       "      <th>title_tokens_stem</th>\n",
       "    </tr>\n",
       "  </thead>\n",
       "  <tbody>\n",
       "    <tr>\n",
       "      <th>0</th>\n",
       "      <td>NaN</td>\n",
       "      <td>shittysuperpowers</td>\n",
       "      <td>you can't turn back</td>\n",
       "      <td>t2_76n67</td>\n",
       "      <td>False</td>\n",
       "      <td>NaN</td>\n",
       "      <td>0</td>\n",
       "      <td>False</td>\n",
       "      <td>you can turn into a goose, once</td>\n",
       "      <td>[]</td>\n",
       "      <td>...</td>\n",
       "      <td>NaN</td>\n",
       "      <td>NaN</td>\n",
       "      <td>NaN</td>\n",
       "      <td>1</td>\n",
       "      <td>you can turn into a goose, once</td>\n",
       "      <td>2018-05-07 18:43:50</td>\n",
       "      <td>['you', 'can', 'turn', 'into', 'a', 'goose', '...</td>\n",
       "      <td>you can turn into a goose once</td>\n",
       "      <td>you can turn into a goose once</td>\n",
       "      <td>you can turn into a goos onc</td>\n",
       "    </tr>\n",
       "    <tr>\n",
       "      <th>1</th>\n",
       "      <td>NaN</td>\n",
       "      <td>shittysuperpowers</td>\n",
       "      <td>NaN</td>\n",
       "      <td>t2_66d4bkr</td>\n",
       "      <td>False</td>\n",
       "      <td>NaN</td>\n",
       "      <td>0</td>\n",
       "      <td>False</td>\n",
       "      <td>You can punch with half the strength of someon...</td>\n",
       "      <td>[]</td>\n",
       "      <td>...</td>\n",
       "      <td>NaN</td>\n",
       "      <td>NaN</td>\n",
       "      <td>NaN</td>\n",
       "      <td>1</td>\n",
       "      <td>you can punch with half the strength of someon...</td>\n",
       "      <td>2018-05-07 21:42:12</td>\n",
       "      <td>['you', 'can', 'punch', 'with', 'half', 'the',...</td>\n",
       "      <td>you can punch with half the strength of someon...</td>\n",
       "      <td>you can punch with half the strength of someon...</td>\n",
       "      <td>you can punch with half the strength of someon...</td>\n",
       "    </tr>\n",
       "    <tr>\n",
       "      <th>2</th>\n",
       "      <td>NaN</td>\n",
       "      <td>shittysuperpowers</td>\n",
       "      <td>NaN</td>\n",
       "      <td>t2_20p7w7s</td>\n",
       "      <td>False</td>\n",
       "      <td>NaN</td>\n",
       "      <td>1</td>\n",
       "      <td>False</td>\n",
       "      <td>You can unpee.</td>\n",
       "      <td>[]</td>\n",
       "      <td>...</td>\n",
       "      <td>True</td>\n",
       "      <td>NaN</td>\n",
       "      <td>NaN</td>\n",
       "      <td>1</td>\n",
       "      <td>you can unpee.</td>\n",
       "      <td>2018-06-17 17:35:10</td>\n",
       "      <td>['you', 'can', 'unpee']</td>\n",
       "      <td>you can unpee</td>\n",
       "      <td>you can unpee</td>\n",
       "      <td>you can unpe</td>\n",
       "    </tr>\n",
       "  </tbody>\n",
       "</table>\n",
       "<p>3 rows × 114 columns</p>\n",
       "</div>"
      ],
      "text/plain": [
       "   approved_at_utc          subreddit             selftext author_fullname  \\\n",
       "0              NaN  shittysuperpowers  you can't turn back        t2_76n67   \n",
       "1              NaN  shittysuperpowers                  NaN      t2_66d4bkr   \n",
       "2              NaN  shittysuperpowers                  NaN      t2_20p7w7s   \n",
       "\n",
       "   saved  mod_reason_title  gilded  clicked  \\\n",
       "0  False               NaN       0    False   \n",
       "1  False               NaN       0    False   \n",
       "2  False               NaN       1    False   \n",
       "\n",
       "                                               title link_flair_richtext  ...  \\\n",
       "0                    you can turn into a goose, once                  []  ...   \n",
       "1  You can punch with half the strength of someon...                  []  ...   \n",
       "2                                     You can unpee.                  []  ...   \n",
       "\n",
       "  author_cakeday  crosspost_parent_list  crosspost_parent  is_shitty  \\\n",
       "0            NaN                    NaN               NaN          1   \n",
       "1            NaN                    NaN               NaN          1   \n",
       "2           True                    NaN               NaN          1   \n",
       "\n",
       "                                      title_censored   pacific_st_created  \\\n",
       "0                    you can turn into a goose, once  2018-05-07 18:43:50   \n",
       "1  you can punch with half the strength of someon...  2018-05-07 21:42:12   \n",
       "2                                     you can unpee.  2018-06-17 17:35:10   \n",
       "\n",
       "                                        title_tokens  \\\n",
       "0  ['you', 'can', 'turn', 'into', 'a', 'goose', '...   \n",
       "1  ['you', 'can', 'punch', 'with', 'half', 'the',...   \n",
       "2                            ['you', 'can', 'unpee']   \n",
       "\n",
       "                                    title_tokens_str  \\\n",
       "0                     you can turn into a goose once   \n",
       "1  you can punch with half the strength of someon...   \n",
       "2                                      you can unpee   \n",
       "\n",
       "                                   title_tokens_lemm  \\\n",
       "0                     you can turn into a goose once   \n",
       "1  you can punch with half the strength of someon...   \n",
       "2                                      you can unpee   \n",
       "\n",
       "                                   title_tokens_stem  \n",
       "0                       you can turn into a goos onc  \n",
       "1  you can punch with half the strength of someon...  \n",
       "2                                       you can unpe  \n",
       "\n",
       "[3 rows x 114 columns]"
      ]
     },
     "execution_count": 110,
     "metadata": {},
     "output_type": "execute_result"
    }
   ],
   "source": [
    "sp_merged_train.head(3) # recall training set"
   ]
  },
  {
   "cell_type": "code",
   "execution_count": 111,
   "metadata": {},
   "outputs": [
    {
     "data": {
      "text/plain": [
       "(1566, 114)"
      ]
     },
     "execution_count": 111,
     "metadata": {},
     "output_type": "execute_result"
    }
   ],
   "source": [
    "sp_merged_train.shape"
   ]
  },
  {
   "cell_type": "code",
   "execution_count": 112,
   "metadata": {},
   "outputs": [
    {
     "data": {
      "text/html": [
       "<div>\n",
       "<style scoped>\n",
       "    .dataframe tbody tr th:only-of-type {\n",
       "        vertical-align: middle;\n",
       "    }\n",
       "\n",
       "    .dataframe tbody tr th {\n",
       "        vertical-align: top;\n",
       "    }\n",
       "\n",
       "    .dataframe thead th {\n",
       "        text-align: right;\n",
       "    }\n",
       "</style>\n",
       "<table border=\"1\" class=\"dataframe\">\n",
       "  <thead>\n",
       "    <tr style=\"text-align: right;\">\n",
       "      <th></th>\n",
       "      <th>approved_at_utc</th>\n",
       "      <th>subreddit</th>\n",
       "      <th>selftext</th>\n",
       "      <th>author_fullname</th>\n",
       "      <th>saved</th>\n",
       "      <th>mod_reason_title</th>\n",
       "      <th>gilded</th>\n",
       "      <th>clicked</th>\n",
       "      <th>title</th>\n",
       "      <th>link_flair_richtext</th>\n",
       "      <th>...</th>\n",
       "      <th>author_cakeday</th>\n",
       "      <th>crosspost_parent_list</th>\n",
       "      <th>crosspost_parent</th>\n",
       "      <th>is_shitty</th>\n",
       "      <th>title_censored</th>\n",
       "      <th>pacific_st_created</th>\n",
       "      <th>title_tokens</th>\n",
       "      <th>title_tokens_str</th>\n",
       "      <th>title_tokens_lemm</th>\n",
       "      <th>title_tokens_stem</th>\n",
       "    </tr>\n",
       "  </thead>\n",
       "  <tbody>\n",
       "    <tr>\n",
       "      <th>1566</th>\n",
       "      <td>NaN</td>\n",
       "      <td>shittysuperpowers</td>\n",
       "      <td>NaN</td>\n",
       "      <td>t2_4ve89obc</td>\n",
       "      <td>False</td>\n",
       "      <td>NaN</td>\n",
       "      <td>0</td>\n",
       "      <td>False</td>\n",
       "      <td>Your blinks are perfectly in sync with whoever...</td>\n",
       "      <td>[]</td>\n",
       "      <td>...</td>\n",
       "      <td>NaN</td>\n",
       "      <td>NaN</td>\n",
       "      <td>NaN</td>\n",
       "      <td>1</td>\n",
       "      <td>your blinks are perfectly in sync with whoever...</td>\n",
       "      <td>2020-05-11 01:23:59</td>\n",
       "      <td>['your', 'blinks', 'are', 'perfectly', 'in', '...</td>\n",
       "      <td>your blinks are perfectly in sync with whoever...</td>\n",
       "      <td>your blink are perfectly in sync with whoever ...</td>\n",
       "      <td>your blink are perfectli in sync with whoever ...</td>\n",
       "    </tr>\n",
       "    <tr>\n",
       "      <th>1567</th>\n",
       "      <td>NaN</td>\n",
       "      <td>godtiersuperpowers</td>\n",
       "      <td>An example would be falling asleep during scho...</td>\n",
       "      <td>t2_5nabfprf</td>\n",
       "      <td>False</td>\n",
       "      <td>NaN</td>\n",
       "      <td>0</td>\n",
       "      <td>False</td>\n",
       "      <td>You can fall asleep anytime you want but your ...</td>\n",
       "      <td>[]</td>\n",
       "      <td>...</td>\n",
       "      <td>NaN</td>\n",
       "      <td>NaN</td>\n",
       "      <td>NaN</td>\n",
       "      <td>0</td>\n",
       "      <td>you can fall asleep anytime you want but your ...</td>\n",
       "      <td>2020-05-11 15:17:58</td>\n",
       "      <td>['you', 'can', 'fall', 'asleep', 'anytime', 'y...</td>\n",
       "      <td>you can fall asleep anytime you want but your ...</td>\n",
       "      <td>you can fall asleep anytime you want but your ...</td>\n",
       "      <td>you can fall asleep anytim you want but your b...</td>\n",
       "    </tr>\n",
       "    <tr>\n",
       "      <th>1568</th>\n",
       "      <td>NaN</td>\n",
       "      <td>godtiersuperpowers</td>\n",
       "      <td>NaN</td>\n",
       "      <td>t2_w5vgsq</td>\n",
       "      <td>False</td>\n",
       "      <td>NaN</td>\n",
       "      <td>0</td>\n",
       "      <td>False</td>\n",
       "      <td>You get a second try at life with all your mem...</td>\n",
       "      <td>[]</td>\n",
       "      <td>...</td>\n",
       "      <td>NaN</td>\n",
       "      <td>NaN</td>\n",
       "      <td>NaN</td>\n",
       "      <td>0</td>\n",
       "      <td>you get a second try at life with all your mem...</td>\n",
       "      <td>2020-05-12 04:45:51</td>\n",
       "      <td>['you', 'get', 'a', 'second', 'try', 'at', 'li...</td>\n",
       "      <td>you get a second try at life with all your mem...</td>\n",
       "      <td>you get a second try at life with all your mem...</td>\n",
       "      <td>you get a second tri at life with all your mem...</td>\n",
       "    </tr>\n",
       "  </tbody>\n",
       "</table>\n",
       "<p>3 rows × 114 columns</p>\n",
       "</div>"
      ],
      "text/plain": [
       "      approved_at_utc           subreddit  \\\n",
       "1566              NaN   shittysuperpowers   \n",
       "1567              NaN  godtiersuperpowers   \n",
       "1568              NaN  godtiersuperpowers   \n",
       "\n",
       "                                               selftext author_fullname  \\\n",
       "1566                                                NaN     t2_4ve89obc   \n",
       "1567  An example would be falling asleep during scho...     t2_5nabfprf   \n",
       "1568                                                NaN       t2_w5vgsq   \n",
       "\n",
       "      saved  mod_reason_title  gilded  clicked  \\\n",
       "1566  False               NaN       0    False   \n",
       "1567  False               NaN       0    False   \n",
       "1568  False               NaN       0    False   \n",
       "\n",
       "                                                  title link_flair_richtext  \\\n",
       "1566  Your blinks are perfectly in sync with whoever...                  []   \n",
       "1567  You can fall asleep anytime you want but your ...                  []   \n",
       "1568  You get a second try at life with all your mem...                  []   \n",
       "\n",
       "      ... author_cakeday  crosspost_parent_list  crosspost_parent  is_shitty  \\\n",
       "1566  ...            NaN                    NaN               NaN          1   \n",
       "1567  ...            NaN                    NaN               NaN          0   \n",
       "1568  ...            NaN                    NaN               NaN          0   \n",
       "\n",
       "                                         title_censored   pacific_st_created  \\\n",
       "1566  your blinks are perfectly in sync with whoever...  2020-05-11 01:23:59   \n",
       "1567  you can fall asleep anytime you want but your ...  2020-05-11 15:17:58   \n",
       "1568  you get a second try at life with all your mem...  2020-05-12 04:45:51   \n",
       "\n",
       "                                           title_tokens  \\\n",
       "1566  ['your', 'blinks', 'are', 'perfectly', 'in', '...   \n",
       "1567  ['you', 'can', 'fall', 'asleep', 'anytime', 'y...   \n",
       "1568  ['you', 'get', 'a', 'second', 'try', 'at', 'li...   \n",
       "\n",
       "                                       title_tokens_str  \\\n",
       "1566  your blinks are perfectly in sync with whoever...   \n",
       "1567  you can fall asleep anytime you want but your ...   \n",
       "1568  you get a second try at life with all your mem...   \n",
       "\n",
       "                                      title_tokens_lemm  \\\n",
       "1566  your blink are perfectly in sync with whoever ...   \n",
       "1567  you can fall asleep anytime you want but your ...   \n",
       "1568  you get a second try at life with all your mem...   \n",
       "\n",
       "                                      title_tokens_stem  \n",
       "1566  your blink are perfectli in sync with whoever ...  \n",
       "1567  you can fall asleep anytim you want but your b...  \n",
       "1568  you get a second tri at life with all your mem...  \n",
       "\n",
       "[3 rows x 114 columns]"
      ]
     },
     "execution_count": 112,
     "metadata": {},
     "output_type": "execute_result"
    }
   ],
   "source": [
    "sp_merged_unseen.head(3) # recall unseen test set"
   ]
  },
  {
   "cell_type": "code",
   "execution_count": 113,
   "metadata": {},
   "outputs": [
    {
     "data": {
      "text/plain": [
       "(390, 114)"
      ]
     },
     "execution_count": 113,
     "metadata": {},
     "output_type": "execute_result"
    }
   ],
   "source": [
    "sp_merged_unseen.shape"
   ]
  },
  {
   "cell_type": "code",
   "execution_count": 114,
   "metadata": {},
   "outputs": [],
   "source": [
    "# split training and test sets into X features and y target\n",
    "features = \"title_tokens_stem\"\n",
    "X_train = sp_merged_train[features] # train model on full training data set\n",
    "y_train = sp_merged_train[\"is_shitty\"]\n",
    "X_test = sp_merged_unseen[features]\n",
    "y_test = sp_merged_unseen[\"is_shitty\"]"
   ]
  },
  {
   "cell_type": "code",
   "execution_count": 115,
   "metadata": {},
   "outputs": [],
   "source": [
    "# instantiate CountVectorizer using hyper params as considered above\n",
    "cvec = CountVectorizer(stop_words=\"english\",\n",
    "                       max_df=0.9,\n",
    "                       min_df=2,\n",
    "                       max_features=500, # limit selected features to 500\n",
    "                       ngram_range=(1,2))"
   ]
  },
  {
   "cell_type": "code",
   "execution_count": 116,
   "metadata": {},
   "outputs": [],
   "source": [
    "# vectorise posts in training and test sets\n",
    "X_train_cvec = cvec.fit_transform(X_train)\n",
    "X_test_cvec = cvec.transform(X_test)"
   ]
  },
  {
   "cell_type": "code",
   "execution_count": 117,
   "metadata": {},
   "outputs": [],
   "source": [
    "# instantiate MultinomialNB with alpha at optimum\n",
    "mnb = MultinomialNB(alpha=17.78)"
   ]
  },
  {
   "cell_type": "code",
   "execution_count": 118,
   "metadata": {},
   "outputs": [
    {
     "name": "stdout",
     "output_type": "stream",
     "text": [
      "Model scored on training set: 0.729\n",
      "Model scored on test set: 0.659\n",
      "There is a score gap between training and test sets of 0.07\n"
     ]
    }
   ],
   "source": [
    "# fit and transform\n",
    "mnb.fit(X_train_cvec, y_train)\n",
    "\n",
    "# score model\n",
    "train_score = mnb.score(X_train_cvec, y_train)\n",
    "test_score = mnb.score(X_test_cvec, y_test)\n",
    "print(\"Model scored on training set:\", round(train_score, 3))\n",
    "print(\"Model scored on test set:\", round(test_score, 3))\n",
    "print(\"There is a score gap between training and test sets of\", round((train_score-test_score), 3))"
   ]
  },
  {
   "cell_type": "code",
   "execution_count": 119,
   "metadata": {},
   "outputs": [],
   "source": [
    "# baseline model overfitting to training data still\n",
    "# accuracy gap of about 7% (lowest thus far)"
   ]
  },
  {
   "cell_type": "code",
   "execution_count": 120,
   "metadata": {},
   "outputs": [],
   "source": [
    "predictions = mnb.predict(X_test_cvec)"
   ]
  },
  {
   "cell_type": "code",
   "execution_count": 121,
   "metadata": {},
   "outputs": [
    {
     "data": {
      "text/plain": [
       "array([[146,  72],\n",
       "       [ 61, 111]], dtype=int64)"
      ]
     },
     "execution_count": 121,
     "metadata": {},
     "output_type": "execute_result"
    }
   ],
   "source": [
    "confusion_matrix(y_test, predictions)"
   ]
  },
  {
   "cell_type": "markdown",
   "metadata": {},
   "source": [
    "|*Confusion Matrix*|Predicted Negatives|Predicted Positives*|\n",
    "|---|---|---|\n",
    "|**Actual Negatives**|146|72|\n",
    "|**Actual Positives**|61|111|\n",
    "\n",
    "<p style=\"text-align:right;\"><sup>*Predict for <i>r/shittysuperpowers</i></sup></p>"
   ]
  },
  {
   "cell_type": "code",
   "execution_count": 122,
   "metadata": {},
   "outputs": [],
   "source": [
    "tn, fp, fn, tp = confusion_matrix(y_test, predictions).ravel()"
   ]
  },
  {
   "cell_type": "code",
   "execution_count": 123,
   "metadata": {},
   "outputs": [
    {
     "name": "stdout",
     "output_type": "stream",
     "text": [
      "True Negatives: 146\n",
      "False Positives: 72\n",
      "False Negatives: 61\n",
      "True Positives: 111\n"
     ]
    }
   ],
   "source": [
    "print(\"True Negatives: %s\" % tn)\n",
    "print(\"False Positives: %s\" % fp)\n",
    "print(\"False Negatives: %s\" % fn)\n",
    "print(\"True Positives: %s\" % tp)"
   ]
  },
  {
   "cell_type": "code",
   "execution_count": 124,
   "metadata": {},
   "outputs": [],
   "source": [
    "# incidence of false positives to false negatives are now largely similar compared to Model 01\n",
    "# meaning model is now less biased in its erroneous classifications of posts"
   ]
  },
  {
   "cell_type": "code",
   "execution_count": 125,
   "metadata": {},
   "outputs": [
    {
     "name": "stdout",
     "output_type": "stream",
     "text": [
      "Accuracy: 0.659\n",
      "Recall: 0.645\n",
      "Specificity: 0.67\n"
     ]
    }
   ],
   "source": [
    "recall = tp / (tp + fn) # ratio of predicted positives to all positives\n",
    "specificity = tn / (tn + fp) # ratio of predicted negatives to all negatives\n",
    "accuracy = (tp + tn) / (tp + fp + tn + fn) # ratio of correct predictions to total predictions\n",
    "print(\"Accuracy:\", round(accuracy, 3))\n",
    "print(\"Recall:\", round(recall, 3))\n",
    "print(\"Specificity:\", round(specificity, 3))"
   ]
  },
  {
   "cell_type": "code",
   "execution_count": 126,
   "metadata": {},
   "outputs": [],
   "source": [
    "# baseline model has a largely similar recall and specificity score\n",
    "### this means our model is able to predict just as accurately for r/shittysuperpowers (positives) as for its negative\n",
    "### coming from Model 01, specificity score in particular has improved as a slight cost of recall\n",
    "### our model is now better with its predictions of non-r/shittysuperpowers posts"
   ]
  },
  {
   "cell_type": "code",
   "execution_count": 127,
   "metadata": {},
   "outputs": [
    {
     "data": {
      "text/plain": [
       "(390, 2)"
      ]
     },
     "execution_count": 127,
     "metadata": {},
     "output_type": "execute_result"
    }
   ],
   "source": [
    "# extract prediction probabilities and append to df with test results\n",
    "nlp_proba = mnb.predict_proba(X_test_cvec)[:, 1]\n",
    "df_results = pd.DataFrame(zip(y_test, nlp_proba), columns=[\"y_test\", \"nlp_proba\"])\n",
    "df_results.shape"
   ]
  },
  {
   "cell_type": "code",
   "execution_count": 128,
   "metadata": {
    "scrolled": false
   },
   "outputs": [
    {
     "data": {
      "image/png": "[encoded data removed]",
      "text/plain": [
       "<Figure size 864x576 with 1 Axes>"
      ]
     },
     "metadata": {
      "image/png": {
       "height": 497,
       "width": 798
      },
      "needs_background": "light"
     },
     "output_type": "display_data"
    }
   ],
   "source": [
    "# Create figure.\n",
    "plt.figure(figsize = (12,8))\n",
    "\n",
    "# Create threshold values. (Dashed red line in image.)\n",
    "thresholds = np.linspace(0, 1, 200)\n",
    "    \n",
    "# Calculate sensitivity & 1-specificity for each threshold between 0 and 1.\n",
    "tpr_values = [TPR(df_results, 'y_test', 'nlp_proba', prob) for prob in thresholds]\n",
    "fpr_values = [FPR(df_results, 'y_test', 'nlp_proba', prob) for prob in thresholds]\n",
    "\n",
    "# Plot ROC curve.\n",
    "plt.plot(fpr_values, # False Positive Rate on X-axis\n",
    "         tpr_values, # True Positive Rate on Y-axis\n",
    "         label='ROC Curve')\n",
    "\n",
    "# Plot baseline. (Perfect overlap between the two populations.)\n",
    "plt.plot(np.linspace(0, 1, 200),\n",
    "         np.linspace(0, 1, 200),\n",
    "         label='baseline',\n",
    "         linestyle='--')\n",
    "\n",
    "# Label axes.\n",
    "plt.title(f\"ROC Curve with AUC = {round(roc_auc_score(df_results['y_test'], df_results['nlp_proba']),3)}\", fontsize=20)\n",
    "plt.ylabel('Sensitivity', fontsize=10)\n",
    "plt.xlabel('1 - Specificity', fontsize=10)\n",
    "\n",
    "# Create legend.\n",
    "plt.legend(fontsize=16)\n",
    "\n",
    "# Save figure\n",
    "plt.savefig(\"../output/roc_auc_02.png\", transparent=True) # save out figure\n",
    "plt.show()"
   ]
  },
  {
   "cell_type": "code",
   "execution_count": 129,
   "metadata": {},
   "outputs": [
    {
     "data": {
      "text/plain": [
       "0.7086622573074461"
      ]
     },
     "execution_count": 129,
     "metadata": {},
     "output_type": "execute_result"
    }
   ],
   "source": [
    "roc_auc_score(y_test, nlp_proba)"
   ]
  },
  {
   "cell_type": "code",
   "execution_count": 130,
   "metadata": {},
   "outputs": [],
   "source": [
    "# we may have reach the limit of NLP with our current model\n",
    "# ROC-AUC is highest so far at 0.709\n",
    "# Model 02 performed 15.5% better than the baseline count of 50.4% r/shittysuperpowers post\n",
    "# Model 02 accuracy performed 2.5% better than Model 01\n",
    "# we should go back to the dataset to improve upon the quality of the features selected\n",
    "# where it concerns word features, we can consider weighing words of significance according to its upvotes"
   ]
  },
  {
   "cell_type": "markdown",
   "metadata": {},
   "source": [
    "## Model 03\n",
    "[Back to Top!](#Contents:)"
   ]
  },
  {
   "cell_type": "markdown",
   "metadata": {},
   "source": [
    "#### Import Weighted Word Features"
   ]
  },
  {
   "cell_type": "code",
   "execution_count": 131,
   "metadata": {},
   "outputs": [
    {
     "data": {
      "text/plain": [
       "(1956, 114)"
      ]
     },
     "execution_count": 131,
     "metadata": {},
     "output_type": "execute_result"
    }
   ],
   "source": [
    "sp_merged_weight = pd.read_csv(\"../datasets/merged_sp_top_weighted.csv\")\n",
    "sp_merged_weight.shape"
   ]
  },
  {
   "cell_type": "code",
   "execution_count": 132,
   "metadata": {},
   "outputs": [
    {
     "data": {
      "text/html": [
       "<div>\n",
       "<style scoped>\n",
       "    .dataframe tbody tr th:only-of-type {\n",
       "        vertical-align: middle;\n",
       "    }\n",
       "\n",
       "    .dataframe tbody tr th {\n",
       "        vertical-align: top;\n",
       "    }\n",
       "\n",
       "    .dataframe thead th {\n",
       "        text-align: right;\n",
       "    }\n",
       "</style>\n",
       "<table border=\"1\" class=\"dataframe\">\n",
       "  <thead>\n",
       "    <tr style=\"text-align: right;\">\n",
       "      <th></th>\n",
       "      <th>approved_at_utc</th>\n",
       "      <th>subreddit</th>\n",
       "      <th>selftext</th>\n",
       "      <th>author_fullname</th>\n",
       "      <th>saved</th>\n",
       "      <th>mod_reason_title</th>\n",
       "      <th>gilded</th>\n",
       "      <th>clicked</th>\n",
       "      <th>title</th>\n",
       "      <th>link_flair_richtext</th>\n",
       "      <th>...</th>\n",
       "      <th>author_cakeday</th>\n",
       "      <th>crosspost_parent_list</th>\n",
       "      <th>crosspost_parent</th>\n",
       "      <th>is_shitty</th>\n",
       "      <th>title_censored</th>\n",
       "      <th>pacific_st_created</th>\n",
       "      <th>title_tokens</th>\n",
       "      <th>title_tokens_str</th>\n",
       "      <th>title_tokens_lemm</th>\n",
       "      <th>title_tokens_stem</th>\n",
       "    </tr>\n",
       "  </thead>\n",
       "  <tbody>\n",
       "    <tr>\n",
       "      <th>0</th>\n",
       "      <td>NaN</td>\n",
       "      <td>shittysuperpowers</td>\n",
       "      <td>you can't turn back</td>\n",
       "      <td>t2_76n67</td>\n",
       "      <td>False</td>\n",
       "      <td>NaN</td>\n",
       "      <td>0</td>\n",
       "      <td>False</td>\n",
       "      <td>you can turn into a goose, once</td>\n",
       "      <td>[]</td>\n",
       "      <td>...</td>\n",
       "      <td>NaN</td>\n",
       "      <td>NaN</td>\n",
       "      <td>NaN</td>\n",
       "      <td>1</td>\n",
       "      <td>you can turn into a goose, once</td>\n",
       "      <td>2018-05-07 18:43:50</td>\n",
       "      <td>['you', 'can', 'turn', 'into', 'a', 'goose', '...</td>\n",
       "      <td>you can turn into a goose once</td>\n",
       "      <td>you can turn into a goose once</td>\n",
       "      <td>you can turn into a goos onc</td>\n",
       "    </tr>\n",
       "    <tr>\n",
       "      <th>1</th>\n",
       "      <td>NaN</td>\n",
       "      <td>shittysuperpowers</td>\n",
       "      <td>NaN</td>\n",
       "      <td>t2_66d4bkr</td>\n",
       "      <td>False</td>\n",
       "      <td>NaN</td>\n",
       "      <td>0</td>\n",
       "      <td>False</td>\n",
       "      <td>You can punch with half the strength of someon...</td>\n",
       "      <td>[]</td>\n",
       "      <td>...</td>\n",
       "      <td>NaN</td>\n",
       "      <td>NaN</td>\n",
       "      <td>NaN</td>\n",
       "      <td>1</td>\n",
       "      <td>you can punch with half the strength of someon...</td>\n",
       "      <td>2018-05-07 21:42:12</td>\n",
       "      <td>['you', 'can', 'punch', 'with', 'half', 'the',...</td>\n",
       "      <td>you can punch with half the strength of someon...</td>\n",
       "      <td>you can punch with half the strength of someon...</td>\n",
       "      <td>you can punch with half the strength of someon...</td>\n",
       "    </tr>\n",
       "    <tr>\n",
       "      <th>2</th>\n",
       "      <td>NaN</td>\n",
       "      <td>shittysuperpowers</td>\n",
       "      <td>NaN</td>\n",
       "      <td>t2_20p7w7s</td>\n",
       "      <td>False</td>\n",
       "      <td>NaN</td>\n",
       "      <td>1</td>\n",
       "      <td>False</td>\n",
       "      <td>You can unpee.</td>\n",
       "      <td>[]</td>\n",
       "      <td>...</td>\n",
       "      <td>True</td>\n",
       "      <td>NaN</td>\n",
       "      <td>NaN</td>\n",
       "      <td>1</td>\n",
       "      <td>you can unpee.</td>\n",
       "      <td>2018-06-17 17:35:10</td>\n",
       "      <td>['you', 'can', 'unpee']</td>\n",
       "      <td>you can unpee</td>\n",
       "      <td>you can unpee</td>\n",
       "      <td>you can unpe</td>\n",
       "    </tr>\n",
       "  </tbody>\n",
       "</table>\n",
       "<p>3 rows × 114 columns</p>\n",
       "</div>"
      ],
      "text/plain": [
       "   approved_at_utc          subreddit             selftext author_fullname  \\\n",
       "0              NaN  shittysuperpowers  you can't turn back        t2_76n67   \n",
       "1              NaN  shittysuperpowers                  NaN      t2_66d4bkr   \n",
       "2              NaN  shittysuperpowers                  NaN      t2_20p7w7s   \n",
       "\n",
       "   saved  mod_reason_title  gilded  clicked  \\\n",
       "0  False               NaN       0    False   \n",
       "1  False               NaN       0    False   \n",
       "2  False               NaN       1    False   \n",
       "\n",
       "                                               title link_flair_richtext  ...  \\\n",
       "0                    you can turn into a goose, once                  []  ...   \n",
       "1  You can punch with half the strength of someon...                  []  ...   \n",
       "2                                     You can unpee.                  []  ...   \n",
       "\n",
       "  author_cakeday  crosspost_parent_list  crosspost_parent  is_shitty  \\\n",
       "0            NaN                    NaN               NaN          1   \n",
       "1            NaN                    NaN               NaN          1   \n",
       "2           True                    NaN               NaN          1   \n",
       "\n",
       "                                      title_censored   pacific_st_created  \\\n",
       "0                    you can turn into a goose, once  2018-05-07 18:43:50   \n",
       "1  you can punch with half the strength of someon...  2018-05-07 21:42:12   \n",
       "2                                     you can unpee.  2018-06-17 17:35:10   \n",
       "\n",
       "                                        title_tokens  \\\n",
       "0  ['you', 'can', 'turn', 'into', 'a', 'goose', '...   \n",
       "1  ['you', 'can', 'punch', 'with', 'half', 'the',...   \n",
       "2                            ['you', 'can', 'unpee']   \n",
       "\n",
       "                                    title_tokens_str  \\\n",
       "0                     you can turn into a goose once   \n",
       "1  you can punch with half the strength of someon...   \n",
       "2                                      you can unpee   \n",
       "\n",
       "                                   title_tokens_lemm  \\\n",
       "0                     you can turn into a goose once   \n",
       "1  you can punch with half the strength of someon...   \n",
       "2                                      you can unpee   \n",
       "\n",
       "                                   title_tokens_stem  \n",
       "0                       you can turn into a goos onc  \n",
       "1  you can punch with half the strength of someon...  \n",
       "2                                       you can unpe  \n",
       "\n",
       "[3 rows x 114 columns]"
      ]
     },
     "execution_count": 132,
     "metadata": {},
     "output_type": "execute_result"
    }
   ],
   "source": [
    "sp_merged_weight.head(3)"
   ]
  },
  {
   "cell_type": "markdown",
   "metadata": {},
   "source": [
    "#### Split into Training and Unseen Test set"
   ]
  },
  {
   "cell_type": "code",
   "execution_count": 133,
   "metadata": {},
   "outputs": [
    {
     "data": {
      "text/plain": [
       "1956"
      ]
     },
     "execution_count": 133,
     "metadata": {},
     "output_type": "execute_result"
    }
   ],
   "source": [
    "len(sp_merged_weight)"
   ]
  },
  {
   "cell_type": "code",
   "execution_count": 134,
   "metadata": {},
   "outputs": [],
   "source": [
    "# let's set 80% as training set and 20% as test set\n",
    "\n",
    "# since we are predicting for newer posts and df has already been ordered by time\n",
    "# let's split test set by older 80% and newer 20%"
   ]
  },
  {
   "cell_type": "code",
   "execution_count": 135,
   "metadata": {
    "scrolled": true
   },
   "outputs": [
    {
     "name": "stdout",
     "output_type": "stream",
     "text": [
      "Training set shape: (1566, 114)\n",
      "Unseen test set shape: (390, 114)\n"
     ]
    }
   ],
   "source": [
    "# sp_merged already sorted by \"created\" date\n",
    "sp_merged_train = sp_merged_weight.iloc[:round(0.8*len(sp_merged))] # first 80% of data (older posts)\n",
    "print(\"Training set shape:\", sp_merged_train.shape)\n",
    "sp_merged_unseen = sp_merged_weight.iloc[round(0.8*len(sp_merged)):] # last 20% of data (newer posts)\n",
    "print(\"Unseen test set shape:\", sp_merged_unseen.shape)"
   ]
  },
  {
   "cell_type": "markdown",
   "metadata": {},
   "source": [
    "#### Cross-Validate Models for both Vectorizers"
   ]
  },
  {
   "cell_type": "code",
   "execution_count": 136,
   "metadata": {},
   "outputs": [],
   "source": [
    "# when attempting to cross-val using our custom function \"split_vect_score\",\n",
    "### we learned that the col of concatenated str is very computationally intensive\n",
    "# to troubleshoot\n",
    "### we shall create a separate matrix/dataframe just for the word features and weigh according to their respective upvotes"
   ]
  },
  {
   "cell_type": "code",
   "execution_count": 137,
   "metadata": {},
   "outputs": [
    {
     "data": {
      "text/plain": [
       "(1566, 114)"
      ]
     },
     "execution_count": 137,
     "metadata": {},
     "output_type": "execute_result"
    }
   ],
   "source": [
    "sp_merged_train.shape"
   ]
  },
  {
   "cell_type": "code",
   "execution_count": 138,
   "metadata": {},
   "outputs": [
    {
     "data": {
      "text/plain": [
       "0                            you can turn into a goos onc\n",
       "1       you can punch with half the strength of someon...\n",
       "2                                            you can unpe\n",
       "3       you are immun to clickbait but there are 10 do...\n",
       "4                              can we get thi kid on here\n",
       "                              ...                        \n",
       "1561    you automat learn everi word you hear even in ...\n",
       "1562    everytim you wash your hand the lab make a vac...\n",
       "1563    you can see the content of ani fridg without o...\n",
       "1564    think about exercis actual give you the benefi...\n",
       "1565    you may repair anyth you wish in a blink of an...\n",
       "Name: title_tokens_stem, Length: 1566, dtype: object"
      ]
     },
     "execution_count": 138,
     "metadata": {},
     "output_type": "execute_result"
    }
   ],
   "source": [
    "sp_merged_train[\"title_tokens_stem\"]"
   ]
  },
  {
   "cell_type": "code",
   "execution_count": 139,
   "metadata": {},
   "outputs": [],
   "source": [
    "# instantiate CountVectorizer\n",
    "cvec = CountVectorizer(stop_words=\"english\", max_features=None)"
   ]
  },
  {
   "cell_type": "code",
   "execution_count": 140,
   "metadata": {},
   "outputs": [
    {
     "data": {
      "text/plain": [
       "(1566, 2806)"
      ]
     },
     "execution_count": 140,
     "metadata": {},
     "output_type": "execute_result"
    }
   ],
   "source": [
    "X_cvec = cvec.fit_transform(sp_merged_train[\"title_tokens_stem\"])\n",
    "X_cvec.shape # 1566 rows of data (no. of posts in training set) and 2849 word features"
   ]
  },
  {
   "cell_type": "code",
   "execution_count": 141,
   "metadata": {},
   "outputs": [],
   "source": [
    "# instantiate TfidfVectorizer\n",
    "tvec = TfidfVectorizer(stop_words=\"english\", max_features=None)"
   ]
  },
  {
   "cell_type": "code",
   "execution_count": 142,
   "metadata": {},
   "outputs": [
    {
     "data": {
      "text/plain": [
       "(1566, 2806)"
      ]
     },
     "execution_count": 142,
     "metadata": {},
     "output_type": "execute_result"
    }
   ],
   "source": [
    "X_tvec = tvec.fit_transform(sp_merged_train[\"title_tokens_stem\"])\n",
    "X_tvec.shape # 1566 rows of data (no. of posts in training set) and 2849 word features"
   ]
  },
  {
   "cell_type": "code",
   "execution_count": 143,
   "metadata": {},
   "outputs": [
    {
     "name": "stdout",
     "output_type": "stream",
     "text": [
      "X_cvec is a <class 'scipy.sparse.csr.csr_matrix'>\n",
      "X_tvec is a <class 'scipy.sparse.csr.csr_matrix'>\n"
     ]
    }
   ],
   "source": [
    "# both are sparse matrices of word features\n",
    "print(\"X_cvec is a\", type(X_cvec))\n",
    "print(\"X_tvec is a\", type(X_tvec))"
   ]
  },
  {
   "cell_type": "code",
   "execution_count": 144,
   "metadata": {},
   "outputs": [
    {
     "data": {
      "text/plain": [
       "numpy.ndarray"
      ]
     },
     "execution_count": 144,
     "metadata": {},
     "output_type": "execute_result"
    }
   ],
   "source": [
    "# let's extract weights through no. of upvotes\n",
    "weights = sp_merged_train[\"ups\"].values\n",
    "type(weights)"
   ]
  },
  {
   "cell_type": "code",
   "execution_count": 145,
   "metadata": {},
   "outputs": [
    {
     "name": "stdout",
     "output_type": "stream",
     "text": [
      "X_cvec_weighted is a <class 'scipy.sparse.csr.csr_matrix'>\n",
      "X_tvec_weighted is a <class 'scipy.sparse.csr.csr_matrix'>\n"
     ]
    }
   ],
   "source": [
    "# to preserve sparsity of X\n",
    "\n",
    "W = sp.diags(weights) # produces a diagonal matrix using values from weights\n",
    "\n",
    "# dot product between X and W, multiply each row with corresponding weight/upvotes\n",
    "X_cvec_weighted = W.dot(X_cvec)\n",
    "X_tvec_weighted = W.dot(X_tvec)\n",
    "\n",
    "# ensure still a sparse matrix\n",
    "print(\"X_cvec_weighted is a\", type(X_cvec_weighted))\n",
    "print(\"X_tvec_weighted is a\", type(X_tvec_weighted))"
   ]
  },
  {
   "cell_type": "code",
   "execution_count": 146,
   "metadata": {},
   "outputs": [
    {
     "name": "stdout",
     "output_type": "stream",
     "text": [
      "X_cvec_weighted_df has a shape of (1566, 2806)\n",
      "X_tvec_weighted_df has a shape of (1566, 2806)\n"
     ]
    }
   ],
   "source": [
    "# let's save out the weighted matrix for easy recall subsequently if need be\n",
    "\n",
    "# convert cvec sparse matrix to df\n",
    "X_cvec_weighted_df = pd.DataFrame(X_cvec_weighted.toarray(), columns=cvec.get_feature_names())\n",
    "X_cvec_weighted_df.to_csv(\"../datasets/cvec_stemmed_weighted.csv\", index=False) # save out df\n",
    "print(\"X_cvec_weighted_df has a shape of\", X_cvec_weighted_df.shape) # verify shape of df is correct\n",
    "\n",
    "# convert tvec sparse matrix to df\n",
    "X_tvec_weighted_df = pd.DataFrame(X_tvec_weighted.toarray(), columns=cvec.get_feature_names())\n",
    "X_tvec_weighted_df.to_csv(\"../datasets/tvec_stemmed_weighted.csv\", index=False) # save out df\n",
    "print(\"X_tvec_weighted_df has a shape of\", X_tvec_weighted_df.shape) # verify shape of df is correct"
   ]
  },
  {
   "cell_type": "code",
   "execution_count": 147,
   "metadata": {},
   "outputs": [],
   "source": [
    "# let's cross validate both cvec and tvec word features\n",
    "\n",
    "# X features have already been created using the vectorizers\n",
    "target = \"is_shitty\"\n",
    "y_train = sp_merged_train[target]"
   ]
  },
  {
   "cell_type": "code",
   "execution_count": 148,
   "metadata": {},
   "outputs": [
    {
     "name": "stderr",
     "output_type": "stream",
     "text": [
      "C:\\Users\\yewto\\anaconda3\\lib\\site-packages\\sklearn\\linear_model\\_logistic.py:762: ConvergenceWarning: lbfgs failed to converge (status=1):\n",
      "STOP: TOTAL NO. of ITERATIONS REACHED LIMIT.\n",
      "\n",
      "Increase the number of iterations (max_iter) or scale the data as shown in:\n",
      "    https://scikit-learn.org/stable/modules/preprocessing.html\n",
      "Please also refer to the documentation for alternative solver options:\n",
      "    https://scikit-learn.org/stable/modules/linear_model.html#logistic-regression\n",
      "  n_iter_i = _check_optimize_result(\n",
      "C:\\Users\\yewto\\anaconda3\\lib\\site-packages\\sklearn\\linear_model\\_logistic.py:762: ConvergenceWarning: lbfgs failed to converge (status=1):\n",
      "STOP: TOTAL NO. of ITERATIONS REACHED LIMIT.\n",
      "\n",
      "Increase the number of iterations (max_iter) or scale the data as shown in:\n",
      "    https://scikit-learn.org/stable/modules/preprocessing.html\n",
      "Please also refer to the documentation for alternative solver options:\n",
      "    https://scikit-learn.org/stable/modules/linear_model.html#logistic-regression\n",
      "  n_iter_i = _check_optimize_result(\n",
      "C:\\Users\\yewto\\anaconda3\\lib\\site-packages\\sklearn\\linear_model\\_logistic.py:762: ConvergenceWarning: lbfgs failed to converge (status=1):\n",
      "STOP: TOTAL NO. of ITERATIONS REACHED LIMIT.\n",
      "\n",
      "Increase the number of iterations (max_iter) or scale the data as shown in:\n",
      "    https://scikit-learn.org/stable/modules/preprocessing.html\n",
      "Please also refer to the documentation for alternative solver options:\n",
      "    https://scikit-learn.org/stable/modules/linear_model.html#logistic-regression\n",
      "  n_iter_i = _check_optimize_result(\n",
      "C:\\Users\\yewto\\anaconda3\\lib\\site-packages\\sklearn\\linear_model\\_logistic.py:762: ConvergenceWarning: lbfgs failed to converge (status=1):\n",
      "STOP: TOTAL NO. of ITERATIONS REACHED LIMIT.\n",
      "\n",
      "Increase the number of iterations (max_iter) or scale the data as shown in:\n",
      "    https://scikit-learn.org/stable/modules/preprocessing.html\n",
      "Please also refer to the documentation for alternative solver options:\n",
      "    https://scikit-learn.org/stable/modules/linear_model.html#logistic-regression\n",
      "  n_iter_i = _check_optimize_result(\n"
     ]
    },
    {
     "name": "stdout",
     "output_type": "stream",
     "text": [
      "CV score for Logistic Regression: 0.589\n",
      "CV score for k-Nearest Neighbours: 0.53\n",
      "CV score for Multinomial NB: 0.611\n"
     ]
    }
   ],
   "source": [
    "# cross-validate cvec\n",
    "cross_val_classifiers(X_cvec_weighted, y_train, cv=4)"
   ]
  },
  {
   "cell_type": "code",
   "execution_count": 149,
   "metadata": {},
   "outputs": [],
   "source": [
    "# best score for CountVectorizer is achieved with MultinomialNB at 0.611"
   ]
  },
  {
   "cell_type": "code",
   "execution_count": 150,
   "metadata": {},
   "outputs": [
    {
     "name": "stderr",
     "output_type": "stream",
     "text": [
      "C:\\Users\\yewto\\anaconda3\\lib\\site-packages\\sklearn\\linear_model\\_logistic.py:762: ConvergenceWarning: lbfgs failed to converge (status=1):\n",
      "STOP: TOTAL NO. of ITERATIONS REACHED LIMIT.\n",
      "\n",
      "Increase the number of iterations (max_iter) or scale the data as shown in:\n",
      "    https://scikit-learn.org/stable/modules/preprocessing.html\n",
      "Please also refer to the documentation for alternative solver options:\n",
      "    https://scikit-learn.org/stable/modules/linear_model.html#logistic-regression\n",
      "  n_iter_i = _check_optimize_result(\n",
      "C:\\Users\\yewto\\anaconda3\\lib\\site-packages\\sklearn\\linear_model\\_logistic.py:762: ConvergenceWarning: lbfgs failed to converge (status=1):\n",
      "STOP: TOTAL NO. of ITERATIONS REACHED LIMIT.\n",
      "\n",
      "Increase the number of iterations (max_iter) or scale the data as shown in:\n",
      "    https://scikit-learn.org/stable/modules/preprocessing.html\n",
      "Please also refer to the documentation for alternative solver options:\n",
      "    https://scikit-learn.org/stable/modules/linear_model.html#logistic-regression\n",
      "  n_iter_i = _check_optimize_result(\n",
      "C:\\Users\\yewto\\anaconda3\\lib\\site-packages\\sklearn\\linear_model\\_logistic.py:762: ConvergenceWarning: lbfgs failed to converge (status=1):\n",
      "STOP: TOTAL NO. of ITERATIONS REACHED LIMIT.\n",
      "\n",
      "Increase the number of iterations (max_iter) or scale the data as shown in:\n",
      "    https://scikit-learn.org/stable/modules/preprocessing.html\n",
      "Please also refer to the documentation for alternative solver options:\n",
      "    https://scikit-learn.org/stable/modules/linear_model.html#logistic-regression\n",
      "  n_iter_i = _check_optimize_result(\n",
      "C:\\Users\\yewto\\anaconda3\\lib\\site-packages\\sklearn\\linear_model\\_logistic.py:762: ConvergenceWarning: lbfgs failed to converge (status=1):\n",
      "STOP: TOTAL NO. of ITERATIONS REACHED LIMIT.\n",
      "\n",
      "Increase the number of iterations (max_iter) or scale the data as shown in:\n",
      "    https://scikit-learn.org/stable/modules/preprocessing.html\n",
      "Please also refer to the documentation for alternative solver options:\n",
      "    https://scikit-learn.org/stable/modules/linear_model.html#logistic-regression\n",
      "  n_iter_i = _check_optimize_result(\n"
     ]
    },
    {
     "name": "stdout",
     "output_type": "stream",
     "text": [
      "CV score for Logistic Regression: 0.596\n",
      "CV score for k-Nearest Neighbours: 0.508\n",
      "CV score for Multinomial NB: 0.609\n"
     ]
    }
   ],
   "source": [
    "# cross-validate tvec\n",
    "cross_val_classifiers(X_tvec_weighted, y_train, cv=4)"
   ]
  },
  {
   "cell_type": "code",
   "execution_count": 151,
   "metadata": {},
   "outputs": [],
   "source": [
    "# best score for TfidfVectorizer is achieved with Multinomial NB at 0.609"
   ]
  },
  {
   "cell_type": "markdown",
   "metadata": {},
   "source": [
    "#### Model with 1000 features"
   ]
  },
  {
   "cell_type": "code",
   "execution_count": 152,
   "metadata": {},
   "outputs": [],
   "source": [
    "# from above cross_val_score\n",
    "### modelling with weighted word tokens from posts,\n",
    "### fitting MultinomialNB onto a CountVectorizer matrix performed the best (but only marginally)\n",
    "\n",
    "# let's build our model with hyper params tested in Model 02 to test generalisations"
   ]
  },
  {
   "cell_type": "code",
   "execution_count": 153,
   "metadata": {},
   "outputs": [],
   "source": [
    "features = [\"title_tokens_stem\", \"ups\"] # extract for stemmed tokens first; extract \"ups\" too to add weightage with\n",
    "X = sp_merged_train[features]\n",
    "y = sp_merged_train[\"is_shitty\"]"
   ]
  },
  {
   "cell_type": "code",
   "execution_count": 154,
   "metadata": {},
   "outputs": [],
   "source": [
    "# train-test split on training set\n",
    "X_train, X_test, y_train, y_test = train_test_split(X, y, random_state=42, shuffle=False)"
   ]
  },
  {
   "cell_type": "code",
   "execution_count": 155,
   "metadata": {},
   "outputs": [],
   "source": [
    "# instantiate CountVectorizer using hyper params from Model 02\n",
    "cvec = CountVectorizer(stop_words=\"english\",\n",
    "                       max_df=0.9,\n",
    "                       min_df=2,\n",
    "                       max_features=1000, # limit selected features to 1000\n",
    "                       ngram_range=(1,2))"
   ]
  },
  {
   "cell_type": "code",
   "execution_count": 156,
   "metadata": {},
   "outputs": [],
   "source": [
    "# fit and transform vectorizer\n",
    "X_train_cvec = cvec.fit_transform(X_train[\"title_tokens_stem\"])\n",
    "X_test_cvec = cvec.transform(X_test[\"title_tokens_stem\"])"
   ]
  },
  {
   "cell_type": "code",
   "execution_count": 157,
   "metadata": {},
   "outputs": [
    {
     "name": "stdout",
     "output_type": "stream",
     "text": [
      "X_train_weighted is a <class 'scipy.sparse.csr.csr_matrix'>\n",
      "X_test_weighted is a <class 'scipy.sparse.csr.csr_matrix'>\n"
     ]
    }
   ],
   "source": [
    "# to preserve sparsity of X\n",
    "\n",
    "# create diagonal matrix using values from \"ups\" as weights\n",
    "weights_train = X_train[\"ups\"]\n",
    "W_train = sp.diags(weights_train.values)\n",
    "weights_test = X_test[\"ups\"]\n",
    "W_test = sp.diags(weights_test.values)\n",
    "\n",
    "# dot product between X and W, multiply each row with corresponding weight/upvotes\n",
    "X_train_weighted = W_train.dot(X_train_cvec)\n",
    "X_test_weighted = W_test.dot(X_test_cvec)\n",
    "\n",
    "# ensure still a sparse matrix\n",
    "print(\"X_train_weighted is a\", type(X_train_weighted))\n",
    "print(\"X_test_weighted is a\", type(X_test_weighted))"
   ]
  },
  {
   "cell_type": "code",
   "execution_count": 158,
   "metadata": {},
   "outputs": [
    {
     "name": "stdout",
     "output_type": "stream",
     "text": [
      "alpha = 10.0\n",
      "Model scored on training set: 0.802\n",
      "Model scored on test set: 0.612\n",
      "There is a score gap between training and test sets of 0.19\n",
      "\n",
      "alpha = 30.416666666666668\n",
      "Model scored on training set: 0.802\n",
      "Model scored on test set: 0.612\n",
      "There is a score gap between training and test sets of 0.19\n",
      "\n",
      "alpha = 50.833333333333336\n",
      "Model scored on training set: 0.802\n",
      "Model scored on test set: 0.612\n",
      "There is a score gap between training and test sets of 0.19\n",
      "\n",
      "alpha = 71.25\n",
      "Model scored on training set: 0.802\n",
      "Model scored on test set: 0.612\n",
      "There is a score gap between training and test sets of 0.19\n",
      "\n",
      "alpha = 91.66666666666667\n",
      "Model scored on training set: 0.802\n",
      "Model scored on test set: 0.615\n",
      "There is a score gap between training and test sets of 0.188\n",
      "\n",
      "alpha = 112.08333333333334\n",
      "Model scored on training set: 0.802\n",
      "Model scored on test set: 0.615\n",
      "There is a score gap between training and test sets of 0.188\n",
      "\n",
      "alpha = 132.5\n",
      "Model scored on training set: 0.802\n",
      "Model scored on test set: 0.615\n",
      "There is a score gap between training and test sets of 0.188\n",
      "\n",
      "alpha = 152.91666666666669\n",
      "Model scored on training set: 0.802\n",
      "Model scored on test set: 0.615\n",
      "There is a score gap between training and test sets of 0.188\n",
      "\n",
      "alpha = 173.33333333333334\n",
      "Model scored on training set: 0.802\n",
      "Model scored on test set: 0.615\n",
      "There is a score gap between training and test sets of 0.188\n",
      "\n",
      "alpha = 193.75\n",
      "Model scored on training set: 0.802\n",
      "Model scored on test set: 0.615\n",
      "There is a score gap between training and test sets of 0.187\n",
      "\n",
      "alpha = 214.16666666666669\n",
      "Model scored on training set: 0.802\n",
      "Model scored on test set: 0.615\n",
      "There is a score gap between training and test sets of 0.187\n",
      "\n",
      "alpha = 234.58333333333334\n",
      "Model scored on training set: 0.802\n",
      "Model scored on test set: 0.615\n",
      "There is a score gap between training and test sets of 0.187\n",
      "\n",
      "alpha = 255.0\n",
      "Model scored on training set: 0.802\n",
      "Model scored on test set: 0.615\n",
      "There is a score gap between training and test sets of 0.187\n",
      "\n",
      "alpha = 275.4166666666667\n",
      "Model scored on training set: 0.802\n",
      "Model scored on test set: 0.615\n",
      "There is a score gap between training and test sets of 0.187\n",
      "\n",
      "alpha = 295.83333333333337\n",
      "Model scored on training set: 0.802\n",
      "Model scored on test set: 0.615\n",
      "There is a score gap between training and test sets of 0.187\n",
      "\n",
      "alpha = 316.25\n",
      "Model scored on training set: 0.802\n",
      "Model scored on test set: 0.615\n",
      "There is a score gap between training and test sets of 0.187\n",
      "\n",
      "alpha = 336.6666666666667\n",
      "Model scored on training set: 0.802\n",
      "Model scored on test set: 0.615\n",
      "There is a score gap between training and test sets of 0.187\n",
      "\n",
      "alpha = 357.08333333333337\n",
      "Model scored on training set: 0.801\n",
      "Model scored on test set: 0.615\n",
      "There is a score gap between training and test sets of 0.186\n",
      "\n",
      "alpha = 377.5\n",
      "Model scored on training set: 0.801\n",
      "Model scored on test set: 0.615\n",
      "There is a score gap between training and test sets of 0.186\n",
      "\n",
      "alpha = 397.9166666666667\n",
      "Model scored on training set: 0.801\n",
      "Model scored on test set: 0.615\n",
      "There is a score gap between training and test sets of 0.186\n",
      "\n",
      "alpha = 418.33333333333337\n",
      "Model scored on training set: 0.801\n",
      "Model scored on test set: 0.615\n",
      "There is a score gap between training and test sets of 0.186\n",
      "\n",
      "alpha = 438.75\n",
      "Model scored on training set: 0.801\n",
      "Model scored on test set: 0.615\n",
      "There is a score gap between training and test sets of 0.186\n",
      "\n",
      "alpha = 459.1666666666667\n",
      "Model scored on training set: 0.801\n",
      "Model scored on test set: 0.615\n",
      "There is a score gap between training and test sets of 0.186\n",
      "\n",
      "alpha = 479.58333333333337\n",
      "Model scored on training set: 0.801\n",
      "Model scored on test set: 0.615\n",
      "There is a score gap between training and test sets of 0.186\n",
      "\n",
      "alpha = 500.0\n",
      "Model scored on training set: 0.801\n",
      "Model scored on test set: 0.617\n",
      "There is a score gap between training and test sets of 0.183\n",
      "\n"
     ]
    }
   ],
   "source": [
    "# create for loop to find best alpha for cvec with 1000 word features\n",
    "\n",
    "for a in np.linspace(10, 500, 25): # provide range of alphas\n",
    "    \n",
    "    print(\"alpha =\", a)\n",
    "    # instantiate MultinomialNB, then fit to model\n",
    "    mnd = MultinomialNB(alpha=a)\n",
    "    mnd.fit(X_train_weighted, y_train)\n",
    "    \n",
    "    # score models\n",
    "    train_score = mnd.score(X_train_cvec, y_train)\n",
    "    test_score = mnd.score(X_test_cvec, y_test)\n",
    "    print(\"Model scored on training set:\", round(train_score, 3))\n",
    "    print(\"Model scored on test set:\", round(test_score, 3))\n",
    "    print(\"There is a score gap between training and test sets of\", round((train_score-test_score), 3))\n",
    "    print()"
   ]
  },
  {
   "cell_type": "code",
   "execution_count": 159,
   "metadata": {},
   "outputs": [],
   "source": [
    "# we can notice from the results above that as alpha increases\n",
    "### score gap decreases to a lowest of 0.193 and generalisation improves (to a certain point)\n",
    "### training score drops while test score improves\n",
    "\n",
    "# we can see that the improvement in model plateaus after alpha hits 336.67\n",
    "# best score gap of 0.183 achieved when alpha = 500\n",
    "### Model scored on training set: 0.801\n",
    "### Model scored on test set: 0.617"
   ]
  },
  {
   "cell_type": "markdown",
   "metadata": {},
   "source": [
    "#### Model with 500 features"
   ]
  },
  {
   "cell_type": "code",
   "execution_count": 160,
   "metadata": {},
   "outputs": [],
   "source": [
    "# instantiate CountVectorizer using hyper params from Model 02\n",
    "cvec = CountVectorizer(stop_words=\"english\",\n",
    "                       max_df=0.9,\n",
    "                       min_df=2,\n",
    "                       max_features=500, # limit selected features to 500\n",
    "                       ngram_range=(1,2))"
   ]
  },
  {
   "cell_type": "code",
   "execution_count": 161,
   "metadata": {},
   "outputs": [],
   "source": [
    "# fit and transform vectorizer\n",
    "X_train_cvec = cvec.fit_transform(X_train[\"title_tokens_stem\"])\n",
    "X_test_cvec = cvec.transform(X_test[\"title_tokens_stem\"])"
   ]
  },
  {
   "cell_type": "code",
   "execution_count": 162,
   "metadata": {},
   "outputs": [
    {
     "name": "stdout",
     "output_type": "stream",
     "text": [
      "X_train_weighted is a <class 'scipy.sparse.csr.csr_matrix'>\n",
      "X_test_weighted is a <class 'scipy.sparse.csr.csr_matrix'>\n"
     ]
    }
   ],
   "source": [
    "# to preserve sparsity of X\n",
    "\n",
    "# create diagonal matrix using values from \"ups\" as weights\n",
    "weights_train = X_train[\"ups\"]\n",
    "W_train = sp.diags(weights_train.values)\n",
    "weights_test = X_test[\"ups\"]\n",
    "W_test = sp.diags(weights_test.values)\n",
    "\n",
    "# dot product between X and W, multiply each row with corresponding weight/upvotes\n",
    "X_train_weighted = W_train.dot(X_train_cvec)\n",
    "X_test_weighted = W_test.dot(X_test_cvec)\n",
    "\n",
    "# ensure still a sparse matrix\n",
    "print(\"X_train_weighted is a\", type(X_train_weighted))\n",
    "print(\"X_test_weighted is a\", type(X_test_weighted))"
   ]
  },
  {
   "cell_type": "code",
   "execution_count": 163,
   "metadata": {},
   "outputs": [
    {
     "name": "stdout",
     "output_type": "stream",
     "text": [
      "alpha = 10.0\n",
      "Model scored on training set: 0.759\n",
      "Model scored on test set: 0.62\n",
      "There is a score gap between training and test sets of 0.139\n",
      "\n",
      "alpha = 30.416666666666668\n",
      "Model scored on training set: 0.759\n",
      "Model scored on test set: 0.62\n",
      "There is a score gap between training and test sets of 0.139\n",
      "\n",
      "alpha = 50.833333333333336\n",
      "Model scored on training set: 0.758\n",
      "Model scored on test set: 0.62\n",
      "There is a score gap between training and test sets of 0.138\n",
      "\n",
      "alpha = 71.25\n",
      "Model scored on training set: 0.758\n",
      "Model scored on test set: 0.622\n",
      "There is a score gap between training and test sets of 0.136\n",
      "\n",
      "alpha = 91.66666666666667\n",
      "Model scored on training set: 0.758\n",
      "Model scored on test set: 0.622\n",
      "There is a score gap between training and test sets of 0.136\n",
      "\n",
      "alpha = 112.08333333333334\n",
      "Model scored on training set: 0.758\n",
      "Model scored on test set: 0.622\n",
      "There is a score gap between training and test sets of 0.136\n",
      "\n",
      "alpha = 132.5\n",
      "Model scored on training set: 0.758\n",
      "Model scored on test set: 0.622\n",
      "There is a score gap between training and test sets of 0.136\n",
      "\n",
      "alpha = 152.91666666666669\n",
      "Model scored on training set: 0.758\n",
      "Model scored on test set: 0.622\n",
      "There is a score gap between training and test sets of 0.136\n",
      "\n",
      "alpha = 173.33333333333334\n",
      "Model scored on training set: 0.758\n",
      "Model scored on test set: 0.622\n",
      "There is a score gap between training and test sets of 0.136\n",
      "\n",
      "alpha = 193.75\n",
      "Model scored on training set: 0.758\n",
      "Model scored on test set: 0.622\n",
      "There is a score gap between training and test sets of 0.136\n",
      "\n",
      "alpha = 214.16666666666669\n",
      "Model scored on training set: 0.758\n",
      "Model scored on test set: 0.622\n",
      "There is a score gap between training and test sets of 0.136\n",
      "\n",
      "alpha = 234.58333333333334\n",
      "Model scored on training set: 0.758\n",
      "Model scored on test set: 0.625\n",
      "There is a score gap between training and test sets of 0.133\n",
      "\n",
      "alpha = 255.0\n",
      "Model scored on training set: 0.758\n",
      "Model scored on test set: 0.625\n",
      "There is a score gap between training and test sets of 0.133\n",
      "\n",
      "alpha = 275.4166666666667\n",
      "Model scored on training set: 0.758\n",
      "Model scored on test set: 0.625\n",
      "There is a score gap between training and test sets of 0.133\n",
      "\n",
      "alpha = 295.83333333333337\n",
      "Model scored on training set: 0.758\n",
      "Model scored on test set: 0.625\n",
      "There is a score gap between training and test sets of 0.133\n",
      "\n",
      "alpha = 316.25\n",
      "Model scored on training set: 0.758\n",
      "Model scored on test set: 0.625\n",
      "There is a score gap between training and test sets of 0.133\n",
      "\n",
      "alpha = 336.6666666666667\n",
      "Model scored on training set: 0.758\n",
      "Model scored on test set: 0.625\n",
      "There is a score gap between training and test sets of 0.133\n",
      "\n",
      "alpha = 357.08333333333337\n",
      "Model scored on training set: 0.758\n",
      "Model scored on test set: 0.625\n",
      "There is a score gap between training and test sets of 0.133\n",
      "\n",
      "alpha = 377.5\n",
      "Model scored on training set: 0.758\n",
      "Model scored on test set: 0.625\n",
      "There is a score gap between training and test sets of 0.133\n",
      "\n",
      "alpha = 397.9166666666667\n",
      "Model scored on training set: 0.759\n",
      "Model scored on test set: 0.625\n",
      "There is a score gap between training and test sets of 0.134\n",
      "\n",
      "alpha = 418.33333333333337\n",
      "Model scored on training set: 0.759\n",
      "Model scored on test set: 0.625\n",
      "There is a score gap between training and test sets of 0.134\n",
      "\n",
      "alpha = 438.75\n",
      "Model scored on training set: 0.759\n",
      "Model scored on test set: 0.625\n",
      "There is a score gap between training and test sets of 0.134\n",
      "\n",
      "alpha = 459.1666666666667\n",
      "Model scored on training set: 0.759\n",
      "Model scored on test set: 0.625\n",
      "There is a score gap between training and test sets of 0.134\n",
      "\n",
      "alpha = 479.58333333333337\n",
      "Model scored on training set: 0.759\n",
      "Model scored on test set: 0.625\n",
      "There is a score gap between training and test sets of 0.134\n",
      "\n",
      "alpha = 500.0\n",
      "Model scored on training set: 0.759\n",
      "Model scored on test set: 0.625\n",
      "There is a score gap between training and test sets of 0.134\n",
      "\n"
     ]
    }
   ],
   "source": [
    "# create for loop to find best alpha for cvec with 500 word features\n",
    "\n",
    "for a in np.linspace(10, 500, 25): # provide range of alphas\n",
    "    \n",
    "    print(\"alpha =\", a)\n",
    "    # instantiate MultinomialNB, then fit to model\n",
    "    mnd = MultinomialNB(alpha=a)\n",
    "    mnd.fit(X_train_weighted, y_train)\n",
    "    \n",
    "    # score models\n",
    "    train_score = mnd.score(X_train_cvec, y_train)\n",
    "    test_score = mnd.score(X_test_cvec, y_test)\n",
    "    print(\"Model scored on training set:\", round(train_score, 3))\n",
    "    print(\"Model scored on test set:\", round(test_score, 3))\n",
    "    print(\"There is a score gap between training and test sets of\", round((train_score-test_score), 3))\n",
    "    print()"
   ]
  },
  {
   "cell_type": "code",
   "execution_count": 164,
   "metadata": {},
   "outputs": [],
   "source": [
    "# limited to 500 word features, the improvement in model is very slight as alpha increases\n",
    "# the best score gap attained is at 0.133 with alphas in the range of 235 to 377\n",
    "### Model scored on training set: 0.758\n",
    "### Model scored on test set: 0.625"
   ]
  },
  {
   "cell_type": "markdown",
   "metadata": {},
   "source": [
    "#### Model with 250 features"
   ]
  },
  {
   "cell_type": "code",
   "execution_count": 165,
   "metadata": {},
   "outputs": [],
   "source": [
    "# instantiate CountVectorizer using hyper params from Model 02\n",
    "cvec = CountVectorizer(stop_words=\"english\",\n",
    "                       max_df=0.9,\n",
    "                       min_df=2,\n",
    "                       max_features=250, # limit selected features to 250\n",
    "                       ngram_range=(1,2))"
   ]
  },
  {
   "cell_type": "code",
   "execution_count": 166,
   "metadata": {},
   "outputs": [],
   "source": [
    "# fit and transform vectorizer\n",
    "X_train_cvec = cvec.fit_transform(X_train[\"title_tokens_stem\"])\n",
    "X_test_cvec = cvec.transform(X_test[\"title_tokens_stem\"])"
   ]
  },
  {
   "cell_type": "code",
   "execution_count": 167,
   "metadata": {},
   "outputs": [
    {
     "name": "stdout",
     "output_type": "stream",
     "text": [
      "X_train_weighted is a <class 'scipy.sparse.csr.csr_matrix'>\n",
      "X_test_weighted is a <class 'scipy.sparse.csr.csr_matrix'>\n"
     ]
    }
   ],
   "source": [
    "# to preserve sparsity of X\n",
    "\n",
    "# create diagonal matrix using values from \"ups\" as weights\n",
    "weights_train = X_train[\"ups\"]\n",
    "W_train = sp.diags(weights_train.values)\n",
    "weights_test = X_test[\"ups\"]\n",
    "W_test = sp.diags(weights_test.values)\n",
    "\n",
    "# dot product between X and W, multiply each row with corresponding weight/upvotes\n",
    "X_train_weighted = W_train.dot(X_train_cvec)\n",
    "X_test_weighted = W_test.dot(X_test_cvec)\n",
    "\n",
    "# ensure still a sparse matrix\n",
    "print(\"X_train_weighted is a\", type(X_train_weighted))\n",
    "print(\"X_test_weighted is a\", type(X_test_weighted))"
   ]
  },
  {
   "cell_type": "code",
   "execution_count": 168,
   "metadata": {},
   "outputs": [
    {
     "name": "stdout",
     "output_type": "stream",
     "text": [
      "alpha = 10.0\n",
      "Model scored on training set: 0.714\n",
      "Model scored on test set: 0.645\n",
      "There is a score gap between training and test sets of 0.068\n",
      "\n",
      "alpha = 30.416666666666668\n",
      "Model scored on training set: 0.714\n",
      "Model scored on test set: 0.645\n",
      "There is a score gap between training and test sets of 0.068\n",
      "\n",
      "alpha = 50.833333333333336\n",
      "Model scored on training set: 0.714\n",
      "Model scored on test set: 0.645\n",
      "There is a score gap between training and test sets of 0.068\n",
      "\n",
      "alpha = 71.25\n",
      "Model scored on training set: 0.714\n",
      "Model scored on test set: 0.645\n",
      "There is a score gap between training and test sets of 0.068\n",
      "\n",
      "alpha = 91.66666666666667\n",
      "Model scored on training set: 0.714\n",
      "Model scored on test set: 0.648\n",
      "There is a score gap between training and test sets of 0.066\n",
      "\n",
      "alpha = 112.08333333333334\n",
      "Model scored on training set: 0.714\n",
      "Model scored on test set: 0.648\n",
      "There is a score gap between training and test sets of 0.066\n",
      "\n",
      "alpha = 132.5\n",
      "Model scored on training set: 0.714\n",
      "Model scored on test set: 0.648\n",
      "There is a score gap between training and test sets of 0.066\n",
      "\n",
      "alpha = 152.91666666666669\n",
      "Model scored on training set: 0.714\n",
      "Model scored on test set: 0.648\n",
      "There is a score gap between training and test sets of 0.066\n",
      "\n",
      "alpha = 173.33333333333334\n",
      "Model scored on training set: 0.714\n",
      "Model scored on test set: 0.648\n",
      "There is a score gap between training and test sets of 0.066\n",
      "\n",
      "alpha = 193.75\n",
      "Model scored on training set: 0.714\n",
      "Model scored on test set: 0.648\n",
      "There is a score gap between training and test sets of 0.066\n",
      "\n",
      "alpha = 214.16666666666669\n",
      "Model scored on training set: 0.714\n",
      "Model scored on test set: 0.651\n",
      "There is a score gap between training and test sets of 0.063\n",
      "\n",
      "alpha = 234.58333333333334\n",
      "Model scored on training set: 0.714\n",
      "Model scored on test set: 0.651\n",
      "There is a score gap between training and test sets of 0.063\n",
      "\n",
      "alpha = 255.0\n",
      "Model scored on training set: 0.714\n",
      "Model scored on test set: 0.651\n",
      "There is a score gap between training and test sets of 0.063\n",
      "\n",
      "alpha = 275.4166666666667\n",
      "Model scored on training set: 0.714\n",
      "Model scored on test set: 0.651\n",
      "There is a score gap between training and test sets of 0.063\n",
      "\n",
      "alpha = 295.83333333333337\n",
      "Model scored on training set: 0.714\n",
      "Model scored on test set: 0.651\n",
      "There is a score gap between training and test sets of 0.063\n",
      "\n",
      "alpha = 316.25\n",
      "Model scored on training set: 0.714\n",
      "Model scored on test set: 0.651\n",
      "There is a score gap between training and test sets of 0.063\n",
      "\n",
      "alpha = 336.6666666666667\n",
      "Model scored on training set: 0.714\n",
      "Model scored on test set: 0.651\n",
      "There is a score gap between training and test sets of 0.063\n",
      "\n",
      "alpha = 357.08333333333337\n",
      "Model scored on training set: 0.714\n",
      "Model scored on test set: 0.651\n",
      "There is a score gap between training and test sets of 0.063\n",
      "\n",
      "alpha = 377.5\n",
      "Model scored on training set: 0.714\n",
      "Model scored on test set: 0.651\n",
      "There is a score gap between training and test sets of 0.063\n",
      "\n",
      "alpha = 397.9166666666667\n",
      "Model scored on training set: 0.714\n",
      "Model scored on test set: 0.651\n",
      "There is a score gap between training and test sets of 0.063\n",
      "\n",
      "alpha = 418.33333333333337\n",
      "Model scored on training set: 0.714\n",
      "Model scored on test set: 0.651\n",
      "There is a score gap between training and test sets of 0.063\n",
      "\n",
      "alpha = 438.75\n",
      "Model scored on training set: 0.714\n",
      "Model scored on test set: 0.651\n",
      "There is a score gap between training and test sets of 0.063\n",
      "\n",
      "alpha = 459.1666666666667\n",
      "Model scored on training set: 0.714\n",
      "Model scored on test set: 0.651\n",
      "There is a score gap between training and test sets of 0.063\n",
      "\n",
      "alpha = 479.58333333333337\n",
      "Model scored on training set: 0.714\n",
      "Model scored on test set: 0.651\n",
      "There is a score gap between training and test sets of 0.063\n",
      "\n",
      "alpha = 500.0\n",
      "Model scored on training set: 0.714\n",
      "Model scored on test set: 0.651\n",
      "There is a score gap between training and test sets of 0.063\n",
      "\n"
     ]
    }
   ],
   "source": [
    "# create for loop to find best alpha for cvec with 250 word features\n",
    "\n",
    "for a in np.linspace(10, 500, 25): # provide range of alphas\n",
    "    \n",
    "    print(\"alpha =\", a)\n",
    "    # instantiate MultinomialNB, then fit to model\n",
    "    mnd = MultinomialNB(alpha=a)\n",
    "    mnd.fit(X_train_weighted, y_train)\n",
    "    \n",
    "    # score models\n",
    "    train_score = mnd.score(X_train_cvec, y_train)\n",
    "    test_score = mnd.score(X_test_cvec, y_test)\n",
    "    print(\"Model scored on training set:\", round(train_score, 3))\n",
    "    print(\"Model scored on test set:\", round(test_score, 3))\n",
    "    print(\"There is a score gap between training and test sets of\", round((train_score-test_score), 3))\n",
    "    print()"
   ]
  },
  {
   "cell_type": "code",
   "execution_count": 169,
   "metadata": {},
   "outputs": [],
   "source": [
    "# limited to 250 word features, the improvement in model is slight as alpha increases\n",
    "# the best score gap was first attained at 0.063 when alpha hit 215\n",
    "### Model scored on training set: 0.714\n",
    "### Model scored on test set: 0.651"
   ]
  },
  {
   "cell_type": "code",
   "execution_count": 170,
   "metadata": {},
   "outputs": [],
   "source": [
    "# as we can observe, the model generalised better and better as we reduced the number of word features\n",
    "# test set accuracy also improved as score gap closes"
   ]
  },
  {
   "cell_type": "markdown",
   "metadata": {},
   "source": [
    "#### Model 03: Weighted Posts + CountVectorizer + MultinomialNB"
   ]
  },
  {
   "cell_type": "code",
   "execution_count": 171,
   "metadata": {
    "scrolled": true
   },
   "outputs": [
    {
     "data": {
      "text/html": [
       "<div>\n",
       "<style scoped>\n",
       "    .dataframe tbody tr th:only-of-type {\n",
       "        vertical-align: middle;\n",
       "    }\n",
       "\n",
       "    .dataframe tbody tr th {\n",
       "        vertical-align: top;\n",
       "    }\n",
       "\n",
       "    .dataframe thead th {\n",
       "        text-align: right;\n",
       "    }\n",
       "</style>\n",
       "<table border=\"1\" class=\"dataframe\">\n",
       "  <thead>\n",
       "    <tr style=\"text-align: right;\">\n",
       "      <th></th>\n",
       "      <th>approved_at_utc</th>\n",
       "      <th>subreddit</th>\n",
       "      <th>selftext</th>\n",
       "      <th>author_fullname</th>\n",
       "      <th>saved</th>\n",
       "      <th>mod_reason_title</th>\n",
       "      <th>gilded</th>\n",
       "      <th>clicked</th>\n",
       "      <th>title</th>\n",
       "      <th>link_flair_richtext</th>\n",
       "      <th>...</th>\n",
       "      <th>author_cakeday</th>\n",
       "      <th>crosspost_parent_list</th>\n",
       "      <th>crosspost_parent</th>\n",
       "      <th>is_shitty</th>\n",
       "      <th>title_censored</th>\n",
       "      <th>pacific_st_created</th>\n",
       "      <th>title_tokens</th>\n",
       "      <th>title_tokens_str</th>\n",
       "      <th>title_tokens_lemm</th>\n",
       "      <th>title_tokens_stem</th>\n",
       "    </tr>\n",
       "  </thead>\n",
       "  <tbody>\n",
       "    <tr>\n",
       "      <th>0</th>\n",
       "      <td>NaN</td>\n",
       "      <td>shittysuperpowers</td>\n",
       "      <td>you can't turn back</td>\n",
       "      <td>t2_76n67</td>\n",
       "      <td>False</td>\n",
       "      <td>NaN</td>\n",
       "      <td>0</td>\n",
       "      <td>False</td>\n",
       "      <td>you can turn into a goose, once</td>\n",
       "      <td>[]</td>\n",
       "      <td>...</td>\n",
       "      <td>NaN</td>\n",
       "      <td>NaN</td>\n",
       "      <td>NaN</td>\n",
       "      <td>1</td>\n",
       "      <td>you can turn into a goose, once</td>\n",
       "      <td>2018-05-07 18:43:50</td>\n",
       "      <td>['you', 'can', 'turn', 'into', 'a', 'goose', '...</td>\n",
       "      <td>you can turn into a goose once</td>\n",
       "      <td>you can turn into a goose once</td>\n",
       "      <td>you can turn into a goos onc</td>\n",
       "    </tr>\n",
       "    <tr>\n",
       "      <th>1</th>\n",
       "      <td>NaN</td>\n",
       "      <td>shittysuperpowers</td>\n",
       "      <td>NaN</td>\n",
       "      <td>t2_66d4bkr</td>\n",
       "      <td>False</td>\n",
       "      <td>NaN</td>\n",
       "      <td>0</td>\n",
       "      <td>False</td>\n",
       "      <td>You can punch with half the strength of someon...</td>\n",
       "      <td>[]</td>\n",
       "      <td>...</td>\n",
       "      <td>NaN</td>\n",
       "      <td>NaN</td>\n",
       "      <td>NaN</td>\n",
       "      <td>1</td>\n",
       "      <td>you can punch with half the strength of someon...</td>\n",
       "      <td>2018-05-07 21:42:12</td>\n",
       "      <td>['you', 'can', 'punch', 'with', 'half', 'the',...</td>\n",
       "      <td>you can punch with half the strength of someon...</td>\n",
       "      <td>you can punch with half the strength of someon...</td>\n",
       "      <td>you can punch with half the strength of someon...</td>\n",
       "    </tr>\n",
       "    <tr>\n",
       "      <th>2</th>\n",
       "      <td>NaN</td>\n",
       "      <td>shittysuperpowers</td>\n",
       "      <td>NaN</td>\n",
       "      <td>t2_20p7w7s</td>\n",
       "      <td>False</td>\n",
       "      <td>NaN</td>\n",
       "      <td>1</td>\n",
       "      <td>False</td>\n",
       "      <td>You can unpee.</td>\n",
       "      <td>[]</td>\n",
       "      <td>...</td>\n",
       "      <td>True</td>\n",
       "      <td>NaN</td>\n",
       "      <td>NaN</td>\n",
       "      <td>1</td>\n",
       "      <td>you can unpee.</td>\n",
       "      <td>2018-06-17 17:35:10</td>\n",
       "      <td>['you', 'can', 'unpee']</td>\n",
       "      <td>you can unpee</td>\n",
       "      <td>you can unpee</td>\n",
       "      <td>you can unpe</td>\n",
       "    </tr>\n",
       "  </tbody>\n",
       "</table>\n",
       "<p>3 rows × 114 columns</p>\n",
       "</div>"
      ],
      "text/plain": [
       "   approved_at_utc          subreddit             selftext author_fullname  \\\n",
       "0              NaN  shittysuperpowers  you can't turn back        t2_76n67   \n",
       "1              NaN  shittysuperpowers                  NaN      t2_66d4bkr   \n",
       "2              NaN  shittysuperpowers                  NaN      t2_20p7w7s   \n",
       "\n",
       "   saved  mod_reason_title  gilded  clicked  \\\n",
       "0  False               NaN       0    False   \n",
       "1  False               NaN       0    False   \n",
       "2  False               NaN       1    False   \n",
       "\n",
       "                                               title link_flair_richtext  ...  \\\n",
       "0                    you can turn into a goose, once                  []  ...   \n",
       "1  You can punch with half the strength of someon...                  []  ...   \n",
       "2                                     You can unpee.                  []  ...   \n",
       "\n",
       "  author_cakeday  crosspost_parent_list  crosspost_parent  is_shitty  \\\n",
       "0            NaN                    NaN               NaN          1   \n",
       "1            NaN                    NaN               NaN          1   \n",
       "2           True                    NaN               NaN          1   \n",
       "\n",
       "                                      title_censored   pacific_st_created  \\\n",
       "0                    you can turn into a goose, once  2018-05-07 18:43:50   \n",
       "1  you can punch with half the strength of someon...  2018-05-07 21:42:12   \n",
       "2                                     you can unpee.  2018-06-17 17:35:10   \n",
       "\n",
       "                                        title_tokens  \\\n",
       "0  ['you', 'can', 'turn', 'into', 'a', 'goose', '...   \n",
       "1  ['you', 'can', 'punch', 'with', 'half', 'the',...   \n",
       "2                            ['you', 'can', 'unpee']   \n",
       "\n",
       "                                    title_tokens_str  \\\n",
       "0                     you can turn into a goose once   \n",
       "1  you can punch with half the strength of someon...   \n",
       "2                                      you can unpee   \n",
       "\n",
       "                                   title_tokens_lemm  \\\n",
       "0                     you can turn into a goose once   \n",
       "1  you can punch with half the strength of someon...   \n",
       "2                                      you can unpee   \n",
       "\n",
       "                                   title_tokens_stem  \n",
       "0                       you can turn into a goos onc  \n",
       "1  you can punch with half the strength of someon...  \n",
       "2                                       you can unpe  \n",
       "\n",
       "[3 rows x 114 columns]"
      ]
     },
     "execution_count": 171,
     "metadata": {},
     "output_type": "execute_result"
    }
   ],
   "source": [
    "sp_merged_train.head(3) # recall training set"
   ]
  },
  {
   "cell_type": "code",
   "execution_count": 172,
   "metadata": {},
   "outputs": [
    {
     "data": {
      "text/plain": [
       "(1566, 114)"
      ]
     },
     "execution_count": 172,
     "metadata": {},
     "output_type": "execute_result"
    }
   ],
   "source": [
    "sp_merged_train.shape"
   ]
  },
  {
   "cell_type": "code",
   "execution_count": 173,
   "metadata": {},
   "outputs": [
    {
     "data": {
      "text/html": [
       "<div>\n",
       "<style scoped>\n",
       "    .dataframe tbody tr th:only-of-type {\n",
       "        vertical-align: middle;\n",
       "    }\n",
       "\n",
       "    .dataframe tbody tr th {\n",
       "        vertical-align: top;\n",
       "    }\n",
       "\n",
       "    .dataframe thead th {\n",
       "        text-align: right;\n",
       "    }\n",
       "</style>\n",
       "<table border=\"1\" class=\"dataframe\">\n",
       "  <thead>\n",
       "    <tr style=\"text-align: right;\">\n",
       "      <th></th>\n",
       "      <th>approved_at_utc</th>\n",
       "      <th>subreddit</th>\n",
       "      <th>selftext</th>\n",
       "      <th>author_fullname</th>\n",
       "      <th>saved</th>\n",
       "      <th>mod_reason_title</th>\n",
       "      <th>gilded</th>\n",
       "      <th>clicked</th>\n",
       "      <th>title</th>\n",
       "      <th>link_flair_richtext</th>\n",
       "      <th>...</th>\n",
       "      <th>author_cakeday</th>\n",
       "      <th>crosspost_parent_list</th>\n",
       "      <th>crosspost_parent</th>\n",
       "      <th>is_shitty</th>\n",
       "      <th>title_censored</th>\n",
       "      <th>pacific_st_created</th>\n",
       "      <th>title_tokens</th>\n",
       "      <th>title_tokens_str</th>\n",
       "      <th>title_tokens_lemm</th>\n",
       "      <th>title_tokens_stem</th>\n",
       "    </tr>\n",
       "  </thead>\n",
       "  <tbody>\n",
       "    <tr>\n",
       "      <th>1566</th>\n",
       "      <td>NaN</td>\n",
       "      <td>shittysuperpowers</td>\n",
       "      <td>NaN</td>\n",
       "      <td>t2_4ve89obc</td>\n",
       "      <td>False</td>\n",
       "      <td>NaN</td>\n",
       "      <td>0</td>\n",
       "      <td>False</td>\n",
       "      <td>Your blinks are perfectly in sync with whoever...</td>\n",
       "      <td>[]</td>\n",
       "      <td>...</td>\n",
       "      <td>NaN</td>\n",
       "      <td>NaN</td>\n",
       "      <td>NaN</td>\n",
       "      <td>1</td>\n",
       "      <td>your blinks are perfectly in sync with whoever...</td>\n",
       "      <td>2020-05-11 01:23:59</td>\n",
       "      <td>['your', 'blinks', 'are', 'perfectly', 'in', '...</td>\n",
       "      <td>your blinks are perfectly in sync with whoever...</td>\n",
       "      <td>your blink are perfectly in sync with whoever ...</td>\n",
       "      <td>your blink are perfectli in sync with whoever ...</td>\n",
       "    </tr>\n",
       "    <tr>\n",
       "      <th>1567</th>\n",
       "      <td>NaN</td>\n",
       "      <td>godtiersuperpowers</td>\n",
       "      <td>An example would be falling asleep during scho...</td>\n",
       "      <td>t2_5nabfprf</td>\n",
       "      <td>False</td>\n",
       "      <td>NaN</td>\n",
       "      <td>0</td>\n",
       "      <td>False</td>\n",
       "      <td>You can fall asleep anytime you want but your ...</td>\n",
       "      <td>[]</td>\n",
       "      <td>...</td>\n",
       "      <td>NaN</td>\n",
       "      <td>NaN</td>\n",
       "      <td>NaN</td>\n",
       "      <td>0</td>\n",
       "      <td>you can fall asleep anytime you want but your ...</td>\n",
       "      <td>2020-05-11 15:17:58</td>\n",
       "      <td>['you', 'can', 'fall', 'asleep', 'anytime', 'y...</td>\n",
       "      <td>you can fall asleep anytime you want but your ...</td>\n",
       "      <td>you can fall asleep anytime you want but your ...</td>\n",
       "      <td>you can fall asleep anytim you want but your b...</td>\n",
       "    </tr>\n",
       "    <tr>\n",
       "      <th>1568</th>\n",
       "      <td>NaN</td>\n",
       "      <td>godtiersuperpowers</td>\n",
       "      <td>NaN</td>\n",
       "      <td>t2_w5vgsq</td>\n",
       "      <td>False</td>\n",
       "      <td>NaN</td>\n",
       "      <td>0</td>\n",
       "      <td>False</td>\n",
       "      <td>You get a second try at life with all your mem...</td>\n",
       "      <td>[]</td>\n",
       "      <td>...</td>\n",
       "      <td>NaN</td>\n",
       "      <td>NaN</td>\n",
       "      <td>NaN</td>\n",
       "      <td>0</td>\n",
       "      <td>you get a second try at life with all your mem...</td>\n",
       "      <td>2020-05-12 04:45:51</td>\n",
       "      <td>['you', 'get', 'a', 'second', 'try', 'at', 'li...</td>\n",
       "      <td>you get a second try at life with all your mem...</td>\n",
       "      <td>you get a second try at life with all your mem...</td>\n",
       "      <td>you get a second tri at life with all your mem...</td>\n",
       "    </tr>\n",
       "  </tbody>\n",
       "</table>\n",
       "<p>3 rows × 114 columns</p>\n",
       "</div>"
      ],
      "text/plain": [
       "      approved_at_utc           subreddit  \\\n",
       "1566              NaN   shittysuperpowers   \n",
       "1567              NaN  godtiersuperpowers   \n",
       "1568              NaN  godtiersuperpowers   \n",
       "\n",
       "                                               selftext author_fullname  \\\n",
       "1566                                                NaN     t2_4ve89obc   \n",
       "1567  An example would be falling asleep during scho...     t2_5nabfprf   \n",
       "1568                                                NaN       t2_w5vgsq   \n",
       "\n",
       "      saved  mod_reason_title  gilded  clicked  \\\n",
       "1566  False               NaN       0    False   \n",
       "1567  False               NaN       0    False   \n",
       "1568  False               NaN       0    False   \n",
       "\n",
       "                                                  title link_flair_richtext  \\\n",
       "1566  Your blinks are perfectly in sync with whoever...                  []   \n",
       "1567  You can fall asleep anytime you want but your ...                  []   \n",
       "1568  You get a second try at life with all your mem...                  []   \n",
       "\n",
       "      ... author_cakeday  crosspost_parent_list  crosspost_parent  is_shitty  \\\n",
       "1566  ...            NaN                    NaN               NaN          1   \n",
       "1567  ...            NaN                    NaN               NaN          0   \n",
       "1568  ...            NaN                    NaN               NaN          0   \n",
       "\n",
       "                                         title_censored   pacific_st_created  \\\n",
       "1566  your blinks are perfectly in sync with whoever...  2020-05-11 01:23:59   \n",
       "1567  you can fall asleep anytime you want but your ...  2020-05-11 15:17:58   \n",
       "1568  you get a second try at life with all your mem...  2020-05-12 04:45:51   \n",
       "\n",
       "                                           title_tokens  \\\n",
       "1566  ['your', 'blinks', 'are', 'perfectly', 'in', '...   \n",
       "1567  ['you', 'can', 'fall', 'asleep', 'anytime', 'y...   \n",
       "1568  ['you', 'get', 'a', 'second', 'try', 'at', 'li...   \n",
       "\n",
       "                                       title_tokens_str  \\\n",
       "1566  your blinks are perfectly in sync with whoever...   \n",
       "1567  you can fall asleep anytime you want but your ...   \n",
       "1568  you get a second try at life with all your mem...   \n",
       "\n",
       "                                      title_tokens_lemm  \\\n",
       "1566  your blink are perfectly in sync with whoever ...   \n",
       "1567  you can fall asleep anytime you want but your ...   \n",
       "1568  you get a second try at life with all your mem...   \n",
       "\n",
       "                                      title_tokens_stem  \n",
       "1566  your blink are perfectli in sync with whoever ...  \n",
       "1567  you can fall asleep anytim you want but your b...  \n",
       "1568  you get a second tri at life with all your mem...  \n",
       "\n",
       "[3 rows x 114 columns]"
      ]
     },
     "execution_count": 173,
     "metadata": {},
     "output_type": "execute_result"
    }
   ],
   "source": [
    "sp_merged_unseen.head(3) # recall unseen test set"
   ]
  },
  {
   "cell_type": "code",
   "execution_count": 174,
   "metadata": {},
   "outputs": [
    {
     "data": {
      "text/plain": [
       "(390, 114)"
      ]
     },
     "execution_count": 174,
     "metadata": {},
     "output_type": "execute_result"
    }
   ],
   "source": [
    "sp_merged_unseen.shape"
   ]
  },
  {
   "cell_type": "code",
   "execution_count": 175,
   "metadata": {},
   "outputs": [],
   "source": [
    "# split training and test sets into X features and y target\n",
    "features = [\"title_tokens_stem\", \"ups\"]\n",
    "X_train = sp_merged_train[features] # train model on full training data set\n",
    "y_train = sp_merged_train[\"is_shitty\"]\n",
    "X_test = sp_merged_unseen[features]\n",
    "y_test = sp_merged_unseen[\"is_shitty\"]"
   ]
  },
  {
   "cell_type": "code",
   "execution_count": 176,
   "metadata": {},
   "outputs": [],
   "source": [
    "# instantiate CountVectorizer using best hyper params as considered above\n",
    "cvec = CountVectorizer(stop_words=\"english\",\n",
    "                       max_df=0.9,\n",
    "                       min_df=2,\n",
    "                       max_features=250, # limit selected features to 250\n",
    "                       ngram_range=(1,2))"
   ]
  },
  {
   "cell_type": "code",
   "execution_count": 177,
   "metadata": {},
   "outputs": [],
   "source": [
    "# vectorise posts in training and unseen test sets\n",
    "X_train_cvec = cvec.fit_transform(X_train[\"title_tokens_stem\"])\n",
    "X_test_cvec = cvec.transform(X_test[\"title_tokens_stem\"])"
   ]
  },
  {
   "cell_type": "code",
   "execution_count": 178,
   "metadata": {},
   "outputs": [
    {
     "name": "stdout",
     "output_type": "stream",
     "text": [
      "X_train_weighted is a <class 'scipy.sparse.csr.csr_matrix'>\n",
      "X_test_weighted is a <class 'scipy.sparse.csr.csr_matrix'>\n"
     ]
    }
   ],
   "source": [
    "# to preserve sparsity of X\n",
    "\n",
    "# create diagonal matrix using values from \"ups\" as weights\n",
    "weights_train = X_train[\"ups\"]\n",
    "W_train = sp.diags(weights_train.values)\n",
    "weights_test = X_test[\"ups\"]\n",
    "W_test = sp.diags(weights_test.values)\n",
    "\n",
    "# dot product between X and W, multiply each row with corresponding weight/upvotes\n",
    "X_train_weighted = W_train.dot(X_train_cvec)\n",
    "X_test_weighted = W_test.dot(X_test_cvec)\n",
    "\n",
    "# ensure still a sparse matrix\n",
    "print(\"X_train_weighted is a\", type(X_train_weighted))\n",
    "print(\"X_test_weighted is a\", type(X_test_weighted))"
   ]
  },
  {
   "cell_type": "code",
   "execution_count": 179,
   "metadata": {},
   "outputs": [],
   "source": [
    "# instantiate MultinomialNB\n",
    "# because alpha has been demonstrated to be negligible when model has only 250 word features, let's set alpha = 1\n",
    "mnb = MultinomialNB(alpha=1)"
   ]
  },
  {
   "cell_type": "code",
   "execution_count": 180,
   "metadata": {
    "scrolled": true
   },
   "outputs": [
    {
     "name": "stdout",
     "output_type": "stream",
     "text": [
      "Model scored on training set: 0.708\n",
      "Model scored on test set: 0.674\n",
      "There is a score gap between training and test sets of 0.033\n"
     ]
    }
   ],
   "source": [
    "# fit and transform\n",
    "mnb.fit(X_train_cvec, y_train)\n",
    "\n",
    "# score model\n",
    "train_score = mnb.score(X_train_cvec, y_train)\n",
    "test_score = mnb.score(X_test_cvec, y_test)\n",
    "print(\"Model scored on training set:\", round(train_score, 3))\n",
    "print(\"Model scored on test set:\", round(test_score, 3))\n",
    "print(\"There is a score gap between training and test sets of\", round((train_score-test_score), 3))"
   ]
  },
  {
   "cell_type": "code",
   "execution_count": 181,
   "metadata": {},
   "outputs": [],
   "source": [
    "# baseline model overfitting to training data by only a little\n",
    "# accuracy gap of 3.3% (lowest thus far)\n",
    "# however model score is still not good at 67.4%\n",
    "# we have therefore sacrificed bias to reduce variance"
   ]
  },
  {
   "cell_type": "code",
   "execution_count": 182,
   "metadata": {},
   "outputs": [],
   "source": [
    "predictions = mnb.predict(X_test_cvec)"
   ]
  },
  {
   "cell_type": "code",
   "execution_count": 183,
   "metadata": {},
   "outputs": [
    {
     "data": {
      "text/plain": [
       "array([[144,  74],\n",
       "       [ 53, 119]], dtype=int64)"
      ]
     },
     "execution_count": 183,
     "metadata": {},
     "output_type": "execute_result"
    }
   ],
   "source": [
    "confusion_matrix(y_test, predictions)"
   ]
  },
  {
   "cell_type": "markdown",
   "metadata": {},
   "source": [
    "|*Confusion Matrix*|Predicted Negatives|Predicted Positives*|\n",
    "|---|---|---|\n",
    "|**Actual Negatives**|144|74|\n",
    "|**Actual Positives**|53|119|\n",
    "\n",
    "<p style=\"text-align:right;\"><sup>*Predict for <i>r/shittysuperpowers</i></sup></p>"
   ]
  },
  {
   "cell_type": "code",
   "execution_count": 184,
   "metadata": {},
   "outputs": [],
   "source": [
    "tn, fp, fn, tp = confusion_matrix(y_test, predictions).ravel()"
   ]
  },
  {
   "cell_type": "code",
   "execution_count": 185,
   "metadata": {},
   "outputs": [
    {
     "name": "stdout",
     "output_type": "stream",
     "text": [
      "True Negatives: 144\n",
      "False Positives: 74\n",
      "False Negatives: 53\n",
      "True Positives: 119\n"
     ]
    }
   ],
   "source": [
    "print(\"True Negatives: %s\" % tn)\n",
    "print(\"False Positives: %s\" % fp)\n",
    "print(\"False Negatives: %s\" % fn)\n",
    "print(\"True Positives: %s\" % tp)"
   ]
  },
  {
   "cell_type": "code",
   "execution_count": 186,
   "metadata": {},
   "outputs": [],
   "source": [
    "# incidence of false positives to false negatives are now largely similar compared to Model 01\n",
    "# meaning model is now less biased in its erroneous classifications of posts"
   ]
  },
  {
   "cell_type": "code",
   "execution_count": 187,
   "metadata": {},
   "outputs": [
    {
     "name": "stdout",
     "output_type": "stream",
     "text": [
      "Accuracy: 0.674\n",
      "Recall: 0.692\n",
      "Specificity: 0.661\n"
     ]
    }
   ],
   "source": [
    "recall = tp / (tp + fn) # ratio of predicted positives to all positives\n",
    "specificity = tn / (tn + fp) # ratio of predicted negatives to all negatives\n",
    "accuracy = (tp + tn) / (tp + fp + tn + fn) # ratio of correct predictions to total predictions\n",
    "print(\"Accuracy:\", round(accuracy, 3))\n",
    "print(\"Recall:\", round(recall, 3))\n",
    "print(\"Specificity:\", round(specificity, 3))"
   ]
  },
  {
   "cell_type": "code",
   "execution_count": 188,
   "metadata": {},
   "outputs": [],
   "source": [
    "# model's recall improved at a cost to specificity\n",
    "### this means our model is able to predict more accurately for r/shittysuperpowers (positives) than for its negative\n",
    "### coming from Model 02, recall score has improved more than the loss to specificity"
   ]
  },
  {
   "cell_type": "code",
   "execution_count": 189,
   "metadata": {},
   "outputs": [
    {
     "data": {
      "text/plain": [
       "(390, 2)"
      ]
     },
     "execution_count": 189,
     "metadata": {},
     "output_type": "execute_result"
    }
   ],
   "source": [
    "# extract prediction probabilities and append to df with test results\n",
    "nlp_proba = mnb.predict_proba(X_test_cvec)[:, 1]\n",
    "df_results = pd.DataFrame(zip(y_test, nlp_proba), columns=[\"y_test\", \"nlp_proba\"])\n",
    "df_results.shape"
   ]
  },
  {
   "cell_type": "code",
   "execution_count": 190,
   "metadata": {
    "scrolled": false
   },
   "outputs": [
    {
     "data": {
      "image/png": "[encoded data removed]",
      "text/plain": [
       "<Figure size 864x576 with 1 Axes>"
      ]
     },
     "metadata": {
      "image/png": {
       "height": 497,
       "width": 798
      },
      "needs_background": "light"
     },
     "output_type": "display_data"
    }
   ],
   "source": [
    "# Create figure.\n",
    "plt.figure(figsize = (12,8))\n",
    "\n",
    "# Create threshold values. (Dashed red line in image.)\n",
    "thresholds = np.linspace(0, 1, 200)\n",
    "    \n",
    "# Calculate sensitivity & 1-specificity for each threshold between 0 and 1.\n",
    "tpr_values = [TPR(df_results, 'y_test', 'nlp_proba', prob) for prob in thresholds]\n",
    "fpr_values = [FPR(df_results, 'y_test', 'nlp_proba', prob) for prob in thresholds]\n",
    "\n",
    "# Plot ROC curve.\n",
    "plt.plot(fpr_values, # False Positive Rate on X-axis\n",
    "         tpr_values, # True Positive Rate on Y-axis\n",
    "         label='ROC Curve')\n",
    "\n",
    "# Plot baseline. (Perfect overlap between the two populations.)\n",
    "plt.plot(np.linspace(0, 1, 200),\n",
    "         np.linspace(0, 1, 200),\n",
    "         label='baseline',\n",
    "         linestyle='--')\n",
    "\n",
    "# Label axes.\n",
    "plt.title(f\"ROC Curve with AUC = {round(roc_auc_score(df_results['y_test'], df_results['nlp_proba']),3)}\", fontsize=20)\n",
    "plt.ylabel('Sensitivity', fontsize=10)\n",
    "plt.xlabel('1 - Specificity', fontsize=10)\n",
    "\n",
    "# Create legend.\n",
    "plt.legend(fontsize=16)\n",
    "\n",
    "# Save figure\n",
    "plt.savefig(\"../output/roc_auc_03.png\", transparent=True) # save out figure\n",
    "plt.show()"
   ]
  },
  {
   "cell_type": "code",
   "execution_count": 191,
   "metadata": {},
   "outputs": [
    {
     "data": {
      "text/plain": [
       "0.7204501813526776"
      ]
     },
     "execution_count": 191,
     "metadata": {},
     "output_type": "execute_result"
    }
   ],
   "source": [
    "roc_auc_score(y_test, mnb.predict_proba(X_test_cvec)[:, 1])"
   ]
  },
  {
   "cell_type": "code",
   "execution_count": 192,
   "metadata": {},
   "outputs": [],
   "source": [
    "# we have pushed NLP as far as we can push\n",
    "# ROC-AUC is highest so far at 0.72\n",
    "# Model 03 performed 17% better than the baseline count of 50.4% r/shittysuperpowers post\n",
    "# Model 03 test set accuracy performed 1.5% better than Model 02\n",
    "\n",
    "# our models' scores have been plateauing for some time\n",
    "# this suggest that using solely word features to classify between the subreddits is not sufficient\n",
    "# the accuracy score also suggests that word features are only useful as predictors of the subreddits 67.4% of the time\n",
    "# we should expect a better classifier if we start to include non-NLP features that may shed more light on what matters\n",
    "# let's return back to the data notebook to select features that would bring our model to the next level"
   ]
  },
  {
   "cell_type": "markdown",
   "metadata": {},
   "source": [
    "## Model 04\n",
    "[Back to Top!](#Contents:)"
   ]
  },
  {
   "cell_type": "markdown",
   "metadata": {},
   "source": [
    "#### Import New Features"
   ]
  },
  {
   "cell_type": "code",
   "execution_count": 193,
   "metadata": {},
   "outputs": [
    {
     "data": {
      "text/plain": [
       "(1955, 116)"
      ]
     },
     "execution_count": 193,
     "metadata": {},
     "output_type": "execute_result"
    }
   ],
   "source": [
    "sp_merged_sel = pd.read_csv(\"../datasets/merged_sp_top_selected.csv\")\n",
    "sp_merged_sel.shape"
   ]
  },
  {
   "cell_type": "code",
   "execution_count": 194,
   "metadata": {},
   "outputs": [
    {
     "data": {
      "text/html": [
       "<div>\n",
       "<style scoped>\n",
       "    .dataframe tbody tr th:only-of-type {\n",
       "        vertical-align: middle;\n",
       "    }\n",
       "\n",
       "    .dataframe tbody tr th {\n",
       "        vertical-align: top;\n",
       "    }\n",
       "\n",
       "    .dataframe thead th {\n",
       "        text-align: right;\n",
       "    }\n",
       "</style>\n",
       "<table border=\"1\" class=\"dataframe\">\n",
       "  <thead>\n",
       "    <tr style=\"text-align: right;\">\n",
       "      <th></th>\n",
       "      <th>approved_at_utc</th>\n",
       "      <th>subreddit</th>\n",
       "      <th>selftext</th>\n",
       "      <th>author_fullname</th>\n",
       "      <th>saved</th>\n",
       "      <th>mod_reason_title</th>\n",
       "      <th>gilded</th>\n",
       "      <th>clicked</th>\n",
       "      <th>title</th>\n",
       "      <th>link_flair_richtext</th>\n",
       "      <th>...</th>\n",
       "      <th>crosspost_parent</th>\n",
       "      <th>is_shitty</th>\n",
       "      <th>title_censored</th>\n",
       "      <th>pacific_st_created</th>\n",
       "      <th>title_tokens</th>\n",
       "      <th>title_tokens_str</th>\n",
       "      <th>title_tokens_lemm</th>\n",
       "      <th>title_tokens_stem</th>\n",
       "      <th>is_over_18</th>\n",
       "      <th>time_of_day</th>\n",
       "    </tr>\n",
       "  </thead>\n",
       "  <tbody>\n",
       "    <tr>\n",
       "      <th>0</th>\n",
       "      <td>NaN</td>\n",
       "      <td>shittysuperpowers</td>\n",
       "      <td>you can't turn back</td>\n",
       "      <td>t2_76n67</td>\n",
       "      <td>False</td>\n",
       "      <td>NaN</td>\n",
       "      <td>0</td>\n",
       "      <td>False</td>\n",
       "      <td>you can turn into a goose, once</td>\n",
       "      <td>[]</td>\n",
       "      <td>...</td>\n",
       "      <td>NaN</td>\n",
       "      <td>1</td>\n",
       "      <td>you can turn into a goose, once</td>\n",
       "      <td>2018-05-07 18:43:50</td>\n",
       "      <td>['you', 'can', 'turn', 'into', 'a', 'goose', '...</td>\n",
       "      <td>you can turn into a goose once</td>\n",
       "      <td>you can turn into a goose once</td>\n",
       "      <td>you can turn into a goos onc</td>\n",
       "      <td>0</td>\n",
       "      <td>noon</td>\n",
       "    </tr>\n",
       "    <tr>\n",
       "      <th>1</th>\n",
       "      <td>NaN</td>\n",
       "      <td>shittysuperpowers</td>\n",
       "      <td>NaN</td>\n",
       "      <td>t2_66d4bkr</td>\n",
       "      <td>False</td>\n",
       "      <td>NaN</td>\n",
       "      <td>0</td>\n",
       "      <td>False</td>\n",
       "      <td>You can punch with half the strength of someon...</td>\n",
       "      <td>[]</td>\n",
       "      <td>...</td>\n",
       "      <td>NaN</td>\n",
       "      <td>1</td>\n",
       "      <td>you can punch with half the strength of someon...</td>\n",
       "      <td>2018-05-07 21:42:12</td>\n",
       "      <td>['you', 'can', 'punch', 'with', 'half', 'the',...</td>\n",
       "      <td>you can punch with half the strength of someon...</td>\n",
       "      <td>you can punch with half the strength of someon...</td>\n",
       "      <td>you can punch with half the strength of someon...</td>\n",
       "      <td>0</td>\n",
       "      <td>night</td>\n",
       "    </tr>\n",
       "    <tr>\n",
       "      <th>2</th>\n",
       "      <td>NaN</td>\n",
       "      <td>shittysuperpowers</td>\n",
       "      <td>NaN</td>\n",
       "      <td>t2_20p7w7s</td>\n",
       "      <td>False</td>\n",
       "      <td>NaN</td>\n",
       "      <td>1</td>\n",
       "      <td>False</td>\n",
       "      <td>You can unpee.</td>\n",
       "      <td>[]</td>\n",
       "      <td>...</td>\n",
       "      <td>NaN</td>\n",
       "      <td>1</td>\n",
       "      <td>you can unpee.</td>\n",
       "      <td>2018-06-17 17:35:10</td>\n",
       "      <td>['you', 'can', 'unpee']</td>\n",
       "      <td>you can unpee</td>\n",
       "      <td>you can unpee</td>\n",
       "      <td>you can unpe</td>\n",
       "      <td>0</td>\n",
       "      <td>noon</td>\n",
       "    </tr>\n",
       "  </tbody>\n",
       "</table>\n",
       "<p>3 rows × 116 columns</p>\n",
       "</div>"
      ],
      "text/plain": [
       "   approved_at_utc          subreddit             selftext author_fullname  \\\n",
       "0              NaN  shittysuperpowers  you can't turn back        t2_76n67   \n",
       "1              NaN  shittysuperpowers                  NaN      t2_66d4bkr   \n",
       "2              NaN  shittysuperpowers                  NaN      t2_20p7w7s   \n",
       "\n",
       "   saved  mod_reason_title  gilded  clicked  \\\n",
       "0  False               NaN       0    False   \n",
       "1  False               NaN       0    False   \n",
       "2  False               NaN       1    False   \n",
       "\n",
       "                                               title link_flair_richtext  ...  \\\n",
       "0                    you can turn into a goose, once                  []  ...   \n",
       "1  You can punch with half the strength of someon...                  []  ...   \n",
       "2                                     You can unpee.                  []  ...   \n",
       "\n",
       "  crosspost_parent  is_shitty  \\\n",
       "0              NaN          1   \n",
       "1              NaN          1   \n",
       "2              NaN          1   \n",
       "\n",
       "                                      title_censored   pacific_st_created  \\\n",
       "0                    you can turn into a goose, once  2018-05-07 18:43:50   \n",
       "1  you can punch with half the strength of someon...  2018-05-07 21:42:12   \n",
       "2                                     you can unpee.  2018-06-17 17:35:10   \n",
       "\n",
       "                                        title_tokens  \\\n",
       "0  ['you', 'can', 'turn', 'into', 'a', 'goose', '...   \n",
       "1  ['you', 'can', 'punch', 'with', 'half', 'the',...   \n",
       "2                            ['you', 'can', 'unpee']   \n",
       "\n",
       "                                    title_tokens_str  \\\n",
       "0                     you can turn into a goose once   \n",
       "1  you can punch with half the strength of someon...   \n",
       "2                                      you can unpee   \n",
       "\n",
       "                                   title_tokens_lemm  \\\n",
       "0                     you can turn into a goose once   \n",
       "1  you can punch with half the strength of someon...   \n",
       "2                                      you can unpee   \n",
       "\n",
       "                                   title_tokens_stem  is_over_18 time_of_day  \n",
       "0                       you can turn into a goos onc           0        noon  \n",
       "1  you can punch with half the strength of someon...           0       night  \n",
       "2                                       you can unpe           0        noon  \n",
       "\n",
       "[3 rows x 116 columns]"
      ]
     },
     "execution_count": 194,
     "metadata": {},
     "output_type": "execute_result"
    }
   ],
   "source": [
    "sp_merged_sel.head(3)"
   ]
  },
  {
   "cell_type": "markdown",
   "metadata": {},
   "source": [
    "#### Split into Training and Unseen Test set"
   ]
  },
  {
   "cell_type": "code",
   "execution_count": 195,
   "metadata": {},
   "outputs": [
    {
     "data": {
      "text/plain": [
       "1955"
      ]
     },
     "execution_count": 195,
     "metadata": {},
     "output_type": "execute_result"
    }
   ],
   "source": [
    "len(sp_merged_sel)"
   ]
  },
  {
   "cell_type": "code",
   "execution_count": 196,
   "metadata": {},
   "outputs": [],
   "source": [
    "# let's set 80% as training set and 20% as test set\n",
    "\n",
    "# since we are predicting for newer posts and df has already been ordered by time\n",
    "# let's split test set by older 80% and newer 20%"
   ]
  },
  {
   "cell_type": "code",
   "execution_count": 197,
   "metadata": {
    "scrolled": true
   },
   "outputs": [
    {
     "name": "stdout",
     "output_type": "stream",
     "text": [
      "Training set shape: (1566, 116)\n",
      "Unseen test set shape: (389, 116)\n"
     ]
    }
   ],
   "source": [
    "# sp_merged already sorted by \"created\" date\n",
    "sp_merged_train = sp_merged_sel.iloc[:round(0.8*len(sp_merged))] # first 80% of data (older posts)\n",
    "print(\"Training set shape:\", sp_merged_train.shape)\n",
    "sp_merged_unseen = sp_merged_sel.iloc[round(0.8*len(sp_merged)):] # last 20% of data (newer posts)\n",
    "print(\"Unseen test set shape:\", sp_merged_unseen.shape)"
   ]
  },
  {
   "cell_type": "markdown",
   "metadata": {},
   "source": [
    "#### Model 04_1: NLP Multinomial NB"
   ]
  },
  {
   "cell_type": "code",
   "execution_count": 198,
   "metadata": {
    "scrolled": true
   },
   "outputs": [
    {
     "data": {
      "text/html": [
       "<div>\n",
       "<style scoped>\n",
       "    .dataframe tbody tr th:only-of-type {\n",
       "        vertical-align: middle;\n",
       "    }\n",
       "\n",
       "    .dataframe tbody tr th {\n",
       "        vertical-align: top;\n",
       "    }\n",
       "\n",
       "    .dataframe thead th {\n",
       "        text-align: right;\n",
       "    }\n",
       "</style>\n",
       "<table border=\"1\" class=\"dataframe\">\n",
       "  <thead>\n",
       "    <tr style=\"text-align: right;\">\n",
       "      <th></th>\n",
       "      <th>approved_at_utc</th>\n",
       "      <th>subreddit</th>\n",
       "      <th>selftext</th>\n",
       "      <th>author_fullname</th>\n",
       "      <th>saved</th>\n",
       "      <th>mod_reason_title</th>\n",
       "      <th>gilded</th>\n",
       "      <th>clicked</th>\n",
       "      <th>title</th>\n",
       "      <th>link_flair_richtext</th>\n",
       "      <th>...</th>\n",
       "      <th>crosspost_parent</th>\n",
       "      <th>is_shitty</th>\n",
       "      <th>title_censored</th>\n",
       "      <th>pacific_st_created</th>\n",
       "      <th>title_tokens</th>\n",
       "      <th>title_tokens_str</th>\n",
       "      <th>title_tokens_lemm</th>\n",
       "      <th>title_tokens_stem</th>\n",
       "      <th>is_over_18</th>\n",
       "      <th>time_of_day</th>\n",
       "    </tr>\n",
       "  </thead>\n",
       "  <tbody>\n",
       "    <tr>\n",
       "      <th>0</th>\n",
       "      <td>NaN</td>\n",
       "      <td>shittysuperpowers</td>\n",
       "      <td>you can't turn back</td>\n",
       "      <td>t2_76n67</td>\n",
       "      <td>False</td>\n",
       "      <td>NaN</td>\n",
       "      <td>0</td>\n",
       "      <td>False</td>\n",
       "      <td>you can turn into a goose, once</td>\n",
       "      <td>[]</td>\n",
       "      <td>...</td>\n",
       "      <td>NaN</td>\n",
       "      <td>1</td>\n",
       "      <td>you can turn into a goose, once</td>\n",
       "      <td>2018-05-07 18:43:50</td>\n",
       "      <td>['you', 'can', 'turn', 'into', 'a', 'goose', '...</td>\n",
       "      <td>you can turn into a goose once</td>\n",
       "      <td>you can turn into a goose once</td>\n",
       "      <td>you can turn into a goos onc</td>\n",
       "      <td>0</td>\n",
       "      <td>noon</td>\n",
       "    </tr>\n",
       "    <tr>\n",
       "      <th>1</th>\n",
       "      <td>NaN</td>\n",
       "      <td>shittysuperpowers</td>\n",
       "      <td>NaN</td>\n",
       "      <td>t2_66d4bkr</td>\n",
       "      <td>False</td>\n",
       "      <td>NaN</td>\n",
       "      <td>0</td>\n",
       "      <td>False</td>\n",
       "      <td>You can punch with half the strength of someon...</td>\n",
       "      <td>[]</td>\n",
       "      <td>...</td>\n",
       "      <td>NaN</td>\n",
       "      <td>1</td>\n",
       "      <td>you can punch with half the strength of someon...</td>\n",
       "      <td>2018-05-07 21:42:12</td>\n",
       "      <td>['you', 'can', 'punch', 'with', 'half', 'the',...</td>\n",
       "      <td>you can punch with half the strength of someon...</td>\n",
       "      <td>you can punch with half the strength of someon...</td>\n",
       "      <td>you can punch with half the strength of someon...</td>\n",
       "      <td>0</td>\n",
       "      <td>night</td>\n",
       "    </tr>\n",
       "    <tr>\n",
       "      <th>2</th>\n",
       "      <td>NaN</td>\n",
       "      <td>shittysuperpowers</td>\n",
       "      <td>NaN</td>\n",
       "      <td>t2_20p7w7s</td>\n",
       "      <td>False</td>\n",
       "      <td>NaN</td>\n",
       "      <td>1</td>\n",
       "      <td>False</td>\n",
       "      <td>You can unpee.</td>\n",
       "      <td>[]</td>\n",
       "      <td>...</td>\n",
       "      <td>NaN</td>\n",
       "      <td>1</td>\n",
       "      <td>you can unpee.</td>\n",
       "      <td>2018-06-17 17:35:10</td>\n",
       "      <td>['you', 'can', 'unpee']</td>\n",
       "      <td>you can unpee</td>\n",
       "      <td>you can unpee</td>\n",
       "      <td>you can unpe</td>\n",
       "      <td>0</td>\n",
       "      <td>noon</td>\n",
       "    </tr>\n",
       "  </tbody>\n",
       "</table>\n",
       "<p>3 rows × 116 columns</p>\n",
       "</div>"
      ],
      "text/plain": [
       "   approved_at_utc          subreddit             selftext author_fullname  \\\n",
       "0              NaN  shittysuperpowers  you can't turn back        t2_76n67   \n",
       "1              NaN  shittysuperpowers                  NaN      t2_66d4bkr   \n",
       "2              NaN  shittysuperpowers                  NaN      t2_20p7w7s   \n",
       "\n",
       "   saved  mod_reason_title  gilded  clicked  \\\n",
       "0  False               NaN       0    False   \n",
       "1  False               NaN       0    False   \n",
       "2  False               NaN       1    False   \n",
       "\n",
       "                                               title link_flair_richtext  ...  \\\n",
       "0                    you can turn into a goose, once                  []  ...   \n",
       "1  You can punch with half the strength of someon...                  []  ...   \n",
       "2                                     You can unpee.                  []  ...   \n",
       "\n",
       "  crosspost_parent  is_shitty  \\\n",
       "0              NaN          1   \n",
       "1              NaN          1   \n",
       "2              NaN          1   \n",
       "\n",
       "                                      title_censored   pacific_st_created  \\\n",
       "0                    you can turn into a goose, once  2018-05-07 18:43:50   \n",
       "1  you can punch with half the strength of someon...  2018-05-07 21:42:12   \n",
       "2                                     you can unpee.  2018-06-17 17:35:10   \n",
       "\n",
       "                                        title_tokens  \\\n",
       "0  ['you', 'can', 'turn', 'into', 'a', 'goose', '...   \n",
       "1  ['you', 'can', 'punch', 'with', 'half', 'the',...   \n",
       "2                            ['you', 'can', 'unpee']   \n",
       "\n",
       "                                    title_tokens_str  \\\n",
       "0                     you can turn into a goose once   \n",
       "1  you can punch with half the strength of someon...   \n",
       "2                                      you can unpee   \n",
       "\n",
       "                                   title_tokens_lemm  \\\n",
       "0                     you can turn into a goose once   \n",
       "1  you can punch with half the strength of someon...   \n",
       "2                                      you can unpee   \n",
       "\n",
       "                                   title_tokens_stem  is_over_18 time_of_day  \n",
       "0                       you can turn into a goos onc           0        noon  \n",
       "1  you can punch with half the strength of someon...           0       night  \n",
       "2                                       you can unpe           0        noon  \n",
       "\n",
       "[3 rows x 116 columns]"
      ]
     },
     "execution_count": 198,
     "metadata": {},
     "output_type": "execute_result"
    }
   ],
   "source": [
    "sp_merged_train.head(3) # recall training set"
   ]
  },
  {
   "cell_type": "code",
   "execution_count": 199,
   "metadata": {},
   "outputs": [
    {
     "data": {
      "text/plain": [
       "(1566, 116)"
      ]
     },
     "execution_count": 199,
     "metadata": {},
     "output_type": "execute_result"
    }
   ],
   "source": [
    "sp_merged_train.shape"
   ]
  },
  {
   "cell_type": "code",
   "execution_count": 200,
   "metadata": {},
   "outputs": [
    {
     "data": {
      "text/html": [
       "<div>\n",
       "<style scoped>\n",
       "    .dataframe tbody tr th:only-of-type {\n",
       "        vertical-align: middle;\n",
       "    }\n",
       "\n",
       "    .dataframe tbody tr th {\n",
       "        vertical-align: top;\n",
       "    }\n",
       "\n",
       "    .dataframe thead th {\n",
       "        text-align: right;\n",
       "    }\n",
       "</style>\n",
       "<table border=\"1\" class=\"dataframe\">\n",
       "  <thead>\n",
       "    <tr style=\"text-align: right;\">\n",
       "      <th></th>\n",
       "      <th>approved_at_utc</th>\n",
       "      <th>subreddit</th>\n",
       "      <th>selftext</th>\n",
       "      <th>author_fullname</th>\n",
       "      <th>saved</th>\n",
       "      <th>mod_reason_title</th>\n",
       "      <th>gilded</th>\n",
       "      <th>clicked</th>\n",
       "      <th>title</th>\n",
       "      <th>link_flair_richtext</th>\n",
       "      <th>...</th>\n",
       "      <th>crosspost_parent</th>\n",
       "      <th>is_shitty</th>\n",
       "      <th>title_censored</th>\n",
       "      <th>pacific_st_created</th>\n",
       "      <th>title_tokens</th>\n",
       "      <th>title_tokens_str</th>\n",
       "      <th>title_tokens_lemm</th>\n",
       "      <th>title_tokens_stem</th>\n",
       "      <th>is_over_18</th>\n",
       "      <th>time_of_day</th>\n",
       "    </tr>\n",
       "  </thead>\n",
       "  <tbody>\n",
       "    <tr>\n",
       "      <th>1566</th>\n",
       "      <td>NaN</td>\n",
       "      <td>shittysuperpowers</td>\n",
       "      <td>NaN</td>\n",
       "      <td>t2_4ve89obc</td>\n",
       "      <td>False</td>\n",
       "      <td>NaN</td>\n",
       "      <td>0</td>\n",
       "      <td>False</td>\n",
       "      <td>Your blinks are perfectly in sync with whoever...</td>\n",
       "      <td>[]</td>\n",
       "      <td>...</td>\n",
       "      <td>NaN</td>\n",
       "      <td>1</td>\n",
       "      <td>your blinks are perfectly in sync with whoever...</td>\n",
       "      <td>2020-05-11 01:23:59</td>\n",
       "      <td>['your', 'blinks', 'are', 'perfectly', 'in', '...</td>\n",
       "      <td>your blinks are perfectly in sync with whoever...</td>\n",
       "      <td>your blink are perfectly in sync with whoever ...</td>\n",
       "      <td>your blink are perfectli in sync with whoever ...</td>\n",
       "      <td>0</td>\n",
       "      <td>night</td>\n",
       "    </tr>\n",
       "    <tr>\n",
       "      <th>1567</th>\n",
       "      <td>NaN</td>\n",
       "      <td>godtiersuperpowers</td>\n",
       "      <td>An example would be falling asleep during scho...</td>\n",
       "      <td>t2_5nabfprf</td>\n",
       "      <td>False</td>\n",
       "      <td>NaN</td>\n",
       "      <td>0</td>\n",
       "      <td>False</td>\n",
       "      <td>You can fall asleep anytime you want but your ...</td>\n",
       "      <td>[]</td>\n",
       "      <td>...</td>\n",
       "      <td>NaN</td>\n",
       "      <td>0</td>\n",
       "      <td>you can fall asleep anytime you want but your ...</td>\n",
       "      <td>2020-05-11 15:17:58</td>\n",
       "      <td>['you', 'can', 'fall', 'asleep', 'anytime', 'y...</td>\n",
       "      <td>you can fall asleep anytime you want but your ...</td>\n",
       "      <td>you can fall asleep anytime you want but your ...</td>\n",
       "      <td>you can fall asleep anytim you want but your b...</td>\n",
       "      <td>0</td>\n",
       "      <td>noon</td>\n",
       "    </tr>\n",
       "    <tr>\n",
       "      <th>1568</th>\n",
       "      <td>NaN</td>\n",
       "      <td>godtiersuperpowers</td>\n",
       "      <td>NaN</td>\n",
       "      <td>t2_w5vgsq</td>\n",
       "      <td>False</td>\n",
       "      <td>NaN</td>\n",
       "      <td>0</td>\n",
       "      <td>False</td>\n",
       "      <td>You get a second try at life with all your mem...</td>\n",
       "      <td>[]</td>\n",
       "      <td>...</td>\n",
       "      <td>NaN</td>\n",
       "      <td>0</td>\n",
       "      <td>you get a second try at life with all your mem...</td>\n",
       "      <td>2020-05-12 04:45:51</td>\n",
       "      <td>['you', 'get', 'a', 'second', 'try', 'at', 'li...</td>\n",
       "      <td>you get a second try at life with all your mem...</td>\n",
       "      <td>you get a second try at life with all your mem...</td>\n",
       "      <td>you get a second tri at life with all your mem...</td>\n",
       "      <td>0</td>\n",
       "      <td>midnight</td>\n",
       "    </tr>\n",
       "  </tbody>\n",
       "</table>\n",
       "<p>3 rows × 116 columns</p>\n",
       "</div>"
      ],
      "text/plain": [
       "      approved_at_utc           subreddit  \\\n",
       "1566              NaN   shittysuperpowers   \n",
       "1567              NaN  godtiersuperpowers   \n",
       "1568              NaN  godtiersuperpowers   \n",
       "\n",
       "                                               selftext author_fullname  \\\n",
       "1566                                                NaN     t2_4ve89obc   \n",
       "1567  An example would be falling asleep during scho...     t2_5nabfprf   \n",
       "1568                                                NaN       t2_w5vgsq   \n",
       "\n",
       "      saved  mod_reason_title  gilded  clicked  \\\n",
       "1566  False               NaN       0    False   \n",
       "1567  False               NaN       0    False   \n",
       "1568  False               NaN       0    False   \n",
       "\n",
       "                                                  title link_flair_richtext  \\\n",
       "1566  Your blinks are perfectly in sync with whoever...                  []   \n",
       "1567  You can fall asleep anytime you want but your ...                  []   \n",
       "1568  You get a second try at life with all your mem...                  []   \n",
       "\n",
       "      ... crosspost_parent  is_shitty  \\\n",
       "1566  ...              NaN          1   \n",
       "1567  ...              NaN          0   \n",
       "1568  ...              NaN          0   \n",
       "\n",
       "                                         title_censored   pacific_st_created  \\\n",
       "1566  your blinks are perfectly in sync with whoever...  2020-05-11 01:23:59   \n",
       "1567  you can fall asleep anytime you want but your ...  2020-05-11 15:17:58   \n",
       "1568  you get a second try at life with all your mem...  2020-05-12 04:45:51   \n",
       "\n",
       "                                           title_tokens  \\\n",
       "1566  ['your', 'blinks', 'are', 'perfectly', 'in', '...   \n",
       "1567  ['you', 'can', 'fall', 'asleep', 'anytime', 'y...   \n",
       "1568  ['you', 'get', 'a', 'second', 'try', 'at', 'li...   \n",
       "\n",
       "                                       title_tokens_str  \\\n",
       "1566  your blinks are perfectly in sync with whoever...   \n",
       "1567  you can fall asleep anytime you want but your ...   \n",
       "1568  you get a second try at life with all your mem...   \n",
       "\n",
       "                                      title_tokens_lemm  \\\n",
       "1566  your blink are perfectly in sync with whoever ...   \n",
       "1567  you can fall asleep anytime you want but your ...   \n",
       "1568  you get a second try at life with all your mem...   \n",
       "\n",
       "                                      title_tokens_stem  is_over_18  \\\n",
       "1566  your blink are perfectli in sync with whoever ...           0   \n",
       "1567  you can fall asleep anytim you want but your b...           0   \n",
       "1568  you get a second tri at life with all your mem...           0   \n",
       "\n",
       "     time_of_day  \n",
       "1566       night  \n",
       "1567        noon  \n",
       "1568    midnight  \n",
       "\n",
       "[3 rows x 116 columns]"
      ]
     },
     "execution_count": 200,
     "metadata": {},
     "output_type": "execute_result"
    }
   ],
   "source": [
    "sp_merged_unseen.head(3) # recall unseen test set"
   ]
  },
  {
   "cell_type": "code",
   "execution_count": 201,
   "metadata": {},
   "outputs": [
    {
     "data": {
      "text/plain": [
       "(389, 116)"
      ]
     },
     "execution_count": 201,
     "metadata": {},
     "output_type": "execute_result"
    }
   ],
   "source": [
    "sp_merged_unseen.shape"
   ]
  },
  {
   "cell_type": "code",
   "execution_count": 202,
   "metadata": {},
   "outputs": [],
   "source": [
    "# split training and test sets into X features and y target\n",
    "features = [\"title_tokens_stem\", \"ups\"]\n",
    "X_train = sp_merged_train[features] # train model on full training data set\n",
    "y_train = sp_merged_train[\"is_shitty\"]\n",
    "X_test = sp_merged_unseen[features]\n",
    "y_test = sp_merged_unseen[\"is_shitty\"]"
   ]
  },
  {
   "cell_type": "code",
   "execution_count": 203,
   "metadata": {},
   "outputs": [],
   "source": [
    "# instantiate CountVectorizer using best hyper params as considered above\n",
    "cvec = CountVectorizer(stop_words=\"english\",\n",
    "                       max_df=0.9,\n",
    "                       min_df=2,\n",
    "                       max_features=250, # limit selected features to 250\n",
    "                       ngram_range=(1,2))"
   ]
  },
  {
   "cell_type": "code",
   "execution_count": 204,
   "metadata": {},
   "outputs": [],
   "source": [
    "# vectorise posts in training and unseen test sets\n",
    "X_train_cvec = cvec.fit_transform(X_train[\"title_tokens_stem\"])\n",
    "X_test_cvec = cvec.transform(X_test[\"title_tokens_stem\"])"
   ]
  },
  {
   "cell_type": "code",
   "execution_count": 205,
   "metadata": {},
   "outputs": [
    {
     "name": "stdout",
     "output_type": "stream",
     "text": [
      "X_train_weighted is a <class 'scipy.sparse.csr.csr_matrix'>\n",
      "X_test_weighted is a <class 'scipy.sparse.csr.csr_matrix'>\n"
     ]
    }
   ],
   "source": [
    "# to preserve sparsity of X\n",
    "\n",
    "# create diagonal matrix using values from \"ups\" as weights\n",
    "weights_train = X_train[\"ups\"]\n",
    "W_train = sp.diags(weights_train.values)\n",
    "weights_test = X_test[\"ups\"]\n",
    "W_test = sp.diags(weights_test.values)\n",
    "\n",
    "# dot product between X and W, multiply each row with corresponding weight/upvotes\n",
    "X_train_weighted = W_train.dot(X_train_cvec)\n",
    "X_test_weighted = W_test.dot(X_test_cvec)\n",
    "\n",
    "# ensure still a sparse matrix\n",
    "print(\"X_train_weighted is a\", type(X_train_weighted))\n",
    "print(\"X_test_weighted is a\", type(X_test_weighted))"
   ]
  },
  {
   "cell_type": "code",
   "execution_count": 206,
   "metadata": {},
   "outputs": [],
   "source": [
    "# instantiate MultinomialNB\n",
    "# because alpha has been demonstrated to be negligible when model has only 250 word features, let's set alpha = 1\n",
    "mnb = MultinomialNB(alpha=1)"
   ]
  },
  {
   "cell_type": "code",
   "execution_count": 207,
   "metadata": {
    "scrolled": true
   },
   "outputs": [
    {
     "name": "stdout",
     "output_type": "stream",
     "text": [
      "Model scored on training set: 0.708\n",
      "Model scored on test set: 0.674\n",
      "There is a score gap between training and test sets of 0.034\n"
     ]
    }
   ],
   "source": [
    "# fit and transform\n",
    "mnb.fit(X_train_cvec, y_train)\n",
    "\n",
    "# score model\n",
    "train_score = mnb.score(X_train_cvec, y_train)\n",
    "test_score = mnb.score(X_test_cvec, y_test)\n",
    "print(\"Model scored on training set:\", round(train_score, 3))\n",
    "print(\"Model scored on test set:\", round(test_score, 3))\n",
    "print(\"There is a score gap between training and test sets of\", round((train_score-test_score), 3))"
   ]
  },
  {
   "cell_type": "code",
   "execution_count": 208,
   "metadata": {},
   "outputs": [],
   "source": [
    "# dropping one row had no effect on the scores\n",
    "# Model 04_1 performed just as well as Model 03"
   ]
  },
  {
   "cell_type": "markdown",
   "metadata": {},
   "source": [
    "#### Model 04_2: non-NLP Logistic Regression"
   ]
  },
  {
   "cell_type": "code",
   "execution_count": 209,
   "metadata": {},
   "outputs": [
    {
     "data": {
      "text/html": [
       "<div>\n",
       "<style scoped>\n",
       "    .dataframe tbody tr th:only-of-type {\n",
       "        vertical-align: middle;\n",
       "    }\n",
       "\n",
       "    .dataframe tbody tr th {\n",
       "        vertical-align: top;\n",
       "    }\n",
       "\n",
       "    .dataframe thead th {\n",
       "        text-align: right;\n",
       "    }\n",
       "</style>\n",
       "<table border=\"1\" class=\"dataframe\">\n",
       "  <thead>\n",
       "    <tr style=\"text-align: right;\">\n",
       "      <th></th>\n",
       "      <th>approved_at_utc</th>\n",
       "      <th>subreddit</th>\n",
       "      <th>selftext</th>\n",
       "      <th>author_fullname</th>\n",
       "      <th>saved</th>\n",
       "      <th>mod_reason_title</th>\n",
       "      <th>gilded</th>\n",
       "      <th>clicked</th>\n",
       "      <th>title</th>\n",
       "      <th>link_flair_richtext</th>\n",
       "      <th>...</th>\n",
       "      <th>crosspost_parent</th>\n",
       "      <th>is_shitty</th>\n",
       "      <th>title_censored</th>\n",
       "      <th>pacific_st_created</th>\n",
       "      <th>title_tokens</th>\n",
       "      <th>title_tokens_str</th>\n",
       "      <th>title_tokens_lemm</th>\n",
       "      <th>title_tokens_stem</th>\n",
       "      <th>is_over_18</th>\n",
       "      <th>time_of_day</th>\n",
       "    </tr>\n",
       "  </thead>\n",
       "  <tbody>\n",
       "    <tr>\n",
       "      <th>0</th>\n",
       "      <td>NaN</td>\n",
       "      <td>shittysuperpowers</td>\n",
       "      <td>you can't turn back</td>\n",
       "      <td>t2_76n67</td>\n",
       "      <td>False</td>\n",
       "      <td>NaN</td>\n",
       "      <td>0</td>\n",
       "      <td>False</td>\n",
       "      <td>you can turn into a goose, once</td>\n",
       "      <td>[]</td>\n",
       "      <td>...</td>\n",
       "      <td>NaN</td>\n",
       "      <td>1</td>\n",
       "      <td>you can turn into a goose, once</td>\n",
       "      <td>2018-05-07 18:43:50</td>\n",
       "      <td>['you', 'can', 'turn', 'into', 'a', 'goose', '...</td>\n",
       "      <td>you can turn into a goose once</td>\n",
       "      <td>you can turn into a goose once</td>\n",
       "      <td>you can turn into a goos onc</td>\n",
       "      <td>0</td>\n",
       "      <td>noon</td>\n",
       "    </tr>\n",
       "    <tr>\n",
       "      <th>1</th>\n",
       "      <td>NaN</td>\n",
       "      <td>shittysuperpowers</td>\n",
       "      <td>NaN</td>\n",
       "      <td>t2_66d4bkr</td>\n",
       "      <td>False</td>\n",
       "      <td>NaN</td>\n",
       "      <td>0</td>\n",
       "      <td>False</td>\n",
       "      <td>You can punch with half the strength of someon...</td>\n",
       "      <td>[]</td>\n",
       "      <td>...</td>\n",
       "      <td>NaN</td>\n",
       "      <td>1</td>\n",
       "      <td>you can punch with half the strength of someon...</td>\n",
       "      <td>2018-05-07 21:42:12</td>\n",
       "      <td>['you', 'can', 'punch', 'with', 'half', 'the',...</td>\n",
       "      <td>you can punch with half the strength of someon...</td>\n",
       "      <td>you can punch with half the strength of someon...</td>\n",
       "      <td>you can punch with half the strength of someon...</td>\n",
       "      <td>0</td>\n",
       "      <td>night</td>\n",
       "    </tr>\n",
       "    <tr>\n",
       "      <th>2</th>\n",
       "      <td>NaN</td>\n",
       "      <td>shittysuperpowers</td>\n",
       "      <td>NaN</td>\n",
       "      <td>t2_20p7w7s</td>\n",
       "      <td>False</td>\n",
       "      <td>NaN</td>\n",
       "      <td>1</td>\n",
       "      <td>False</td>\n",
       "      <td>You can unpee.</td>\n",
       "      <td>[]</td>\n",
       "      <td>...</td>\n",
       "      <td>NaN</td>\n",
       "      <td>1</td>\n",
       "      <td>you can unpee.</td>\n",
       "      <td>2018-06-17 17:35:10</td>\n",
       "      <td>['you', 'can', 'unpee']</td>\n",
       "      <td>you can unpee</td>\n",
       "      <td>you can unpee</td>\n",
       "      <td>you can unpe</td>\n",
       "      <td>0</td>\n",
       "      <td>noon</td>\n",
       "    </tr>\n",
       "  </tbody>\n",
       "</table>\n",
       "<p>3 rows × 116 columns</p>\n",
       "</div>"
      ],
      "text/plain": [
       "   approved_at_utc          subreddit             selftext author_fullname  \\\n",
       "0              NaN  shittysuperpowers  you can't turn back        t2_76n67   \n",
       "1              NaN  shittysuperpowers                  NaN      t2_66d4bkr   \n",
       "2              NaN  shittysuperpowers                  NaN      t2_20p7w7s   \n",
       "\n",
       "   saved  mod_reason_title  gilded  clicked  \\\n",
       "0  False               NaN       0    False   \n",
       "1  False               NaN       0    False   \n",
       "2  False               NaN       1    False   \n",
       "\n",
       "                                               title link_flair_richtext  ...  \\\n",
       "0                    you can turn into a goose, once                  []  ...   \n",
       "1  You can punch with half the strength of someon...                  []  ...   \n",
       "2                                     You can unpee.                  []  ...   \n",
       "\n",
       "  crosspost_parent  is_shitty  \\\n",
       "0              NaN          1   \n",
       "1              NaN          1   \n",
       "2              NaN          1   \n",
       "\n",
       "                                      title_censored   pacific_st_created  \\\n",
       "0                    you can turn into a goose, once  2018-05-07 18:43:50   \n",
       "1  you can punch with half the strength of someon...  2018-05-07 21:42:12   \n",
       "2                                     you can unpee.  2018-06-17 17:35:10   \n",
       "\n",
       "                                        title_tokens  \\\n",
       "0  ['you', 'can', 'turn', 'into', 'a', 'goose', '...   \n",
       "1  ['you', 'can', 'punch', 'with', 'half', 'the',...   \n",
       "2                            ['you', 'can', 'unpee']   \n",
       "\n",
       "                                    title_tokens_str  \\\n",
       "0                     you can turn into a goose once   \n",
       "1  you can punch with half the strength of someon...   \n",
       "2                                      you can unpee   \n",
       "\n",
       "                                   title_tokens_lemm  \\\n",
       "0                     you can turn into a goose once   \n",
       "1  you can punch with half the strength of someon...   \n",
       "2                                      you can unpee   \n",
       "\n",
       "                                   title_tokens_stem  is_over_18 time_of_day  \n",
       "0                       you can turn into a goos onc           0        noon  \n",
       "1  you can punch with half the strength of someon...           0       night  \n",
       "2                                       you can unpe           0        noon  \n",
       "\n",
       "[3 rows x 116 columns]"
      ]
     },
     "execution_count": 209,
     "metadata": {},
     "output_type": "execute_result"
    }
   ],
   "source": [
    "sp_merged_sel.head(3)"
   ]
  },
  {
   "cell_type": "code",
   "execution_count": 210,
   "metadata": {},
   "outputs": [],
   "source": [
    "# extract selected and engineered features\n",
    "features = [\"ups\", \"upvote_ratio\", \"total_awards_received\", \"is_over_18\", \"num_comments\", \"time_of_day\"]\n",
    "# split training and test sets into X features and y target\n",
    "X_train = sp_merged_train[features] # train model on full training data set\n",
    "y_train = sp_merged_train[\"is_shitty\"]\n",
    "X_test = sp_merged_unseen[features]\n",
    "y_test = sp_merged_unseen[\"is_shitty\"]"
   ]
  },
  {
   "cell_type": "code",
   "execution_count": 211,
   "metadata": {},
   "outputs": [],
   "source": [
    "# dummy out \"time_of_day\"\n",
    "X_train = pd.get_dummies(X_train, columns=[\"time_of_day\"])\n",
    "X_test = pd.get_dummies(X_test, columns=[\"time_of_day\"])"
   ]
  },
  {
   "cell_type": "code",
   "execution_count": 212,
   "metadata": {},
   "outputs": [
    {
     "name": "stdout",
     "output_type": "stream",
     "text": [
      "CV score for Logistic Regression: 0.716\n",
      "CV score for k-Nearest Neighbours: 0.715\n",
      "CV score for Multinomial NB: 0.568\n"
     ]
    }
   ],
   "source": [
    "# use custom function to eval across 3 types of classifiers\n",
    "cross_val_classifiers(X_train, y_train, cv=4)"
   ]
  },
  {
   "cell_type": "code",
   "execution_count": 213,
   "metadata": {},
   "outputs": [],
   "source": [
    "# LogisticRegression performed the best followed closely by kNN\n",
    "# MultinomialNB performed very poorly"
   ]
  },
  {
   "cell_type": "code",
   "execution_count": 214,
   "metadata": {},
   "outputs": [],
   "source": [
    "# instantiate logistic regression with elastic net so we can grid search across a range of \"l1_ratio\"\n",
    "lr = LogisticRegression(penalty=\"elasticnet\", solver=\"saga\")"
   ]
  },
  {
   "cell_type": "code",
   "execution_count": 215,
   "metadata": {},
   "outputs": [],
   "source": [
    "# scale features matrices\n",
    "ss = StandardScaler()\n",
    "X_train_ss = ss.fit_transform(X_train)\n",
    "X_test_ss = ss.transform(X_test)"
   ]
  },
  {
   "cell_type": "code",
   "execution_count": 216,
   "metadata": {},
   "outputs": [],
   "source": [
    "# let's tune the hyper parameters for logistic regression\n",
    "params = {\n",
    "    \"C\": np.linspace(0.001,1,5),\n",
    "    \"l1_ratio\": np.linspace(0,1,5)\n",
    "}"
   ]
  },
  {
   "cell_type": "code",
   "execution_count": 217,
   "metadata": {},
   "outputs": [
    {
     "name": "stderr",
     "output_type": "stream",
     "text": [
      "C:\\Users\\yewto\\anaconda3\\lib\\site-packages\\sklearn\\linear_model\\_sag.py:329: ConvergenceWarning: The max_iter was reached which means the coef_ did not converge\n",
      "  warnings.warn(\"The max_iter was reached which means \"\n",
      "C:\\Users\\yewto\\anaconda3\\lib\\site-packages\\sklearn\\linear_model\\_sag.py:329: ConvergenceWarning: The max_iter was reached which means the coef_ did not converge\n",
      "  warnings.warn(\"The max_iter was reached which means \"\n",
      "C:\\Users\\yewto\\anaconda3\\lib\\site-packages\\sklearn\\linear_model\\_sag.py:329: ConvergenceWarning: The max_iter was reached which means the coef_ did not converge\n",
      "  warnings.warn(\"The max_iter was reached which means \"\n",
      "C:\\Users\\yewto\\anaconda3\\lib\\site-packages\\sklearn\\linear_model\\_sag.py:329: ConvergenceWarning: The max_iter was reached which means the coef_ did not converge\n",
      "  warnings.warn(\"The max_iter was reached which means \"\n",
      "C:\\Users\\yewto\\anaconda3\\lib\\site-packages\\sklearn\\linear_model\\_sag.py:329: ConvergenceWarning: The max_iter was reached which means the coef_ did not converge\n",
      "  warnings.warn(\"The max_iter was reached which means \"\n",
      "C:\\Users\\yewto\\anaconda3\\lib\\site-packages\\sklearn\\linear_model\\_sag.py:329: ConvergenceWarning: The max_iter was reached which means the coef_ did not converge\n",
      "  warnings.warn(\"The max_iter was reached which means \"\n",
      "C:\\Users\\yewto\\anaconda3\\lib\\site-packages\\sklearn\\linear_model\\_sag.py:329: ConvergenceWarning: The max_iter was reached which means the coef_ did not converge\n",
      "  warnings.warn(\"The max_iter was reached which means \"\n",
      "C:\\Users\\yewto\\anaconda3\\lib\\site-packages\\sklearn\\linear_model\\_sag.py:329: ConvergenceWarning: The max_iter was reached which means the coef_ did not converge\n",
      "  warnings.warn(\"The max_iter was reached which means \"\n",
      "C:\\Users\\yewto\\anaconda3\\lib\\site-packages\\sklearn\\linear_model\\_sag.py:329: ConvergenceWarning: The max_iter was reached which means the coef_ did not converge\n",
      "  warnings.warn(\"The max_iter was reached which means \"\n",
      "C:\\Users\\yewto\\anaconda3\\lib\\site-packages\\sklearn\\linear_model\\_sag.py:329: ConvergenceWarning: The max_iter was reached which means the coef_ did not converge\n",
      "  warnings.warn(\"The max_iter was reached which means \"\n",
      "C:\\Users\\yewto\\anaconda3\\lib\\site-packages\\sklearn\\linear_model\\_sag.py:329: ConvergenceWarning: The max_iter was reached which means the coef_ did not converge\n",
      "  warnings.warn(\"The max_iter was reached which means \"\n",
      "C:\\Users\\yewto\\anaconda3\\lib\\site-packages\\sklearn\\linear_model\\_sag.py:329: ConvergenceWarning: The max_iter was reached which means the coef_ did not converge\n",
      "  warnings.warn(\"The max_iter was reached which means \"\n",
      "C:\\Users\\yewto\\anaconda3\\lib\\site-packages\\sklearn\\linear_model\\_sag.py:329: ConvergenceWarning: The max_iter was reached which means the coef_ did not converge\n",
      "  warnings.warn(\"The max_iter was reached which means \"\n",
      "C:\\Users\\yewto\\anaconda3\\lib\\site-packages\\sklearn\\linear_model\\_sag.py:329: ConvergenceWarning: The max_iter was reached which means the coef_ did not converge\n",
      "  warnings.warn(\"The max_iter was reached which means \"\n",
      "C:\\Users\\yewto\\anaconda3\\lib\\site-packages\\sklearn\\linear_model\\_sag.py:329: ConvergenceWarning: The max_iter was reached which means the coef_ did not converge\n",
      "  warnings.warn(\"The max_iter was reached which means \"\n",
      "C:\\Users\\yewto\\anaconda3\\lib\\site-packages\\sklearn\\linear_model\\_sag.py:329: ConvergenceWarning: The max_iter was reached which means the coef_ did not converge\n",
      "  warnings.warn(\"The max_iter was reached which means \"\n",
      "C:\\Users\\yewto\\anaconda3\\lib\\site-packages\\sklearn\\linear_model\\_sag.py:329: ConvergenceWarning: The max_iter was reached which means the coef_ did not converge\n",
      "  warnings.warn(\"The max_iter was reached which means \"\n",
      "C:\\Users\\yewto\\anaconda3\\lib\\site-packages\\sklearn\\linear_model\\_sag.py:329: ConvergenceWarning: The max_iter was reached which means the coef_ did not converge\n",
      "  warnings.warn(\"The max_iter was reached which means \"\n"
     ]
    },
    {
     "data": {
      "text/plain": [
       "GridSearchCV(cv=4,\n",
       "             estimator=LogisticRegression(penalty='elasticnet', solver='saga'),\n",
       "             param_grid={'C': array([0.001  , 0.25075, 0.5005 , 0.75025, 1.     ]),\n",
       "                         'l1_ratio': array([0.  , 0.25, 0.5 , 0.75, 1.  ])})"
      ]
     },
     "execution_count": 217,
     "metadata": {},
     "output_type": "execute_result"
    }
   ],
   "source": [
    "gs = GridSearchCV(estimator=lr, param_grid=params, cv=4)\n",
    "gs.fit(X_train_ss, y_train)"
   ]
  },
  {
   "cell_type": "code",
   "execution_count": 218,
   "metadata": {},
   "outputs": [
    {
     "data": {
      "text/plain": [
       "{'C': 0.001, 'l1_ratio': 0.0}"
      ]
     },
     "execution_count": 218,
     "metadata": {},
     "output_type": "execute_result"
    }
   ],
   "source": [
    "gs.best_params_"
   ]
  },
  {
   "cell_type": "code",
   "execution_count": 219,
   "metadata": {},
   "outputs": [],
   "source": [
    "# best parameters from grid searching resulted in a very low C (very high alpha)\n",
    "# and an l1_ratio of 0 - effectively an l2 penalty"
   ]
  },
  {
   "cell_type": "code",
   "execution_count": 220,
   "metadata": {},
   "outputs": [
    {
     "name": "stdout",
     "output_type": "stream",
     "text": [
      "Model scored on training set: 0.738\n",
      "Model scored on test set: 0.812\n",
      "There is a score gap between training and test sets of -0.075\n"
     ]
    }
   ],
   "source": [
    "# instantiate log reg according to the best params, and fit\n",
    "lr_small = LogisticRegression(penalty=\"l2\", solver=\"liblinear\", C=0.001)\n",
    "lr_small.fit(X_train_ss, y_train)\n",
    "\n",
    "# score model\n",
    "train_score = lr_small.score(X_train_ss, y_train)\n",
    "test_score = lr_small.score(X_test_ss, y_test)\n",
    "print(\"Model scored on training set:\", round(train_score, 3))\n",
    "print(\"Model scored on test set:\", round(test_score, 3))\n",
    "print(\"There is a score gap between training and test sets of\", round((train_score-test_score), 3))"
   ]
  },
  {
   "cell_type": "code",
   "execution_count": 221,
   "metadata": {},
   "outputs": [],
   "source": [
    "# Model 04_2 performed decently\n",
    "# since it scored 7.5% better on its test set than on its training set, model is underfitting to training set\n",
    "# it may be good as it performed better on unseen data\n",
    "### but the score gap is pretty substantial, which draws doubts to its generalisation performance with other unseen data"
   ]
  },
  {
   "cell_type": "code",
   "execution_count": 222,
   "metadata": {},
   "outputs": [
    {
     "name": "stdout",
     "output_type": "stream",
     "text": [
      "Model scored on training set: 0.728\n",
      "Model scored on test set: 0.774\n",
      "There is a score gap between training and test sets of -0.046\n"
     ]
    }
   ],
   "source": [
    "# instantiate log reg with a smaller C\n",
    "lr_smaller = LogisticRegression(penalty=\"l2\", solver=\"liblinear\", C=0.0001)\n",
    "lr_smaller.fit(X_train_ss, y_train)\n",
    "\n",
    "# score model\n",
    "train_score = lr_smaller.score(X_train_ss, y_train)\n",
    "test_score = lr_smaller.score(X_test_ss, y_test)\n",
    "print(\"Model scored on training set:\", round(train_score, 3))\n",
    "print(\"Model scored on test set:\", round(test_score, 3))\n",
    "print(\"There is a score gap between training and test sets of\", round((train_score-test_score), 3))"
   ]
  },
  {
   "cell_type": "code",
   "execution_count": 223,
   "metadata": {},
   "outputs": [],
   "source": [
    "# even with a smaller C, Model 04_2 is still scoring better on the test set than on the training set\n",
    "# however, the score gap has closed to 4.6% at the expense (loss of 3.8%) of test set accuracy"
   ]
  },
  {
   "cell_type": "markdown",
   "metadata": {},
   "source": [
    "#### Model 04: Hybrid Performance"
   ]
  },
  {
   "cell_type": "code",
   "execution_count": 224,
   "metadata": {},
   "outputs": [],
   "source": [
    "# because we are building a hybrid model\n",
    "# the higher variance of Model 04_2 should not be too big a problem when weighted against our NLP Model 04_1\n",
    "# let's proceed with lr_small with C = 0.001\n",
    "\n",
    "# extract prediction probabilities from our non-NLP model\n",
    "# because probabilites are arranged in order of classes, and we are predicting for \"is_shitty\"\n",
    "# we therefore want the probabilities at column position 1\n",
    "non_nlp_proba = lr_small.predict_proba(X_test_ss)[:, 1]"
   ]
  },
  {
   "cell_type": "code",
   "execution_count": 225,
   "metadata": {},
   "outputs": [],
   "source": [
    "# extract prediction probabilities from our NLP model\n",
    "nlp_proba = mnb.predict_proba(X_test_cvec)[:, 1]"
   ]
  },
  {
   "cell_type": "code",
   "execution_count": 226,
   "metadata": {},
   "outputs": [
    {
     "data": {
      "text/html": [
       "<div>\n",
       "<style scoped>\n",
       "    .dataframe tbody tr th:only-of-type {\n",
       "        vertical-align: middle;\n",
       "    }\n",
       "\n",
       "    .dataframe tbody tr th {\n",
       "        vertical-align: top;\n",
       "    }\n",
       "\n",
       "    .dataframe thead th {\n",
       "        text-align: right;\n",
       "    }\n",
       "</style>\n",
       "<table border=\"1\" class=\"dataframe\">\n",
       "  <thead>\n",
       "    <tr style=\"text-align: right;\">\n",
       "      <th></th>\n",
       "      <th>y_test</th>\n",
       "      <th>nlp_proba</th>\n",
       "      <th>non_nlp_proba</th>\n",
       "    </tr>\n",
       "  </thead>\n",
       "  <tbody>\n",
       "    <tr>\n",
       "      <th>0</th>\n",
       "      <td>1</td>\n",
       "      <td>0.517930</td>\n",
       "      <td>0.532820</td>\n",
       "    </tr>\n",
       "    <tr>\n",
       "      <th>1</th>\n",
       "      <td>0</td>\n",
       "      <td>0.103464</td>\n",
       "      <td>0.506768</td>\n",
       "    </tr>\n",
       "    <tr>\n",
       "      <th>2</th>\n",
       "      <td>0</td>\n",
       "      <td>0.653609</td>\n",
       "      <td>0.467163</td>\n",
       "    </tr>\n",
       "  </tbody>\n",
       "</table>\n",
       "</div>"
      ],
      "text/plain": [
       "   y_test  nlp_proba  non_nlp_proba\n",
       "0       1   0.517930       0.532820\n",
       "1       0   0.103464       0.506768\n",
       "2       0   0.653609       0.467163"
      ]
     },
     "execution_count": 226,
     "metadata": {},
     "output_type": "execute_result"
    }
   ],
   "source": [
    "# zip and create dataframe matching predicted probabilities from NLP model to actual y_test target values\n",
    "df_results = pd.DataFrame(zip(y_test, nlp_proba, non_nlp_proba), columns=[\"y_test\", \"nlp_proba\", \"non_nlp_proba\"])\n",
    "df_results.head(3)"
   ]
  },
  {
   "cell_type": "code",
   "execution_count": 227,
   "metadata": {},
   "outputs": [],
   "source": [
    "# create new col for mean probability of both models\n",
    "df_results[\"mean_proba\"] = df_results[[\"nlp_proba\", \"non_nlp_proba\"]].T.mean()"
   ]
  },
  {
   "cell_type": "code",
   "execution_count": 228,
   "metadata": {},
   "outputs": [],
   "source": [
    "# create new col for predicted y values\n",
    "df_results[\"y_pred\"] = round(df_results[\"mean_proba\"]).astype(int)"
   ]
  },
  {
   "cell_type": "code",
   "execution_count": 229,
   "metadata": {},
   "outputs": [
    {
     "data": {
      "text/html": [
       "<div>\n",
       "<style scoped>\n",
       "    .dataframe tbody tr th:only-of-type {\n",
       "        vertical-align: middle;\n",
       "    }\n",
       "\n",
       "    .dataframe tbody tr th {\n",
       "        vertical-align: top;\n",
       "    }\n",
       "\n",
       "    .dataframe thead th {\n",
       "        text-align: right;\n",
       "    }\n",
       "</style>\n",
       "<table border=\"1\" class=\"dataframe\">\n",
       "  <thead>\n",
       "    <tr style=\"text-align: right;\">\n",
       "      <th></th>\n",
       "      <th>y_test</th>\n",
       "      <th>nlp_proba</th>\n",
       "      <th>non_nlp_proba</th>\n",
       "      <th>mean_proba</th>\n",
       "      <th>y_pred</th>\n",
       "    </tr>\n",
       "  </thead>\n",
       "  <tbody>\n",
       "    <tr>\n",
       "      <th>0</th>\n",
       "      <td>1</td>\n",
       "      <td>0.517930</td>\n",
       "      <td>0.532820</td>\n",
       "      <td>0.525375</td>\n",
       "      <td>1</td>\n",
       "    </tr>\n",
       "    <tr>\n",
       "      <th>1</th>\n",
       "      <td>0</td>\n",
       "      <td>0.103464</td>\n",
       "      <td>0.506768</td>\n",
       "      <td>0.305116</td>\n",
       "      <td>0</td>\n",
       "    </tr>\n",
       "    <tr>\n",
       "      <th>2</th>\n",
       "      <td>0</td>\n",
       "      <td>0.653609</td>\n",
       "      <td>0.467163</td>\n",
       "      <td>0.560386</td>\n",
       "      <td>1</td>\n",
       "    </tr>\n",
       "  </tbody>\n",
       "</table>\n",
       "</div>"
      ],
      "text/plain": [
       "   y_test  nlp_proba  non_nlp_proba  mean_proba  y_pred\n",
       "0       1   0.517930       0.532820    0.525375       1\n",
       "1       0   0.103464       0.506768    0.305116       0\n",
       "2       0   0.653609       0.467163    0.560386       1"
      ]
     },
     "execution_count": 229,
     "metadata": {},
     "output_type": "execute_result"
    }
   ],
   "source": [
    "df_results.head(3)"
   ]
  },
  {
   "cell_type": "code",
   "execution_count": 230,
   "metadata": {},
   "outputs": [
    {
     "data": {
      "text/plain": [
       "array([[151,  66],\n",
       "       [ 53, 119]], dtype=int64)"
      ]
     },
     "execution_count": 230,
     "metadata": {},
     "output_type": "execute_result"
    }
   ],
   "source": [
    "confusion_matrix(y_test, df_results[\"y_pred\"].values)"
   ]
  },
  {
   "cell_type": "markdown",
   "metadata": {},
   "source": [
    "|*Confusion Matrix*|Predicted Negatives|Predicted Positives*|\n",
    "|---|---|---|\n",
    "|**Actual Negatives**|151|66|\n",
    "|**Actual Positives**|53|119|\n",
    "\n",
    "<p style=\"text-align:right;\"><sup>*Predict for <i>r/shittysuperpowers</i></sup></p>"
   ]
  },
  {
   "cell_type": "code",
   "execution_count": 231,
   "metadata": {},
   "outputs": [],
   "source": [
    "tn, fp, fn, tp = confusion_matrix(y_test, df_results[\"y_pred\"].values).ravel()"
   ]
  },
  {
   "cell_type": "code",
   "execution_count": 232,
   "metadata": {},
   "outputs": [
    {
     "name": "stdout",
     "output_type": "stream",
     "text": [
      "True Negatives: 151\n",
      "False Positives: 66\n",
      "False Negatives: 53\n",
      "True Positives: 119\n"
     ]
    }
   ],
   "source": [
    "print(\"True Negatives: %s\" % tn)\n",
    "print(\"False Positives: %s\" % fp)\n",
    "print(\"False Negatives: %s\" % fn)\n",
    "print(\"True Positives: %s\" % tp)"
   ]
  },
  {
   "cell_type": "code",
   "execution_count": 233,
   "metadata": {},
   "outputs": [
    {
     "name": "stdout",
     "output_type": "stream",
     "text": [
      "Accuracy: 0.694\n",
      "Recall: 0.692\n",
      "Specificity: 0.696\n"
     ]
    }
   ],
   "source": [
    "recall = tp / (tp + fn) # ratio of predicted positives to all positives\n",
    "specificity = tn / (tn + fp) # ratio of predicted negatives to all negatives\n",
    "accuracy = (tp + tn) / (tp + fp + tn + fn) # ratio of correct predictions to total predictions\n",
    "print(\"Accuracy:\", round(accuracy, 3))\n",
    "print(\"Recall:\", round(recall, 3))\n",
    "print(\"Specificity:\", round(specificity, 3))"
   ]
  },
  {
   "cell_type": "code",
   "execution_count": 234,
   "metadata": {},
   "outputs": [],
   "source": [
    "# there is an improvement in the misclassification rate whereby false positives were cut\n",
    "# and true negatives were more accurately predicted\n",
    "### we can observe this as well in the better specificity score in Model 04 as compared to Model 02"
   ]
  },
  {
   "cell_type": "code",
   "execution_count": 235,
   "metadata": {
    "scrolled": false
   },
   "outputs": [
    {
     "data": {
      "image/png": "[encoded data removed]",
      "text/plain": [
       "<Figure size 864x576 with 1 Axes>"
      ]
     },
     "metadata": {
      "image/png": {
       "height": 497,
       "width": 798
      },
      "needs_background": "light"
     },
     "output_type": "display_data"
    }
   ],
   "source": [
    "# Create figure.\n",
    "plt.figure(figsize = (12,8))\n",
    "\n",
    "# Create threshold values. (Dashed red line in image.)\n",
    "thresholds = np.linspace(0, 1, 200)\n",
    "    \n",
    "# Calculate sensitivity & 1-specificity for each threshold between 0 and 1.\n",
    "tpr_values = [TPR(df_results, 'y_test', 'mean_proba', prob) for prob in thresholds]\n",
    "fpr_values = [FPR(df_results, 'y_test', 'mean_proba', prob) for prob in thresholds]\n",
    "\n",
    "# Plot ROC curve.\n",
    "plt.plot(fpr_values, # False Positive Rate on X-axis\n",
    "         tpr_values, # True Positive Rate on Y-axis\n",
    "         label='ROC Curve')\n",
    "\n",
    "# Plot baseline. (Perfect overlap between the two populations.)\n",
    "plt.plot(np.linspace(0, 1, 200),\n",
    "         np.linspace(0, 1, 200),\n",
    "         label='baseline',\n",
    "         linestyle='--')\n",
    "\n",
    "# Label axes.\n",
    "plt.title(f\"ROC Curve with AUC = {round(roc_auc_score(df_results['y_test'], df_results['mean_proba']),3)}\", fontsize=20)\n",
    "plt.ylabel('Sensitivity', fontsize=10)\n",
    "plt.xlabel('1 - Specificity', fontsize=10)\n",
    "\n",
    "# Create legend.\n",
    "plt.legend(fontsize=16)\n",
    "\n",
    "# Save figure\n",
    "plt.savefig(\"../output/roc_auc_04.png\", transparent=True) # save out figure\n",
    "plt.show()"
   ]
  },
  {
   "cell_type": "code",
   "execution_count": 236,
   "metadata": {},
   "outputs": [
    {
     "data": {
      "text/plain": [
       "0.7500267924123887"
      ]
     },
     "execution_count": 236,
     "metadata": {},
     "output_type": "execute_result"
    }
   ],
   "source": [
    "roc_auc_score(y_test, df_results['mean_proba'])"
   ]
  },
  {
   "cell_type": "code",
   "execution_count": 237,
   "metadata": {},
   "outputs": [],
   "source": [
    "# Model 04 is built as a hybrid of two models\n",
    "### Model 03 trained on word features\n",
    "### and a LogisticRegression model trained on non-NLP features\n",
    "# ROC-AUC is highest out of all models at 0.75\n",
    "# Model 04 performed 19% better than the baseline count of 50.4% r/shittysuperpowers post\n",
    "# Model 04 test set accuracy performed 2% better than Model 03"
   ]
  },
  {
   "cell_type": "markdown",
   "metadata": {},
   "source": [
    "## Conclusion\n",
    "[Back to Top!](#Contents:)"
   ]
  },
  {
   "cell_type": "markdown",
   "metadata": {},
   "source": [
    "Let us recall our two-parts hypothesis. The first, that both subreddits address in common certain root problems that the described superpowers wishes to tackle. The second, that r/shittysuperpowers (because of its implied consequences that comes with its superpowers) tackle themes/problems that are perceived as generally futile and too big to solve, whereas r/godtiersuperpowers (because of the implied lack of consequences of its superpowers) tackle themes/problems that are perceived more hopefully with an optimism for an eventual positive outcome. In this conclusion, we will demonstrate the possible insights gained from this study."
   ]
  },
  {
   "cell_type": "markdown",
   "metadata": {},
   "source": [
    "#### Tracking Model Performance:\n",
    "\n",
    "|Model No.|Training Accuracy|Test Accuracy|Score Gap|Recall|Specificity|ROC-AUC|\n",
    "|---|---|---|---|---|---|---|\n",
    "|None|-|0.504|-|-|-|-|\n",
    "|01|0.744|0.634|0.110|0.699|0.583|0.677|\n",
    "|02|0.729|0.659|0.070|0.645|0.670|0.709|\n",
    "|03|0.708|0.674|0.033|0.692|0.661|0.720|\n",
    "|04_1|0.708|0.674|0.034|-|-|-|\n",
    "|04_2|0.738|0.812|-0.075|-|-|-|\n",
    "|04|-|0.694|-|0.692|0.696|0.750|"
   ]
  },
  {
   "cell_type": "markdown",
   "metadata": {},
   "source": [
    "After four models and a lot of iteration, we have arrived at a final accuracy score of 69.4%, an `ROC-AUC` of 0.75, and largely similar recall and specificity scores which suggest little bias of our Model 04 for either subreddits. While an accuracy of 69.4% is not ideal, it is telling of the common ideas shared between r/shittysuperpowers and r/godtiersuperpowers, especially after the many iterations to improve the model's performance. This aligns with our understanding that. In fact, we have already observed the limits of a pure NLP model to classify between the two subreddits. Even after stemming word features with `PorterStemmer`, substituting money references (a key theme) with a single word feature, and weighting word features in accordance to upvotes on respective posts, Model 03 improved only a mere 4% from Model 01. It is against such a backdrop that Model 04 was built as a hybrid in order for the model to train on other promising features that are non-NLP, but even that has limited impact.\n",
    "\n",
    "As such, we conclude that it is most likely because of the common thread of problems addressed by either subreddits that led to too few distinct word features that our model can be trained on to distinguish between subreddits. Even so, the weighted distribution of these word features (even in common) can reveal certain insights."
   ]
  },
  {
   "cell_type": "markdown",
   "metadata": {},
   "source": [
    "#### Word Features\n",
    "\n",
    "<img align=\"left\" src=\"../output/word_cloud_03_shit.png\" width=\"300\"/><img align=\"left\" src=\"../output/word_cloud_03_god.png\" width=\"650\"/>"
   ]
  },
  {
   "cell_type": "markdown",
   "metadata": {},
   "source": [
    "However, there are still insights to be gleaned from such an exercise. Above are two weighted word clouds generated from the respective subreddit. The word cloud on the left depicts a collection of word features from r/shittysuperpowers, while the word cloud on the right depicts a collection of word features from r/godtiersuperpowers. There are a few word features that catch our attention immediately. The first two more noticeable words across both word clouds are in fact our engineered features - \"censoredbleeep\" and \"moneymatters\". These word features indicate NSFW words and references to money respectively. It is significant that they appear consistently across both subreddits, suggesting to us the popularity of superpowers that are NSFW in nature or related to money."
   ]
  },
  {
   "cell_type": "markdown",
   "metadata": {},
   "source": [
    "![](../output/bar_god_15.png)\n",
    "![](../output/bar_shit_15.png)"
   ]
  },
  {
   "cell_type": "markdown",
   "metadata": {},
   "source": [
    "#### NSFW\n",
    "\n",
    "For \"censoredbleeep\", this could mean any number of things. It could be something as trivial as swearing (to activate your powers) with/without consequences depending on the subreddit, to something as personal as sexual gratification/frustration, to even something political. The extracted posts listed below all have at least 10,000 upvotes each.\n",
    "\n",
    "- r/godtiersuperpowers:\n",
    "    - Saying \"`censoredbleeep` it\" just before making a decision will automatically yield the best outcome in the situation.\n",
    "    - You have the power to successfully say “`censoredbleeep` the Chinese Government” on Reddit without getting removed.\n",
    "    - Every time you get a random `censoredbleeep`, you get $100,000.\n",
    "\n",
    "\n",
    "- r/shittysuperpowers:\n",
    "    - You can tell if someone is your soulmate with 97% accuracy after having `censoredbleeep` with them on a weekly basis for 20 years.\n",
    "    - Your `censoredbleeep` makes the Windows XP startup sound whenever you get an `censoredbleeep`.\n",
    "    - Whenever you pee, you can rotate your `censoredbleeep` like a hose attachment to change the stream shape.\n",
    "    \n",
    "Through the lens of the second part of our hypothesis, it is interesting to see how NSFW posts differ from either subreddits. In r/godtiersuperpowers, you get a wide range of problems the superpowers attempts to solve - from ensuring always making the best decision, to political worries, to a trivial yet embarassing (if public) situation for any male. In contrast at r/shittysuperpowers, the problems the superpowers aim to solve border more on the banal everyday problems that are either annoying (such as the malfunction in the male restroom) or existential (for example the search for a soulmate) after some time.\n",
    "\n",
    "Therefore, while in common both subreddits are heavily concerned about certain NSFW aspects of life, r/shittysuperpowers revealed to us that the mundane NSFW aspects of life are problems perceived as without much of a viable solution. In contrast, r/godtiersuperpowers reveals to us that certain redditors still hold out hope, for the banality of life and for political change."
   ]
  },
  {
   "cell_type": "markdown",
   "metadata": {},
   "source": [
    "#### Money\n",
    "\n",
    "On the other hand, \"moneymatters\" is substituted everytime there is a reference to money. It could be a numeral prefixed with the dollar sign \"$\", or any vocabulary that refers to money and finance.\n",
    "\n",
    "- r/godtiersuperpowers:\n",
    "    - When you get your paycheck you can watch an ad to double it.\n",
    "    - You can convert video game money into real money, whilst keeping the money in the game.\n",
    "    - Every year, on your birthday, the worth of your weight in gold will be added to your bank account.\n",
    "\n",
    "\n",
    "- r/shittysuperpowers:\n",
    "    - You always have enough cash in your pocket for your change to be \\$420.69.\n",
    "    - Every time you forget about this power, a bear enters the room and hands you \\$150 in cash.\n",
    "    - When you sneeze, £10 is added to your bank account, but you also slightly shit yourself.\n",
    "\n",
    "Scenarios and problems that reference money are often more straightforward than NSFW posts. They often involve getting more money. In r/godtierpowers, these are superpowers with some qualifiers but essentially consequence-free and desirable. These would be the redditors with a more optimistic perspective of financial freedom. But the posts also speak to larger issues such as annoying ads in our heavily digitally-marketed world, or weight problems that could bring you more riches on your birthday. In r/shittysuperpowers, the consequences of the superpowers are often more annoying, which forces you to value the money gained against the inconvenience to decide if it is worth it. However, there are certain superpowers that go a bit deeper than just inconveniencing yourself. For example, the pre-requisite to forget you have a superpower to get free cash from a bear satirises someone living with Alzheimer's. Would he/she be happy with the free cash, or freak out when a bear hands him/her the free cash?\n",
    "\n",
    "Therefore, moeny matters to both subreddits. However, the more perceptive redditors understands that there is no free lunch in the world and factors in the absured cost (from capitulating to ads or living with Alzheimer's) of getting that money. From these examples then, we can understand that redditors are still hopeful about issues such as becoming the product for marketing and data companies or health problems associated with weight, against the other side of the coin where redditors despair more over having enough cash/change and growing old with Alzheimer's."
   ]
  }
 ],
 "metadata": {
  "kernelspec": {
   "display_name": "Python 3",
   "language": "python",
   "name": "python3"
  },
  "language_info": {
   "codemirror_mode": {
    "name": "ipython",
    "version": 3
   },
   "file_extension": ".py",
   "mimetype": "text/x-python",
   "name": "python",
   "nbconvert_exporter": "python",
   "pygments_lexer": "ipython3",
   "version": "3.8.3"
  }
 },
 "nbformat": 4,
 "nbformat_minor": 4
}
